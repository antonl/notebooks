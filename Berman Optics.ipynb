{
 "metadata": {
  "name": ""
 },
 "nbformat": 3,
 "nbformat_minor": 0,
 "worksheets": [
  {
   "cells": [
    {
     "cell_type": "code",
     "collapsed": false,
     "input": [
      "from __future__ import division, print_function\n",
      "import qutip as qt\n",
      "import quantities as q\n",
      "\n",
      "c = q.c\n",
      "q.THz = q.UnitQuantity('terahertz', q.Hz*1e12, symbol='THz')\n",
      "q.nJ = q.UnitQuantity('nanojoule', q.J*1e-9, symbol='nJ')\n",
      "q.MV = q.UnitQuantity('megavolt', q.V*1e6, symbol='MV')\n",
      "%pylab inline"
     ],
     "language": "python",
     "metadata": {},
     "outputs": [
      {
       "output_type": "stream",
       "stream": "stdout",
       "text": [
        "\n",
        "Welcome to pylab, a matplotlib-based Python environment [backend: module://IPython.kernel.zmq.pylab.backend_inline].\n",
        "For more information, type 'help(pylab)'.\n"
       ]
      }
     ],
     "prompt_number": 1
    },
    {
     "cell_type": "markdown",
     "metadata": {},
     "source": [
      "# Quantum Optics Toys\n",
      "\n",
      "I'm going through the Berman QO book to get a handle on the math formalism. This will act as an outline of the process."
     ]
    },
    {
     "cell_type": "markdown",
     "metadata": {},
     "source": [
      "## Chapter 1\n",
      "\n",
      "\n",
      "### Some order of magnitude considerations\n",
      "\n",
      "Optical transitions are on the order of $\\omega_0/2\\pi \\approx 5 \\times 10^{14} \\text{Hz}$."
     ]
    },
    {
     "cell_type": "code",
     "collapsed": false,
     "input": [
      "f = 5e14*q.Hz\n",
      "w0 = 2*q.pi*f*q.radian\n",
      "print('Frequency {0} corresponds to angular freq {1} and wavelength {2}'.format(f.rescale('THz'), \n",
      "    w0.rescale('rad*THz').round(1), (c/f).rescale('nm').round(1))) "
     ],
     "language": "python",
     "metadata": {},
     "outputs": [
      {
       "output_type": "stream",
       "stream": "stdout",
       "text": [
        "Frequency 500.0 THz corresponds to angular freq 3141.6 rad*THz and wavelength 599.6 nm\n"
       ]
      }
     ],
     "prompt_number": 2
    },
    {
     "cell_type": "markdown",
     "metadata": {},
     "source": [
      "Our ability to probe atoms with laser fields is fundamentally limited by the natural linewidth of a given atomic transition. This is related to the rate of spontaneous emission: $\\gamma/2\\pi \\approx 10^7 - 10^8\\,\\text{Hz}$ is a typical value for allowed optical transitions. For \"forbidden\" transitions it can be as low as a Hz. This falls in the class called *homogeneous broadening*. All of the atoms are broadened the same. This corresponds to about $1.2 \\times 10^{-4}\\,\\text{nm}$, so ogilvie lab isn't limited by this.\n",
      "\n",
      "Another homogenous mechanism is *pressure broadening* that occurs due to shifts in energy from collisions. Collisions in a vapor are on the order of $5 \\text{ps}$, and tend to add about $10\\, \\text{MHz per Torr}$( $1.2 \\times 10^{-5}\\,\\text{nm per Torr}$) of pressure to the linewidth.\n",
      "\n",
      "Doppler shifting due to atoms moving around with a velocity given by the Boltzmann distribution (about $500 \\,\\text{m/s}$ at room temperature), proportional to $v/c$. This is about $1\\,\\text{GHz}$.\n",
      "\n",
      "If I'm calculating this correctly, none of these effects actually matter for us. Instead, collisional broadening with the solvent and other effects dominate. This gives us lifetimes on the order of $500\\,\\text{fs}$, which corresponds to "
     ]
    },
    {
     "cell_type": "markdown",
     "metadata": {},
     "source": [
      "### Aside: frequency to wavelength\n",
      "\n",
      "BTW, conversion to wavelength is shady, but you can pretend the interval is \"small\" and centered on the geometric mean. This is a good approximation when the geometric mean of the interval is much larger than the incremental difference. Derivation: \n",
      "\n",
      "$$\\begin{eqnarray}\n",
      "f_1 - f_2 &=& \\Delta f &=& \\left(\\frac{1}{\\lambda_1} - \\frac{1}{\\lambda_2}\\right)c = \\frac{\\lambda_2 - \\lambda_1}{\\lambda_1\\lambda_2}c \\\\\n",
      "\\lambda_2 - \\lambda_1 &=& \\Delta\\lambda & = & \\frac{\\Delta f}{c} \\cdot \\sqrt{\\lambda_1\\lambda_2}^2\\\\\n",
      "\\end{eqnarray}$$\n",
      "\n",
      "There's actually a small caveat for calculating linewidths based on lifetimes as $1/\\tau$. This gives a linewidth for a Lorenzian. For a Gaussian (inhomogenously broadened) transition, this underestimates the width. "
     ]
    },
    {
     "cell_type": "code",
     "collapsed": false,
     "input": [
      "df = 1/(500*q.fs)\n",
      "lamb = sqrt(c/f * c/(f+df))\n",
      "dlamb = df/c * lamb**2\n",
      "print('Frequency width {0} corresponds to wavelength width {1} around {2}'.format(df.rescale('THz'),\n",
      "    dlamb.rescale('nm').round(6), lamb.rescale('nm').round(1)))"
     ],
     "language": "python",
     "metadata": {},
     "outputs": [
      {
       "output_type": "stream",
       "stream": "stdout",
       "text": [
        "Frequency width 2.0 THz corresponds to wavelength width 2.388785 nm around 598.4 nm\n"
       ]
      }
     ],
     "prompt_number": 3
    },
    {
     "cell_type": "markdown",
     "metadata": {},
     "source": [
      "### Maxwell and tricks\n",
      "\n",
      "Ignore magnitization effects but keep polarization effects. If we then assume free space, we can get the wave equation. We can solve this for plane-wave solutions assuming homogenous, frequency invariant susceptibility. That is, susceptibility is a constant given by $\\chi_e = n^2 - 1$\n",
      "\n",
      "You can estimate the electric field amplitude by looking at the time-averaged Poynting vector. For a monochromatic beam this is given by $\\left<S\\right> = \\frac{1}{2} n\\epsilon_0 c \\left | E \\right |^2 $. The interesting point for all of this is that we can estimate the field amplitude from the field intensity by inverting this relation. This looks like $E = \\sqrt{2c\\mu_0 \\left | \\left < S \\right > \\right|} \\approx 27.5 \\sqrt{S}\\ \\text{V/m}$.\n",
      "\n",
      "Now, if we want to get an order of magnitude estimate of the field amplitude for our pulses we can use this relation. Then, we can estimate Rabi frequencies $\\Omega_0 = \\mu_{12}E/\\hbar \\approx ea_0E/\\hbar$ with this field intensity. $a_0$ is Bohr radius and $e$ is the magnitude of the charge of the electron. **Again, this is shady because for pulses the field isn't monochromatic.** "
     ]
    },
    {
     "cell_type": "code",
     "collapsed": false,
     "input": [
      "pt = 12*q.fs # pulse width\n",
      "pe = 10*q.nJ # pulse energy\n",
      "pa = 1*q.mm**2 # focus spot\n",
      "E = sqrt(2*q.c*q.constants.mu_0*pe/pt/pa)\n",
      "Rabi = q.constants.elementary_charge*q.constants.Bohr_radius*E/q.constants.hbar/(2*q.pi)\n",
      "print('With a field magnitude {0}, Rabi frequency is {1}'.format(E.rescale('MV/m').round(3), Rabi.rescale('THz').round(2)))"
     ],
     "language": "python",
     "metadata": {},
     "outputs": [
      {
       "output_type": "stream",
       "stream": "stdout",
       "text": [
        "With a field magnitude 25.058 MV/m, Rabi frequency is 0.32 THz\n"
       ]
      }
     ],
     "prompt_number": 4
    },
    {
     "cell_type": "markdown",
     "metadata": {},
     "source": [
      "## Chapter 2\n",
      "\n",
      "\\left | \\psi(t) \\right >\n",
      "\n",
      "### Review of QM\n",
      "\n",
      "Schr\u00f6dinger notation is the integral notation. A quantum system satisfies the Schr\u00f6dinger equation \n",
      "\n",
      "$$\\frac{d\\psi(t)}{dt} = - \\frac{i}{\\hbar} H \\psi(t)$$\n",
      "\n",
      "If the Hamiltonian is time-independent, then if one can find the eigenstates, the time evolution of each eigenstate is known. With the expansion $\\psi(t) = \\sum_n a_n(t)\\psi_n$ the problem reduces to a first-order differential equation: $i\\hbar\\dot a_n(t) = E_n a_n(t)$. The solution is an exponential.\n",
      "\n",
      "The Dirac notation takes converts this equation into a matrix relation with elements that are determined by the basis chosen. You get $i\\hbar\\mathbf{\\dot a} = \\mathbf{H}\\mathbf{a}$ where $\\mathbf{a}$ and $\\mathbf{H}$ are a vector and matrix. There are precious few systems where you can find the eigenfunctions analytically, but if you can, you're done.\n",
      "\n",
      "For a time-dependent problem, you can split your worries into a part that is time-independent that you (hopefully) can get the eigenfunctions of, and the rest which you call the interaction potential. \n",
      "\n",
      "$$\\mathbf{H}(t) \\equiv \\mathbf{H_0} + \\mathbf{V}(t)$$\n",
      "\n",
      "Then you can expand the solution in a series of the $\\mathbf{H_0}$ eigenfunctions. You get something that looks like this\n",
      "\n",
      "$$i\\hbar\\dot a_n(t) = E_n a_n(t) + \\sum_m V_{nm}(t)\\, a_m(t) \\iff i\\hbar\\mathbf{\\dot a}(t) = \\mathbf{E}\\mathbf{a}(t) + \\mathbf{V}(t)\\mathbf{a}(t)$$\n",
      "\n",
      "One way of interpreting the off-diagonal elements of $\\mathbf{V}$ is that it is inducing transitions or projecting probability density between states. This interpretation only makes sense if the perturbation is comparatively slow. For large perturbations, it doesn't make sense to talk about highly perturbed states because they don't really exist. You need to properly look at the eigenstates of the field-matter system.\n",
      "\n",
      "### Different representations\n",
      "\n",
      "Sometimes it is useful to recast the look of the equations. A common one is the interaction representation, somewhere in between the Sch\u00f6dinger (all time dependence in wavefunctions) and Heisenberg representations (all time dependence in operators). The idea is move the standard field-free time evolution into the wavefunctions themselves. That way, only the field causes a change in the evolution of the new wavefunctions. With no field, the new wavefunctions are stationary. Nice. \n",
      "\n",
      "To do this, reexpand the wavefunction as $\\left | \\psi(t) \\right > = \\sum_n c_n(t)\\exp\\{-iE_n t/\\hbar\\}\\left | n \\right > $. Substituting into the Schr\u00f6dinger equation yields a new differential equation for $c_n(t)$:\n",
      "\n",
      "$$\\begin{align} \n",
      "i\\hbar\\dot c_n(t) &= \\sum_m V_{nm} (t) c_m(t) e^{i \\omega_{nm}t} =  \\sum_m \\left [ V^I (t) \\right ]_{nm} c_m(t) \\\\\n",
      "i\\hbar\\mathbf{\\dot c}(t) &= \\mathbf{V}^I \\mathbf{c}(t) \\\\\n",
      "\\end{align}$$ \n",
      "\n",
      "We want to find out what the relationship between $a_n$ and $c_n$ is. As it turns out, $a_n = \\exp\\{-iE_n t/\\hbar\\} c_n(t)$. In the Dirac picture, this is a diagonal matrix (in the energy basis) that represents the propagation of the wavefunctions on the time-independent Hamiltonian $H_0$. This is called the propagator $\\mathbf{U_0}(t) = e^{-i\\,\\mathbf{H_0}t/\\hbar}$. It satisfies the Schr\u00f6dinger equation (as it has to because it is a function of an operator that satisfies the same equation). This equation is $i\\hbar\\mathbf{\\dot U_0}(t)=\\mathbf{H_0}\\mathbf{U_0}(t) = \\mathbf{E}\\mathbf{U_0}(t)$ \n",
      "\n",
      "If we substitute this in the equation for $\\mathbf{\\dot a}(t)$ and use the chain rule we find how to transform an operator to the interaction picture -- rotate the bras and kets separately:\n",
      "\n",
      "$$\\begin{align}\n",
      "i\\hbar\\mathbf{\\dot a}(t) &= i\\hbar \\left [\\mathbf{U_0}(t) \\mathbf{\\dot c}(t) + \\mathbf{\\dot U_0}(t) \\mathbf{c}(t) \\right ] \\\\\n",
      "&= i\\hbar \\mathbf{U_0}(t)\\mathbf{\\dot c}(t) + \\overbrace {\\mathbf{E}\\mathbf{a}(t)} ^{\\text{using the differential equation above}} \\\\\n",
      "&= \\mathbf{E}\\mathbf{a}(t) + \\mathbf{V}(t)\\mathbf{a}(t) \\\\ \n",
      "\\therefore i\\hbar\\mathbf{\\dot c}(t) & = \\mathbf{U_0^\\dagger} \\mathbf{V}(t)\\mathbf{U_0}\\cdot \\mathbf{c(t)} \\equiv \\mathbf{V^I}(t)\\mathbf{c(t)} \\\\\n",
      "\\end{align}$$\n",
      "\n",
      "Important to note: wavefunctions are time-dependent in interaction picture."
     ]
    },
    {
     "cell_type": "markdown",
     "metadata": {},
     "source": [
      "### Two Level Atom\n",
      "\n",
      "We look at a two level system with energies $\\pm \\hbar/2$ and the field interacting with the atom is aligned along the $\\hat z$.\n",
      "The Hamiltonian can be written as either a time-dependent $V$ and a $H_0$ or using Pauli spin matricies\n",
      "\n",
      "$$\\mathbf{H}(t) = - \\frac{\\hbar\\omega_0}{2} \\mathbf{\\sigma_z} + \\hbar \\left | \\Omega_0 (t) \\right |\\cos [\\omega t - \\phi(t)]\\mathbf{\\sigma_x}$$\n",
      "\n",
      "He lists some approximations. How does he get them? I bet he Taylor expands the cos term about $\\omega_0$ and then takes a limit. Let's see.\n",
      "\n",
      "http://physics.stackexchange.com/questions/27425/rigorous-justification-for-rotating-wave-approximation\n",
      "\n",
      "Apparently not.\n",
      "\n",
      "\n",
      "The field interaction representation is when you rotate at the frequency of the external field. \n",
      "\n",
      "> Generally speaking, the field interaction representation is most useful when a single field drives transitions between two manifolds of levels, while the interaction representation should be used when fields having two or more frequencies drive transitions between two levels or two manifolds of levels."
     ]
    },
    {
     "cell_type": "markdown",
     "metadata": {},
     "source": [
      "## Chapter 3\n",
      "\n",
      "In this chapter, Berman talks about the need for a density matrix formulation to add irreversible processes to the dynamics of a quantum system. He introduces all of the same \"pictures\" of QM.\n",
      "\n",
      "The Bloch vector is also introduced. It is a way to graphically represent the dynamics of a superposition of states in a two-level system. From conversation with Amer, the no-relaxation case follows the behavior of a simple harmonic oscillator that is driven by the field. The oscillating field forces rabi transitions between the two states and they manifest as rotation about the pseudo-field vector. Similarly, it makes sense why the field causes rotations about it - the driving behavior is $\\pi/2$ out of phase with the response, just like in the SHO case. Also, with relaxation the transition can be smoother and the system rotates about the field vector, but not necessarily at an angle of $\\pi/2$.\n",
      "\n",
      "I want to play with Bloch vectors.\n"
     ]
    },
    {
     "cell_type": "markdown",
     "metadata": {},
     "source": [
      "## Chapter 4\n",
      "\n",
      "On absorption:\n",
      "\n",
      "> The term absorption can be a bit misleading. What does it mean for optical radiation to be absorbed by a medium? A perfectly reasonable definition would be that the incident energy is transformed into internal energy of the medium, as can happen in solids and liquids. In this case, the medium would heat as a result of the absorption. On the other hand, when light is incident on a low-density atomic vapor, a different type of process occurs. The radiation results in some steady- state excited-state population of the atoms that can be viewed as heating, but this heating is a transient process. Once the steady-state population is established, there is no additional heating; nevertheless, the incident field continues to lose energy. The energy loss mechanism involves scattering of the incident field by the atoms into unoccupied modes of the vacuum field. Neglecting atomic motion, the average frequency of this scattered radiation is always the frequency of the incident field and not the atomic transition frequency, consistent with a scattering interpretation. We discuss this interpretation in greater detail in Chapter 20. Thus, when we talk of absorption in this section and throughout the text, we actually refer to the loss of energy by the incident field and not to an increase in energy of the medium.\n"
     ]
    },
    {
     "cell_type": "code",
     "collapsed": false,
     "input": [],
     "language": "python",
     "metadata": {},
     "outputs": []
    }
   ],
   "metadata": {}
  }
 ]
}