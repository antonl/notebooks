{
 "metadata": {
  "name": "",
  "signature": "sha256:f086d7aee0da9904af4bbeec4e7556b8a28fb2c9cff374144a93fe842eea8b89"
 },
 "nbformat": 3,
 "nbformat_minor": 0,
 "worksheets": [
  {
   "cells": [
    {
     "cell_type": "code",
     "collapsed": false,
     "input": [
      "from __future__ import division, print_function\n",
      "import sys\n",
      "sys.path.append('c:/Users/aloukian/pywinspec/')\n",
      "from winspec import SpeFile\n",
      "from IPython.display import display, Image\n",
      "import itertools as it\n",
      "import numpy as np\n",
      "from numpy.fft import fft, ifft, fftshift\n",
      "from scipy.optimize import curve_fit, leastsq\n",
      "from scipy.signal import get_window\n",
      "from matplotlib import pyplot as plt\n",
      "from matplotlib import rcParams\n",
      "from pathlib import Path\n",
      "from functools import partial\n",
      "%matplotlib inline\n",
      "import brewer2mpl\n",
      "xrange = range\n",
      "it.ifilter = filter\n",
      "it.izip = zip"
     ],
     "language": "python",
     "metadata": {},
     "outputs": [
      {
       "output_type": "stream",
       "stream": "stderr",
       "text": [
        "Vendor:  Continuum Analytics, Inc.\n",
        "Package: mkl\n",
        "Message: trial mode expires in 26 days\n"
       ]
      }
     ],
     "prompt_number": 1
    },
    {
     "cell_type": "markdown",
     "metadata": {},
     "source": [
      "## Utilities"
     ]
    },
    {
     "cell_type": "markdown",
     "metadata": {},
     "source": [
      "## RC Params to set"
     ]
    },
    {
     "cell_type": "code",
     "collapsed": false,
     "input": [
      "plt.rcParams['axes.axisbelow'] = True\n",
      "plt.rcParams['axes.xmargin'] = 0.00\n",
      "plt.rcParams['axes.ymargin'] = 0.00\n",
      "plt.rcParams['figure.dpi'] = 600\n",
      "plt.rcParams['figure.figsize'] = (16, 8)\n",
      "plt.rcParams['figure.facecolor'] = '#ffffff'\n",
      "\n",
      "plt.rcParams['axes.facecolor'] = '#eeeeee'\n",
      "\n",
      "plt.rcParams['font.size'] = 16 \n",
      "#plt.rcParams['font.sans-serif'] = \n",
      "#plt.rcParams['font.variant'] = 'small-caps'\n",
      "plt.rcParams['font.weight'] = 'roman'\n",
      "plt.rcParams['text.color'] = '#2e2e2e'\n",
      "\n",
      "plt.rcParams['grid.alpha'] = 1.\n",
      "plt.rcParams['grid.color'] = '#f5f5f5'\n",
      "plt.rcParams['grid.linestyle'] = '-'\n",
      "plt.rcParams['grid.linewidth'] = 2.0\n",
      "\n",
      "plt.rcParams['lines.linewidth'] = 2\n",
      "plt.rcParams['lines.antialiased'] = True\n",
      "\n",
      "plt.rcParams['xtick.major.pad'] = 10\n",
      "plt.rcParams['xtick.minor.pad'] = 10\n",
      "plt.rcParams['ytick.major.pad'] = 10\n",
      "plt.rcParams['ytick.minor.pad'] = 10"
     ],
     "language": "python",
     "metadata": {},
     "outputs": [],
     "prompt_number": 2
    },
    {
     "cell_type": "markdown",
     "metadata": {},
     "source": [
      "## Analysis functions"
     ]
    },
    {
     "cell_type": "code",
     "collapsed": false,
     "input": [
      "def fourier_window(data, n=200, plt=False, k=0.1):\n",
      "    edge_window = get_window(('kaiser', k), len(data))\n",
      "    win = fftshift(get_window(('kaiser', 140), n))\n",
      "    fdat = fft(data*edge_window)\n",
      "    dat_windowed = fdat.copy()\n",
      "    dat_windowed[0:n//2] *= win[0:n//2]\n",
      "    dat_windowed[-n//2:] *= win[n//2:]\n",
      "    dat_windowed[n//2:-n//2] = 0\n",
      "    \n",
      "    filtered = abs(ifft(dat_windowed))\n",
      "    if plt:\n",
      "        subplot(211)\n",
      "        scale = max(edge_window)\n",
      "        plot(data)\n",
      "        plot(scale*edge_window)\n",
      "        plot(data*edge_window)\n",
      "        plot(filtered)\n",
      "        subplot(212)\n",
      "        scale = max(abs(fdat[5:-5]))\n",
      "        plot(win[:n//2]*scale)\n",
      "        plot(abs(dat_windowed))\n",
      "        plot(abs(fdat))\n",
      "        ylim([0, scale])\n",
      "        tight_layout()\n",
      "    return filtered"
     ],
     "language": "python",
     "metadata": {},
     "outputs": [],
     "prompt_number": 3
    },
    {
     "cell_type": "code",
     "collapsed": false,
     "input": [
      "def find_baseline(data, range):\n",
      "    mean = data[range].mean()\n",
      "    return data-mean"
     ],
     "language": "python",
     "metadata": {},
     "outputs": [],
     "prompt_number": 4
    },
    {
     "cell_type": "code",
     "collapsed": false,
     "input": [
      "def analyze_stark(iterable, phases=None, filterfn=None, flip=False, count=None, baselinefn=None):\n",
      "    if count:\n",
      "        progress = ProgressBar(count - 1)\n",
      "    \n",
      "    if not phases:\n",
      "        phases = it.cycle([1])\n",
      "        \n",
      "    for i, (p, d) in enumerate(it.izip(phases, iterable)):\n",
      "        tmp_d = np.squeeze(d.data)\n",
      "        even = tmp_d[0::2, :].mean(axis=0)\n",
      "        odd = tmp_d[1::2, :].mean(axis=0)\n",
      "        \n",
      "        if filterfn:\n",
      "            even, odd = filterfn(even), filterfn(odd)\n",
      "        \n",
      "        stark = p*(np.log10(even) - np.log10(odd))\n",
      "        \n",
      "        if baselinefn:\n",
      "            stark = baselinefn(stark)\n",
      "            \n",
      "        if count:\n",
      "            progress.animate(i)\n",
      "        \n",
      "        if flip:\n",
      "            yield stark[::-1]\n",
      "        else:\n",
      "            yield stark"
     ],
     "language": "python",
     "metadata": {},
     "outputs": [],
     "prompt_number": 5
    },
    {
     "cell_type": "markdown",
     "metadata": {},
     "source": [
      "## Load up the data"
     ]
    },
    {
     "cell_type": "code",
     "collapsed": false,
     "input": [
      "drive = Path('Z:')"
     ],
     "language": "python",
     "metadata": {},
     "outputs": [],
     "prompt_number": 6
    },
    {
     "cell_type": "code",
     "collapsed": false,
     "input": [
      "basepath = drive / Path('2D/Data/14-05-05')\n",
      "batchnames = ['LO_stability_02', 'stark_2kv_01', 'stark_1p5kv_01']\n",
      "\n",
      "voltages = [0.0, 2, 1.5]\n",
      "phases = [-1, -1, -1]\n",
      "\n",
      "def load(batches):\n",
      "    for b in batches:\n",
      "        yield SpeFile(str((basepath / Path(b + '.SPE'))))"
     ],
     "language": "python",
     "metadata": {},
     "outputs": [],
     "prompt_number": 14
    },
    {
     "cell_type": "code",
     "collapsed": false,
     "input": [
      "center = 650\n",
      "bw = 125\n",
      "px = 1340\n",
      "wavelength = np.linspace(center - bw/2, center + bw/2, px)"
     ],
     "language": "python",
     "metadata": {},
     "outputs": [],
     "prompt_number": 15
    },
    {
     "cell_type": "markdown",
     "metadata": {},
     "source": [
      "I should reallu add a window function to the spectral interferometry thing."
     ]
    },
    {
     "cell_type": "code",
     "collapsed": false,
     "input": [
      "filterfn = partial(fourier_window, n=250, plt=False, k=0.1)\n",
      "select = [x for x in xrange(0, 10)]\n",
      "selectfn = lambda i: True if i[0] in select else False\n",
      "baselinefn = partial(find_baseline, range=slice(0, 500))\n",
      "data = it.ifilter(selectfn, enumerate(it.izip(voltages, analyze_stark(load(batchnames), \n",
      "        phases=phases, flip=True, filterfn=filterfn, baselinefn=baselinefn))))    \n",
      "peaks_idx = [890, 995, 1070] # pixels\n",
      "\n",
      "fig, ax1 = plt.subplots(1, 1, sharey=True)\n",
      "\n",
      "color_lines = it.cycle(brewer2mpl.get_map('Set2', 'Qualitative',3).mpl_colors)\n",
      "#color_peaks = brewer2mpl.get_map('Set1', 'Qualitative', 3).mpl_colors\n",
      "\n",
      "stored_data = []\n",
      "stored_voltages = []\n",
      "\n",
      "for i, (v, d) in data:\n",
      "    ax1.plot(wavelength, d, label='{:.1f}'.format(v), color=next(color_lines))\n",
      "    #ax1.vlines(wavelength[peaks_idx], 0.76e-3, 1.8e-3, colors=color_peaks, zorder=-40, linewidth=3, linestyle='-') \n",
      "    #ax1.vlines(wavelength[peaks_idx], -1.0e-3, -0.87e-3, colors=color_peaks, zorder=-40, linewidth=3, linestyle='-') \n",
      "    stored_data.append(d[peaks_idx])\n",
      "    stored_voltages.append(v)\n",
      "    \n",
      "#plt.legend()\n",
      "ax1.grid()\n",
      "#ax1.set_xlim(660, 720)\n",
      "#ax1.set_ylim(-.9e-4, .9e-4)\n",
      "ax1.set_xlabel('Wavelength / nm')\n",
      "ax1.set_ylabel(r'Stark signal / $\\Delta$OD')\n",
      "fmt = plt.ScalarFormatter(useMathText=True)\n",
      "fmt.set_scientific(True)\n",
      "fmt.set_powerlimits((0,0))\n",
      "ax1.yaxis.set_major_formatter(fmt)\n",
      "#ax1.legend(loc='upper left')\n",
      "'''\n",
      "fn = lambda p, x: p[2]*x**2 + p[1]*x + p[0] \n",
      "err = lambda p, x, y: y - fn(p, x)\n",
      "fit_v = np.linspace(0, 5, 100)\n",
      "stored_voltages = np.array(stored_voltages)\n",
      "for wl, r, c in it.izip(wavelength[peaks_idx], np.array(stored_data).T, color_peaks):\n",
      "    ax2.plot(0.2*stored_voltages, r, color=c, marker='o', markersize=12, linewidth=0., alpha=0.7)\n",
      "    res = leastsq(err, [0.1, 0.1, 0.1], args=(0.2*stored_voltages, r), full_output=True)\n",
      "    ax2.plot(fit_v, fn(res[0], fit_v), color=c, linestyle='-',  label='{:3.1f}'.format(wl))\n",
      "\n",
      "ax2.grid()\n",
      "#ax2.set_xlim([-0.05, 1.5])\n",
      "ax2.set_xlabel(r'Applied field / MV cm$^{-1}$')\n",
      "#ax2.legend(loc=0)\n",
      "'''\n",
      "plt.subplots_adjust(wspace=0.05)\n",
      "plt.savefig('d1d2_linear_stark.pdf', dpi=300)"
     ],
     "language": "python",
     "metadata": {},
     "outputs": [
      {
       "metadata": {},
       "output_type": "display_data",
       "png": "[encoded data removed]",
       "text": [
        "<matplotlib.figure.Figure at 0x11490048>"
       ]
      }
     ],
     "prompt_number": 17
    },
    {
     "cell_type": "code",
     "collapsed": false,
     "input": [
      "a = np.genfromtxt(r'Z:\\2D\\Data\\14-05-03\\d1d2-2d-batch00\\t1pos.txt')\n",
      "a.shape"
     ],
     "language": "python",
     "metadata": {},
     "outputs": [
      {
       "metadata": {},
       "output_type": "pyout",
       "prompt_number": 96,
       "text": [
        "(40L,)"
       ]
      }
     ],
     "prompt_number": 96
    },
    {
     "cell_type": "code",
     "collapsed": false,
     "input": [
      "import re\n",
      "pattern = re.compile(r'd1d2-2d(\\d+)-(\\d+)-(\\d+).spe')\n",
      "res = pattern.match('d1d2-2d00-00-00.spe')\n",
      "res.groups()"
     ],
     "language": "python",
     "metadata": {},
     "outputs": [
      {
       "metadata": {},
       "output_type": "pyout",
       "prompt_number": 110,
       "text": [
        "('00', '00', '00')"
       ]
      }
     ],
     "prompt_number": 110
    },
    {
     "cell_type": "code",
     "collapsed": false,
     "input": [
      "arrow.get(arrow.get(arrow.now(), 'US/Pacific'), 'YY-MM-DD').humanize()"
     ],
     "language": "python",
     "metadata": {},
     "outputs": [
      {
       "ename": "TypeError",
       "evalue": "Can't parse two arguments of types '<class 'arrow.arrow.Arrow'>', '<type 'str'>'",
       "output_type": "pyerr",
       "traceback": [
        "\u001b[1;31m---------------------------------------------------------------------------\u001b[0m\n\u001b[1;31mTypeError\u001b[0m                                 Traceback (most recent call last)",
        "\u001b[1;32m<ipython-input-126-d7d19133542f>\u001b[0m in \u001b[0;36m<module>\u001b[1;34m()\u001b[0m\n\u001b[1;32m----> 1\u001b[1;33m \u001b[0marrow\u001b[0m\u001b[1;33m.\u001b[0m\u001b[0mget\u001b[0m\u001b[1;33m(\u001b[0m\u001b[0marrow\u001b[0m\u001b[1;33m.\u001b[0m\u001b[0mget\u001b[0m\u001b[1;33m(\u001b[0m\u001b[0marrow\u001b[0m\u001b[1;33m.\u001b[0m\u001b[0mnow\u001b[0m\u001b[1;33m(\u001b[0m\u001b[1;33m)\u001b[0m\u001b[1;33m,\u001b[0m \u001b[1;34m'US/Pacific'\u001b[0m\u001b[1;33m)\u001b[0m\u001b[1;33m,\u001b[0m \u001b[1;34m'YY-MM-DD'\u001b[0m\u001b[1;33m)\u001b[0m\u001b[1;33m.\u001b[0m\u001b[0mhumanize\u001b[0m\u001b[1;33m(\u001b[0m\u001b[1;33m)\u001b[0m\u001b[1;33m\u001b[0m\u001b[0m\n\u001b[0m",
        "\u001b[1;32mC:\\Anaconda\\lib\\site-packages\\arrow\\api.pyc\u001b[0m in \u001b[0;36mget\u001b[1;34m(*args, **kwargs)\u001b[0m\n\u001b[0;32m     21\u001b[0m     '''\n\u001b[0;32m     22\u001b[0m \u001b[1;33m\u001b[0m\u001b[0m\n\u001b[1;32m---> 23\u001b[1;33m     \u001b[1;32mreturn\u001b[0m \u001b[0m_factory\u001b[0m\u001b[1;33m.\u001b[0m\u001b[0mget\u001b[0m\u001b[1;33m(\u001b[0m\u001b[1;33m*\u001b[0m\u001b[0margs\u001b[0m\u001b[1;33m,\u001b[0m \u001b[1;33m**\u001b[0m\u001b[0mkwargs\u001b[0m\u001b[1;33m)\u001b[0m\u001b[1;33m\u001b[0m\u001b[0m\n\u001b[0m\u001b[0;32m     24\u001b[0m \u001b[1;33m\u001b[0m\u001b[0m\n\u001b[0;32m     25\u001b[0m \u001b[1;32mdef\u001b[0m \u001b[0mutcnow\u001b[0m\u001b[1;33m(\u001b[0m\u001b[1;33m)\u001b[0m\u001b[1;33m:\u001b[0m\u001b[1;33m\u001b[0m\u001b[0m\n",
        "\u001b[1;32mC:\\Anaconda\\lib\\site-packages\\arrow\\factory.pyc\u001b[0m in \u001b[0;36mget\u001b[1;34m(self, *args, **kwargs)\u001b[0m\n\u001b[0;32m    172\u001b[0m             \u001b[1;32melse\u001b[0m\u001b[1;33m:\u001b[0m\u001b[1;33m\u001b[0m\u001b[0m\n\u001b[0;32m    173\u001b[0m                 raise TypeError('Can\\'t parse two arguments of types \\'{0}\\', \\'{1}\\''.format(\n\u001b[1;32m--> 174\u001b[1;33m                     type(arg_1), type(arg_2)))\n\u001b[0m\u001b[0;32m    175\u001b[0m \u001b[1;33m\u001b[0m\u001b[0m\n\u001b[0;32m    176\u001b[0m         \u001b[1;31m# 3+ args -> datetime-like via constructor.\u001b[0m\u001b[1;33m\u001b[0m\u001b[1;33m\u001b[0m\u001b[0m\n",
        "\u001b[1;31mTypeError\u001b[0m: Can't parse two arguments of types '<class 'arrow.arrow.Arrow'>', '<type 'str'>'"
       ]
      }
     ],
     "prompt_number": 126
    },
    {
     "cell_type": "code",
     "collapsed": false,
     "input": [
      "font_manager.FontProperties(fname='/Users/aloukian/Library/Fonts/Fanwood Text.otf')"
     ],
     "language": "python",
     "metadata": {},
     "outputs": []
    },
    {
     "cell_type": "code",
     "collapsed": false,
     "input": [
      "import brewer2mpl"
     ],
     "language": "python",
     "metadata": {},
     "outputs": [],
     "prompt_number": 2
    },
    {
     "cell_type": "code",
     "collapsed": false,
     "input": [
      "brewer2mpl.print_maps_by_type('Qualitative')"
     ],
     "language": "python",
     "metadata": {},
     "outputs": [
      {
       "output_type": "stream",
       "stream": "stdout",
       "text": [
        "Qualitative\n",
        "Accent    :  {3, 4, 5, 6, 7, 8}\n",
        "Dark2     :  {3, 4, 5, 6, 7, 8}\n",
        "Paired    :  {3, 4, 5, 6, 7, 8, 9, 10, 11, 12}\n",
        "Pastel1   :  {3, 4, 5, 6, 7, 8, 9}\n",
        "Pastel2   :  {3, 4, 5, 6, 7, 8}\n",
        "Set1      :  {3, 4, 5, 6, 7, 8, 9}\n",
        "Set2      :  {3, 4, 5, 6, 7, 8}\n",
        "Set3      :  {3, 4, 5, 6, 7, 8, 9, 10, 11, 12}\n"
       ]
      }
     ],
     "prompt_number": 2
    },
    {
     "cell_type": "code",
     "collapsed": false,
     "input": [
      "from matplotlib import font_manager"
     ],
     "language": "python",
     "metadata": {},
     "outputs": []
    },
    {
     "cell_type": "code",
     "collapsed": false,
     "input": [
      "fm = font_manager.FontManager()"
     ],
     "language": "python",
     "metadata": {},
     "outputs": []
    },
    {
     "cell_type": "code",
     "collapsed": false,
     "input": [
      "fm.findfont(font_manager.FontProperties(fname='/Users/aloukian/Library/Fonts/Fanwood Text.otf'))"
     ],
     "language": "python",
     "metadata": {},
     "outputs": []
    },
    {
     "cell_type": "code",
     "collapsed": false,
     "input": [],
     "language": "python",
     "metadata": {},
     "outputs": [
      {
       "ename": "TypeError",
       "evalue": "filter expected 2 arguments, got 0",
       "output_type": "pyerr",
       "traceback": [
        "\u001b[0;31m---------------------------------------------------------------------------\u001b[0m\n\u001b[0;31mTypeError\u001b[0m                                 Traceback (most recent call last)",
        "\u001b[0;32m<ipython-input-14-ad739c753bbe>\u001b[0m in \u001b[0;36m<module>\u001b[0;34m()\u001b[0m\n\u001b[0;32m----> 1\u001b[0;31m \u001b[0mfilter\u001b[0m\u001b[0;34m(\u001b[0m\u001b[0;34m)\u001b[0m\u001b[0;34m\u001b[0m\u001b[0m\n\u001b[0m",
        "\u001b[0;31mTypeError\u001b[0m: filter expected 2 arguments, got 0"
       ]
      }
     ],
     "prompt_number": 14
    },
    {
     "cell_type": "code",
     "collapsed": false,
     "input": [],
     "language": "python",
     "metadata": {},
     "outputs": []
    }
   ],
   "metadata": {}
  }
 ]
}