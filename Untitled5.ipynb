{
 "metadata": {
  "name": ""
 },
 "nbformat": 3,
 "nbformat_minor": 0,
 "worksheets": [
  {
   "cells": [
    {
     "cell_type": "code",
     "collapsed": false,
     "input": [
      "import sympy as sp\n",
      "sp.init_printing()\n",
      "from sympy import *"
     ],
     "language": "python",
     "metadata": {},
     "outputs": [],
     "prompt_number": 1
    },
    {
     "cell_type": "code",
     "collapsed": false,
     "input": [
      "x,y, beta, theta_g, Ix, Iy, R, theta_i, Px, Py, nu, Dx, Dy,k = symbols('x,y,beta,theta_g,I_x,I_y,R,theta_i,P_x, P_y,nu,D_x,D_y, k', real=True, positive=True)"
     ],
     "language": "python",
     "metadata": {},
     "outputs": [],
     "prompt_number": 40
    },
    {
     "cell_type": "code",
     "collapsed": false,
     "input": [
      "ans = solve([Eq(y, tan(beta + theta_g)*x), Eq((x - Ix + R*cos(theta_i))**2 + (y - Iy + R*sin(theta_i))**2, R**2)], [x, y], dict=True) "
     ],
     "language": "python",
     "metadata": {},
     "outputs": [],
     "prompt_number": 19
    },
    {
     "cell_type": "code",
     "collapsed": false,
     "input": [
      "cse(ans[0][y])"
     ],
     "language": "python",
     "metadata": {},
     "outputs": [
      {
       "latex": [
        "$$\\begin{pmatrix}\\begin{bmatrix}\\begin{pmatrix}x_{0}, & \\tan{\\left (\\beta + \\theta_{g} \\right )}\\end{pmatrix}, & \\begin{pmatrix}x_{1}, & x_{0}^{2}\\end{pmatrix}, & \\begin{pmatrix}x_{2}, & x_{1} + 1\\end{pmatrix}, & \\begin{pmatrix}x_{3}, & R \\cos{\\left (\\theta_{i} \\right )}\\end{pmatrix}, & \\begin{pmatrix}x_{4}, & R \\sin{\\left (\\theta_{i} \\right )}\\end{pmatrix}, & \\begin{pmatrix}x_{5}, & I_{x} + I_{y} x_{0} - x_{0} x_{4} - x_{3}\\end{pmatrix}\\end{bmatrix}, & \\begin{bmatrix}\\frac{x_{0} x_{5}}{x_{2}} - \\frac{2 \\left\\lvert{x_{0}}\\right\\rvert}{2 x_{1} + 2} \\sqrt{- x_{2} \\left(I_{x}^{2} - 2 I_{x} x_{3} + I_{y}^{2} - 2 I_{y} x_{4}\\right) + x_{5}^{2}}\\end{bmatrix}\\end{pmatrix}$$"
       ],
       "metadata": {},
       "output_type": "pyout",
       "png": "[encoded data removed]",
       "prompt_number": 35,
       "text": [
        "\u239b                                                                             \n",
        "\u239c                                                                             \n",
        "\u239c\u23a1                    \u239b      2\u239e                                               \n",
        "\u239c\u23a3(x\u2080, tan(\u03b2 + \u03b8_g)), \u239dx\u2081, x\u2080 \u23a0, (x\u2082, x\u2081 + 1), (x\u2083, R\u22c5cos(\u03b8\u1d62)), (x\u2084, R\u22c5sin(\u03b8\u1d62)\n",
        "\u239d                                                                             \n",
        "\n",
        "                                    \u23a1             ____________________________\n",
        "                                    \u23a2            \u2571      \u239b  2                2 \n",
        "                                 \u23a4  \u23a2x\u2080\u22c5x\u2085   2\u22c5\u2572\u2571  - x\u2082\u22c5\u239dI\u2093  - 2\u22c5I\u2093\u22c5x\u2083 + I_y  \n",
        "), (x\u2085, I\u2093 + I_y\u22c5x\u2080 - x\u2080\u22c5x\u2084 - x\u2083)\u23a6, \u23a2\u2500\u2500\u2500\u2500\u2500 - \u2500\u2500\u2500\u2500\u2500\u2500\u2500\u2500\u2500\u2500\u2500\u2500\u2500\u2500\u2500\u2500\u2500\u2500\u2500\u2500\u2500\u2500\u2500\u2500\u2500\u2500\u2500\u2500\u2500\u2500\u2500\u2500\u2500\n",
        "                                    \u23a3  x\u2082                            2\u22c5x\u2081 + 2 \n",
        "\n",
        "__________________     \u23a4\u239e\n",
        "          \u239e     2      \u23a5\u239f\n",
        "- 2\u22c5I_y\u22c5x\u2084\u23a0 + x\u2085  \u22c5\u2502x\u2080\u2502\u23a5\u239f\n",
        "\u2500\u2500\u2500\u2500\u2500\u2500\u2500\u2500\u2500\u2500\u2500\u2500\u2500\u2500\u2500\u2500\u2500\u2500\u2500\u2500\u2500\u2500\u2500\u23a5\u239f\n",
        "                       \u23a6\u23a0"
       ]
      }
     ],
     "prompt_number": 35
    },
    {
     "cell_type": "code",
     "collapsed": false,
     "input": [
      "ans = solve([Eq(y, -k*x + Py + k*Px), Eq(y, tan(nu)*x + Dy - Dx*tan(nu))], [x,y], dict=True)\n",
      "display(cse(ans[0][x]))\n",
      "display(cse(ans[0][y]))"
     ],
     "language": "python",
     "metadata": {},
     "outputs": [
      {
       "latex": [
        "$$\\begin{pmatrix}\\begin{bmatrix}\\begin{pmatrix}x_{0}, & \\tan{\\left (\\nu \\right )}\\end{pmatrix}\\end{bmatrix}, & \\begin{bmatrix}\\frac{1}{k + x_{0}} \\left(D_{x} x_{0} - D_{y} + P_{x} k + P_{y}\\right)\\end{bmatrix}\\end{pmatrix}$$"
       ],
       "metadata": {},
       "output_type": "display_data",
       "png": "[encoded data removed]",
       "text": [
        "\u239b                \u23a1D\u2093\u22c5x\u2080 - D_y + P\u2093\u22c5k + P_y\u23a4\u239e\n",
        "\u239c[(x\u2080, tan(\u03bd))], \u23a2\u2500\u2500\u2500\u2500\u2500\u2500\u2500\u2500\u2500\u2500\u2500\u2500\u2500\u2500\u2500\u2500\u2500\u2500\u2500\u2500\u2500\u2500\u2500\u2500\u23a5\u239f\n",
        "\u239d                \u23a3         k + x\u2080         \u23a6\u23a0"
       ]
      },
      {
       "latex": [
        "$$\\begin{pmatrix}\\begin{bmatrix}\\begin{pmatrix}x_{0}, & \\tan{\\left (\\nu \\right )}\\end{pmatrix}\\end{bmatrix}, & \\begin{bmatrix}\\frac{1}{k + x_{0}} \\left(- k \\left(D_{x} x_{0} - D_{y}\\right) + x_{0} \\left(P_{x} k + P_{y}\\right)\\right)\\end{bmatrix}\\end{pmatrix}$$"
       ],
       "metadata": {},
       "output_type": "display_data",
       "png": "[encoded data removed]",
       "text": [
        "\u239b                \u23a1-k\u22c5(D\u2093\u22c5x\u2080 - D_y) + x\u2080\u22c5(P\u2093\u22c5k + P_y)\u23a4\u239e\n",
        "\u239c[(x\u2080, tan(\u03bd))], \u23a2\u2500\u2500\u2500\u2500\u2500\u2500\u2500\u2500\u2500\u2500\u2500\u2500\u2500\u2500\u2500\u2500\u2500\u2500\u2500\u2500\u2500\u2500\u2500\u2500\u2500\u2500\u2500\u2500\u2500\u2500\u2500\u2500\u2500\u2500\u23a5\u239f\n",
        "\u239d                \u23a3              k + x\u2080              \u23a6\u23a0"
       ]
      }
     ],
     "prompt_number": 50
    },
    {
     "cell_type": "code",
     "collapsed": false,
     "input": [
      "E0, x,w,k,om,dom,t, phi = symbols('E_0,x,w,k,\\omega,\\Delta\\omega,t,phi', real=True)\n",
      "tem00 = E0*exp(-x**2/w**2)*exp(-I*(om + dom)*t)\n",
      "tem01 = E0*x/w*exp(-x**2/w**2)*exp(-I*(om - dom)*t + I*phi)\n"
     ],
     "language": "python",
     "metadata": {},
     "outputs": [],
     "prompt_number": 5
    },
    {
     "cell_type": "code",
     "collapsed": false,
     "input": [
      "(tem00 + tem01).conjugate()"
     ],
     "language": "python",
     "metadata": {},
     "outputs": [
      {
       "latex": [
        "$$E_{0} e^{- \\frac{x^{2}}{w^{2}}} e^{i t \\left(\\Delta\\omega + \\omega\\right)} + \\frac{E_{0} x}{w} e^{- \\frac{x^{2}}{w^{2}}} e^{- i \\phi + i t \\left(- \\Delta\\omega + \\omega\\right)}$$"
       ],
       "metadata": {},
       "output_type": "pyout",
       "png": "[encoded data removed]",
       "prompt_number": 6,
       "text": [
        "                                                2                             \n",
        "      2                                       -x                              \n",
        "    -x                                        \u2500\u2500\u2500\u2500                            \n",
        "    \u2500\u2500\u2500\u2500                                        2                             \n",
        "      2                                        w    -\u2148\u22c5\u03c6 + \u2148\u22c5t\u22c5(-\\Delta\\omega \n",
        "     w    \u2148\u22c5t\u22c5(\\Delta\\omega + \\omega)   E\u2080\u22c5x\u22c5\u212f    \u22c5\u212f                          \n",
        "E\u2080\u22c5\u212f    \u22c5\u212f                            + \u2500\u2500\u2500\u2500\u2500\u2500\u2500\u2500\u2500\u2500\u2500\u2500\u2500\u2500\u2500\u2500\u2500\u2500\u2500\u2500\u2500\u2500\u2500\u2500\u2500\u2500\u2500\u2500\u2500\u2500\u2500\u2500\u2500\u2500\u2500\u2500\u2500\u2500\n",
        "                                                               w              \n",
        "\n",
        "         \n",
        "         \n",
        "         \n",
        "         \n",
        "+ \\omega)\n",
        "         \n",
        "\u2500\u2500\u2500\u2500\u2500\u2500\u2500\u2500\u2500\n",
        "         "
       ]
      }
     ],
     "prompt_number": 6
    },
    {
     "cell_type": "code",
     "collapsed": false,
     "input": [
      "res = expand((tem00 + tem01)*(tem00 + tem01).conjugate())"
     ],
     "language": "python",
     "metadata": {},
     "outputs": [],
     "prompt_number": 7
    },
    {
     "cell_type": "code",
     "collapsed": false,
     "input": [
      "res"
     ],
     "language": "python",
     "metadata": {},
     "outputs": [
      {
       "latex": [
        "$$E_{0}^{2} e^{- \\frac{2 x^{2}}{w^{2}}} + \\frac{E_{0}^{2} x}{w} e^{i \\phi} e^{- \\frac{2 x^{2}}{w^{2}}} e^{2 i \\Delta\\omega t} + \\frac{E_{0}^{2} x}{w} e^{- i \\phi} e^{- \\frac{2 x^{2}}{w^{2}}} e^{- 2 i \\Delta\\omega t} + \\frac{E_{0}^{2} x^{2}}{w^{2}} e^{- \\frac{2 x^{2}}{w^{2}}}$$"
       ],
       "metadata": {},
       "output_type": "pyout",
       "png": "[encoded data removed]",
       "prompt_number": 8,
       "text": [
        "                              2                                         2     \n",
        "         2                -2\u22c5x                                      -2\u22c5x      \n",
        "     -2\u22c5x                 \u2500\u2500\u2500\u2500\u2500\u2500                                    \u2500\u2500\u2500\u2500\u2500\u2500    \n",
        "     \u2500\u2500\u2500\u2500\u2500\u2500                  2                                         2      \n",
        "        2       2    \u2148\u22c5\u03c6    w     2\u22c5\u2148\u22c5\\Delta\\omega\u22c5t     2    -\u2148\u22c5\u03c6    w     -2\n",
        "  2    w      E\u2080 \u22c5x\u22c5\u212f   \u22c5\u212f      \u22c5\u212f                     E\u2080 \u22c5x\u22c5\u212f    \u22c5\u212f      \u22c5\u212f  \n",
        "E\u2080 \u22c5\u212f       + \u2500\u2500\u2500\u2500\u2500\u2500\u2500\u2500\u2500\u2500\u2500\u2500\u2500\u2500\u2500\u2500\u2500\u2500\u2500\u2500\u2500\u2500\u2500\u2500\u2500\u2500\u2500\u2500\u2500\u2500\u2500\u2500\u2500\u2500\u2500\u2500\u2500\u2500 + \u2500\u2500\u2500\u2500\u2500\u2500\u2500\u2500\u2500\u2500\u2500\u2500\u2500\u2500\u2500\u2500\u2500\u2500\u2500\u2500\u2500\u2500\u2500\n",
        "                                w                                         w   \n",
        "                                                                              \n",
        "\n",
        "                                2 \n",
        "                            -2\u22c5x  \n",
        "                            \u2500\u2500\u2500\u2500\u2500\u2500\n",
        "                               2  \n",
        "\u22c5\u2148\u22c5\\Delta\\omega\u22c5t     2  2    w   \n",
        "                    E\u2080 \u22c5x \u22c5\u212f      \n",
        "\u2500\u2500\u2500\u2500\u2500\u2500\u2500\u2500\u2500\u2500\u2500\u2500\u2500\u2500\u2500\u2500\u2500 + \u2500\u2500\u2500\u2500\u2500\u2500\u2500\u2500\u2500\u2500\u2500\u2500\u2500\u2500\n",
        "                           2      \n",
        "                          w       "
       ]
      }
     ],
     "prompt_number": 8
    },
    {
     "cell_type": "code",
     "collapsed": false,
     "input": [
      "exp(-k**2/2)*(k**2/4 + k + 1)"
     ],
     "language": "python",
     "metadata": {},
     "outputs": [
      {
       "latex": [
        "$$\\left(\\frac{k^{2}}{4} + k + 1\\right) e^{- \\frac{k^{2}}{2}}$$"
       ],
       "metadata": {},
       "output_type": "pyout",
       "png": "[encoded data removed]",
       "prompt_number": 9,
       "text": [
        "                2 \n",
        "              -k  \n",
        "\u239b 2        \u239e  \u2500\u2500\u2500\u2500\n",
        "\u239ck         \u239f   2  \n",
        "\u239c\u2500\u2500 + k + 1\u239f\u22c5\u212f    \n",
        "\u239d4         \u23a0      "
       ]
      }
     ],
     "prompt_number": 9
    },
    {
     "cell_type": "code",
     "collapsed": false,
     "input": [
      "exp(-k**2/2)"
     ],
     "language": "python",
     "metadata": {},
     "outputs": [
      {
       "latex": [
        "$$e^{- \\frac{k^{2}}{2}}$$"
       ],
       "metadata": {},
       "output_type": "pyout",
       "png": "[encoded data removed]",
       "prompt_number": 10,
       "text": [
        "   2 \n",
        " -k  \n",
        " \u2500\u2500\u2500\u2500\n",
        "  2  \n",
        "\u212f    "
       ]
      }
     ],
     "prompt_number": 10
    },
    {
     "cell_type": "code",
     "collapsed": false,
     "input": [
      "import quantities as qt"
     ],
     "language": "python",
     "metadata": {},
     "outputs": []
    },
    {
     "cell_type": "code",
     "collapsed": false,
     "input": [
      "x0,u = symbols('x0, u', real=True)\n",
      "integrate(exp(-abs(x)/x0 - I*u*x), (x, -oo, oo))"
     ],
     "language": "python",
     "metadata": {},
     "outputs": [
      {
       "latex": [
        "$$\\begin{cases} \\frac{x_{0}}{i u x_{0} + 1} + \\frac{x_{0}}{- i u x_{0} + 1} & \\text{for}\\: \\left(\\left(\\left\\lvert{\\operatorname{periodic\\_argument}{\\left (\\frac{1}{\\operatorname{polar\\_lift}{\\left (x_{0} \\right )}},\\infty \\right )}}\\right\\rvert \\leq \\frac{\\pi}{2} \\wedge \\left\\lvert{\\operatorname{periodic\\_argument}{\\left (e^{- \\frac{i \\pi}{2}} \\operatorname{polar\\_lift}{\\left (u \\right )},\\infty \\right )}}\\right\\rvert < \\frac{\\pi}{2}\\right) \\vee \\left(\\left\\lvert{\\operatorname{periodic\\_argument}{\\left (e^{- \\frac{i \\pi}{2}} \\operatorname{polar\\_lift}{\\left (u \\right )},\\infty \\right )}}\\right\\rvert \\leq \\frac{\\pi}{2} \\wedge \\left\\lvert{\\operatorname{periodic\\_argument}{\\left (\\frac{1}{\\operatorname{polar\\_lift}{\\left (x_{0} \\right )}},\\infty \\right )}}\\right\\rvert < \\frac{\\pi}{2}\\right) \\vee \\left(\\left\\lvert{\\operatorname{periodic\\_argument}{\\left (e^{- \\frac{i \\pi}{2}} \\operatorname{polar\\_lift}{\\left (u \\right )},\\infty \\right )}}\\right\\rvert < \\frac{\\pi}{2} \\wedge \\left\\lvert{\\operatorname{periodic\\_argument}{\\left (\\frac{1}{\\operatorname{polar\\_lift}{\\left (x_{0} \\right )}},\\infty \\right )}}\\right\\rvert < \\frac{\\pi}{2}\\right)\\right) \\wedge \\left(\\left(\\left\\lvert{\\operatorname{periodic\\_argument}{\\left (\\frac{1}{\\operatorname{polar\\_lift}{\\left (x_{0} \\right )}},\\infty \\right )}}\\right\\rvert \\leq \\frac{\\pi}{2} \\wedge \\left\\lvert{\\operatorname{periodic\\_argument}{\\left (e^{\\frac{i \\pi}{2}} \\operatorname{polar\\_lift}{\\left (u \\right )},\\infty \\right )}}\\right\\rvert < \\frac{\\pi}{2}\\right) \\vee \\left(\\left\\lvert{\\operatorname{periodic\\_argument}{\\left (e^{\\frac{i \\pi}{2}} \\operatorname{polar\\_lift}{\\left (u \\right )},\\infty \\right )}}\\right\\rvert \\leq \\frac{\\pi}{2} \\wedge \\left\\lvert{\\operatorname{periodic\\_argument}{\\left (\\frac{1}{\\operatorname{polar\\_lift}{\\left (x_{0} \\right )}},\\infty \\right )}}\\right\\rvert < \\frac{\\pi}{2}\\right) \\vee \\left(\\left\\lvert{\\operatorname{periodic\\_argument}{\\left (e^{\\frac{i \\pi}{2}} \\operatorname{polar\\_lift}{\\left (u \\right )},\\infty \\right )}}\\right\\rvert < \\frac{\\pi}{2} \\wedge \\left\\lvert{\\operatorname{periodic\\_argument}{\\left (\\frac{1}{\\operatorname{polar\\_lift}{\\left (x_{0} \\right )}},\\infty \\right )}}\\right\\rvert < \\frac{\\pi}{2}\\right)\\right) \\\\\\int_{-\\infty}^{\\infty} e^{- i u x - \\frac{\\left\\lvert{x}\\right\\rvert}{x_{0}}}\\, dx & \\text{otherwise} \\end{cases}$$"
       ],
       "metadata": {},
       "output_type": "pyout",
       "png": "[encoded data removed]",
       "prompt_number": 13,
       "text": [
        "\u23a7                              \u239b\u239b                                             \n",
        "\u23aa                              \u239c\u239c                                             \n",
        "\u23aa    x\u2080            x\u2080          \u239c\u239c\u2502                 \u239b      1          \u239e\u2502   \u03c0   \n",
        "\u23aa\u2500\u2500\u2500\u2500\u2500\u2500\u2500\u2500\u2500\u2500 + \u2500\u2500\u2500\u2500\u2500\u2500\u2500\u2500\u2500\u2500\u2500  for \u239c\u239c\u2502periodic_argument\u239c\u2500\u2500\u2500\u2500\u2500\u2500\u2500\u2500\u2500\u2500\u2500\u2500\u2500\u2500, \u221e\u239f\u2502 \u2264 \u2500 \u2227 \n",
        "\u23aa\u2148\u22c5u\u22c5x\u2080 + 1   -\u2148\u22c5u\u22c5x\u2080 + 1      \u239d\u239d\u2502                 \u239dpolar_lift(x\u2080)   \u23a0\u2502   2   \n",
        "\u23aa                                                                             \n",
        "\u23aa  \u221e                                                                          \n",
        "\u23a8  \u2320                                                                          \n",
        "\u23aa  \u23ae            \u2502x\u2502                                                           \n",
        "\u23aa  \u23ae   -\u2148\u22c5u\u22c5x - \u2500\u2500\u2500                                                           \n",
        "\u23aa  \u23ae             x\u2080                                                           \n",
        "\u23aa  \u23ae  \u212f             dx                                                        \n",
        "\u23aa  \u2321                                                                          \n",
        "\u23aa  -\u221e                                                                         \n",
        "\u23a9                                                                             \n",
        "\n",
        "\u2502                 \u239b -\u2148\u22c5\u03c0                  \u239e\u2502    \u239e   \u239b\u2502                 \u239b -\u2148\u22c5\u03c0 \n",
        "\u2502                 \u239c \u2500\u2500\u2500\u2500\u2500                 \u239f\u2502    \u239f   \u239c\u2502                 \u239c \u2500\u2500\u2500\u2500\u2500\n",
        "\u2502                 \u239c   2                   \u239f\u2502   \u03c0\u239f   \u239c\u2502                 \u239c   2  \n",
        "\u2502periodic_argument\u239d\u212f     \u22c5polar_lift(u), \u221e\u23a0\u2502 < \u2500\u239f \u2228 \u239c\u2502periodic_argument\u239d\u212f     \n",
        "                                               2\u23a0   \u239d                         \n",
        "                                                                              \n",
        "                                                                              \n",
        "                                                                              \n",
        "                                                                              \n",
        "                                                                              \n",
        "                                                                              \n",
        "                                                                              \n",
        "                                                                              \n",
        "                                                                              \n",
        "                                                                              \n",
        "\n",
        "                 \u239e\u2502                                                 \u239e   \u239b\u2502    \n",
        "                 \u239f\u2502                                                 \u239f   \u239c\u2502    \n",
        "                 \u239f\u2502   \u03c0   \u2502                 \u239b      1          \u239e\u2502   \u03c0\u239f   \u239c\u2502    \n",
        "\u22c5polar_lift(u), \u221e\u23a0\u2502 \u2264 \u2500 \u2227 \u2502periodic_argument\u239c\u2500\u2500\u2500\u2500\u2500\u2500\u2500\u2500\u2500\u2500\u2500\u2500\u2500\u2500, \u221e\u239f\u2502 < \u2500\u239f \u2228 \u239c\u2502peri\n",
        "                      2   \u2502                 \u239dpolar_lift(x\u2080)   \u23a0\u2502   2\u23a0   \u239d     \n",
        "                                                                              \n",
        "                                                                              \n",
        "                                                                              \n",
        "                                                                              \n",
        "                                                                              \n",
        "                                                                              \n",
        "                                                                              \n",
        "                                                                              \n",
        "                                                                              \n",
        "                                                                              \n",
        "\n",
        "             \u239b -\u2148\u22c5\u03c0                  \u239e\u2502                                       \n",
        "             \u239c \u2500\u2500\u2500\u2500\u2500                 \u239f\u2502                                       \n",
        "             \u239c   2                   \u239f\u2502   \u03c0   \u2502                 \u239b      1      \n",
        "odic_argument\u239d\u212f     \u22c5polar_lift(u), \u221e\u23a0\u2502 < \u2500 \u2227 \u2502periodic_argument\u239c\u2500\u2500\u2500\u2500\u2500\u2500\u2500\u2500\u2500\u2500\u2500\u2500\u2500\n",
        "                                          2   \u2502                 \u239dpolar_lift(x\u2080\n",
        "                                                                              \n",
        "                                                                              \n",
        "                                                                              \n",
        "                                                                              \n",
        "                                                                              \n",
        "                                                                              \n",
        "                                                                              \n",
        "                                                                              \n",
        "                                                                              \n",
        "                                                                              \n",
        "\n",
        "          \u239e\u239e   \u239b\u239b                                             \u2502               \n",
        "          \u239f\u239f   \u239c\u239c                                             \u2502               \n",
        "    \u239e\u2502   \u03c0\u239f\u239f   \u239c\u239c\u2502                 \u239b      1          \u239e\u2502   \u03c0   \u2502               \n",
        "\u2500, \u221e\u239f\u2502 < \u2500\u239f\u239f \u2227 \u239c\u239c\u2502periodic_argument\u239c\u2500\u2500\u2500\u2500\u2500\u2500\u2500\u2500\u2500\u2500\u2500\u2500\u2500\u2500, \u221e\u239f\u2502 \u2264 \u2500 \u2227 \u2502periodic_argume\n",
        ")   \u23a0\u2502   2\u23a0\u23a0   \u239d\u239d\u2502                 \u239dpolar_lift(x\u2080)   \u23a0\u2502   2                   \n",
        "                                                                              \n",
        "                                                                              \n",
        "                                                                              \n",
        "                                                                              \n",
        "                                                                              \n",
        "                                                                              \n",
        "    otherwise                                                                 \n",
        "                                                                              \n",
        "                                                                              \n",
        "                                                                              \n",
        "\n",
        "  \u239b \u2148\u22c5\u03c0                 \u239e\u2502    \u239e   \u239b\u2502                 \u239b \u2148\u22c5\u03c0                 \u239e\u2502 \n",
        "  \u239c \u2500\u2500\u2500                 \u239f\u2502    \u239f   \u239c\u2502                 \u239c \u2500\u2500\u2500                 \u239f\u2502 \n",
        "  \u239c  2                  \u239f\u2502   \u03c0\u239f   \u239c\u2502                 \u239c  2                  \u239f\u2502 \n",
        "nt\u239d\u212f   \u22c5polar_lift(u), \u221e\u23a0\u2502 < \u2500\u239f \u2228 \u239c\u2502periodic_argument\u239d\u212f   \u22c5polar_lift(u), \u221e\u23a0\u2502 \n",
        "                             2\u23a0   \u239d                                           \n",
        "                                                                              \n",
        "                                                                              \n",
        "                                                                              \n",
        "                                                                              \n",
        "                                                                              \n",
        "                                                                              \n",
        "                                                                              \n",
        "                                                                              \n",
        "                                                                              \n",
        "                                                                              \n",
        "\n",
        "                                                \u239e   \u239b\u2502                 \u239b \u2148\u22c5\u03c0  \n",
        "                                                \u239f   \u239c\u2502                 \u239c \u2500\u2500\u2500  \n",
        "  \u03c0   \u2502                 \u239b      1          \u239e\u2502   \u03c0\u239f   \u239c\u2502                 \u239c  2   \n",
        "\u2264 \u2500 \u2227 \u2502periodic_argument\u239c\u2500\u2500\u2500\u2500\u2500\u2500\u2500\u2500\u2500\u2500\u2500\u2500\u2500\u2500, \u221e\u239f\u2502 < \u2500\u239f \u2228 \u239c\u2502periodic_argument\u239d\u212f   \u22c5p\n",
        "  2   \u2502                 \u239dpolar_lift(x\u2080)   \u23a0\u2502   2\u23a0   \u239d                         \n",
        "                                                                              \n",
        "                                                                              \n",
        "                                                                              \n",
        "                                                                              \n",
        "                                                                              \n",
        "                                                                              \n",
        "                                                                              \n",
        "                                                                              \n",
        "                                                                              \n",
        "                                                                              \n",
        "\n",
        "               \u239e\u2502                                                 \u239e\u239e\n",
        "               \u239f\u2502                                                 \u239f\u239f\n",
        "               \u239f\u2502   \u03c0   \u2502                 \u239b      1          \u239e\u2502   \u03c0\u239f\u239f\n",
        "olar_lift(u), \u221e\u23a0\u2502 < \u2500 \u2227 \u2502periodic_argument\u239c\u2500\u2500\u2500\u2500\u2500\u2500\u2500\u2500\u2500\u2500\u2500\u2500\u2500\u2500, \u221e\u239f\u2502 < \u2500\u239f\u239f\n",
        "                    2   \u2502                 \u239dpolar_lift(x\u2080)   \u23a0\u2502   2\u23a0\u23a0\n",
        "                                                                    \n",
        "                                                                    \n",
        "                                                                    \n",
        "                                                                    \n",
        "                                                                    \n",
        "                                                                    \n",
        "                                                                    \n",
        "                                                                    \n",
        "                                                                    \n",
        "                                                                    "
       ]
      }
     ],
     "prompt_number": 13
    },
    {
     "cell_type": "code",
     "collapsed": false,
     "input": [
      "simplify(x0/(I*u*x0 + 1) + x0/(-I*u*x0 + 1))"
     ],
     "language": "python",
     "metadata": {},
     "outputs": [
      {
       "latex": [
        "$$\\frac{2 x_{0}}{u^{2} x_{0}^{2} + 1}$$"
       ],
       "metadata": {},
       "output_type": "pyout",
       "png": "[encoded data removed]",
       "prompt_number": 15,
       "text": [
        "   2\u22c5x\u2080   \n",
        "\u2500\u2500\u2500\u2500\u2500\u2500\u2500\u2500\u2500\u2500\n",
        " 2   2    \n",
        "u \u22c5x\u2080  + 1"
       ]
      }
     ],
     "prompt_number": 15
    },
    {
     "cell_type": "code",
     "collapsed": false,
     "input": [
      "124*np.array(10)"
     ],
     "language": "python",
     "metadata": {},
     "outputs": [
      {
       "latex": [
        "$$1240$$"
       ],
       "metadata": {},
       "output_type": "pyout",
       "png": "[encoded data removed]",
       "prompt_number": 55,
       "text": [
        "1240"
       ]
      }
     ],
     "prompt_number": 55
    },
    {
     "cell_type": "code",
     "collapsed": false,
     "input": [
      "_.size"
     ],
     "language": "python",
     "metadata": {},
     "outputs": [
      {
       "latex": [
        "$$1$$"
       ],
       "metadata": {},
       "output_type": "pyout",
       "png": "[encoded data removed]",
       "prompt_number": 56,
       "text": [
        "1"
       ]
      }
     ],
     "prompt_number": 56
    },
    {
     "cell_type": "code",
     "collapsed": false,
     "input": [],
     "language": "python",
     "metadata": {},
     "outputs": []
    }
   ],
   "metadata": {}
  }
 ]
}