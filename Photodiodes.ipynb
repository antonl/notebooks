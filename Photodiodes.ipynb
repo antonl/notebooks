{
 "metadata": {
  "name": "",
  "signature": "sha256:12b5f76f3c669f696df79b3c3d91446df4e6b6d9fcc0542e6e2e636245a4ad10"
 },
 "nbformat": 3,
 "nbformat_minor": 0,
 "worksheets": [
  {
   "cells": [
    {
     "cell_type": "code",
     "collapsed": false,
     "input": [
      "import pint\n",
      "q = pint.UnitRegistry()"
     ],
     "language": "python",
     "metadata": {},
     "outputs": [],
     "prompt_number": 1
    },
    {
     "cell_type": "markdown",
     "metadata": {},
     "source": [
      "## Photodiode responsivity\n",
      "\n",
      "The responsivity $r$ of a photodiode is the internal current generated $I_0$ for a unit of optical power $P_r$. $r$ is usually given in Amperes per Watt.\n",
      "\n",
      "For an ideal diode, we can write\n",
      "\n",
      "$$r_\\text{ideal} = \\frac{I_0}{P_r} = \\frac{q\\lambda}{hc}$$\n",
      "\n",
      "where $q$ is the charge of an electron, $h$ is Planckconstant, and $c$ is the speed of light.\n"
     ]
    },
    {
     "cell_type": "code",
     "collapsed": false,
     "input": [
      "lamb = (0.650*q.um).plus_minus(0.001)\n",
      "r_ideal = q.elementary_charge*lamb/(q.planck_constant*q.speed_of_light)\n",
      "r_ideal.to('A/W')"
     ],
     "language": "python",
     "metadata": {},
     "outputs": [
      {
       "html": [
        "0.5243+/-0.0008 ampere/watt"
       ],
       "latex": [
        "$0.5243+/-0.0008 \\frac{ampere}{watt}$"
       ],
       "metadata": {},
       "output_type": "pyout",
       "prompt_number": 13,
       "text": [
        "<Quantity(0.5243+/-0.0008, 'ampere / watt')>"
       ]
      }
     ],
     "prompt_number": 13
    },
    {
     "cell_type": "markdown",
     "metadata": {},
     "source": [
      "For a quick formula to calculate ideal responsivity, remember $r_\\text{ideal} = 0.807\\cdot \\lambda_{\\mu m}\\ \\text{mA/mW}$."
     ]
    },
    {
     "cell_type": "markdown",
     "metadata": {},
     "source": [
      "The quantum efficiency is a measure of deviation from the ideal photodiode behavior\n",
      "$$\\nu = \\frac{r(\\lambda)}{r_\\text{ideal}(\\lambda)}$$\n",
      "It is caused by:\n",
      "- Increase in transparency of material above 1.1$\\mu m$. The appproximate cutoff wavelength is $\\lambda_g = hc/E_g$, $E_g$ is the material bandgap.\n",
      "- Variations in doping. This changes the bandgap\n",
      "- The efficiency of charge separation. For short-wavelength radiation, the charge is generated too near the surface.\n",
      "- Reflection losses due to refractive index mismatch"
     ]
    },
    {
     "cell_type": "code",
     "collapsed": false,
     "input": [],
     "language": "python",
     "metadata": {},
     "outputs": []
    }
   ],
   "metadata": {}
  }
 ]
}