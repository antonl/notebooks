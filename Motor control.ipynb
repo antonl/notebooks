{
 "metadata": {
  "name": "Motor control"
 },
 "nbformat": 3,
 "nbformat_minor": 0,
 "worksheets": [
  {
   "cells": [
    {
     "cell_type": "code",
     "collapsed": false,
     "input": [
      "import time\n",
      "import io\n",
      "from functools import partial\n",
      "\n",
      "from serial import Serial\n",
      "\n",
      "class EnhancedSerial(Serial):\n",
      "    def __init__(self, *args, **kwargs):\n",
      "        #ensure that a reasonable timeout is set\n",
      "        timeout = kwargs.get('timeout',0.1)\n",
      "        if timeout < 0.01: timeout = 0.1\n",
      "        kwargs['timeout'] = timeout\n",
      "        Serial.__init__(self, *args, **kwargs)\n",
      "        self.buf = ''\n",
      "        \n",
      "    def readline(self, maxsize=None, timeout=1):\n",
      "        \"\"\"maxsize is ignored, timeout in seconds is the max time that is way for a complete line\"\"\"\n",
      "        tries = 0\n",
      "        while 1:\n",
      "            self.buf += self.read(512)\n",
      "            pos = self.buf.find('\\r\\n')\n",
      "            if pos >= 0:\n",
      "                line, self.buf = self.buf[:pos+2], self.buf[pos+2:]\n",
      "                return line\n",
      "            tries += 1\n",
      "            if tries * self.timeout > timeout:\n",
      "                break\n",
      "        line, self.buf = self.buf, ''\n",
      "        return line\n",
      "\n",
      "    def readlines(self, sizehint=None, timeout=1):\n",
      "        \"\"\"read all lines that are available. abort after timout\n",
      "        when no more data arrives.\"\"\"\n",
      "        lines = []\n",
      "        while 1:\n",
      "            line = self.readline(timeout=timeout)\n",
      "            if line:\n",
      "                lines.append(line)\n",
      "            if not line or line[-1:] != '\\n':\n",
      "                break\n",
      "        return lines\n",
      "\n",
      "class SMCError(Exception):\n",
      "    pass \n",
      "\n",
      "class SMC(object):\n",
      "    def __meta_injector(name, bases, dct):\n",
      "        float_props = {'acceleration': 'AC', 'backlash_comp': 'BA', 'hysteresis_comp': 'BH', 'driver_voltage': 'DV', \\\n",
      "        'lowpass_freq': 'FD', 'following_error': 'FE', 'friction_comp': 'FF', 'jerk_time': 'JR', 'd_gain': 'KD', \\\n",
      "        'i_gain': 'KI', 'p_gain': 'KP', 'v_gain': 'KV', 'current_limits': 'QI', 'velocity': 'VA'}\n",
      "        \n",
      "        int_props = {'homesearch_type': 'HT'} \n",
      "        \n",
      "        string_props = {'id': 'ID'}\n",
      "        \n",
      "        for k,v in float_props.iteritems():\n",
      "            def _tmp(a, b):\n",
      "                get_k = lambda self: float(self._ask(b, '?'))\n",
      "                set_k = lambda self, x: self._write(b, x)\n",
      "                dct.update({a: property(get_k, set_k)})\n",
      "            _tmp(k,v)\n",
      "            \n",
      "        return type(name, bases, dct)\n",
      "\n",
      "    __metaclass__ = __meta_injector\n",
      "    \n",
      "    def __init__(self, url=0, addr=1, debug=False):\n",
      "        self.address = addr\n",
      "        self._dev = EnhancedSerial(url, baudrate=57600, xonxoff=True, timeout=0.2)\n",
      "        self.prev_cmd = None\n",
      "        self.debug = debug\n",
      "        \n",
      "    def _debug(self, s):\n",
      "        if self.debug is True:\n",
      "            print s,\n",
      "            \n",
      "    def _write(self, cc, arg=None):\n",
      "        if isinstance(cc, basestring):\n",
      "            self.prev_cmd = bytearray('{:d}{:s}'.format(self.address, cc))\n",
      "            \n",
      "            if arg is None:\n",
      "                self._dev.write(bytearray('{:s}\\r\\n'.format(self.prev_cmd)))\n",
      "            else:\n",
      "                self._dev.write(bytearray('{:s}{}\\r\\n'.format(self.prev_cmd, arg)))\n",
      "        else:\n",
      "            raise NotImplementedError('Can only send string commands')\n",
      "            \n",
      "    def _ask(self, cc, arg=None):\n",
      "        resp = None\n",
      "        tries = 0        \n",
      "        \n",
      "        while True:\n",
      "            try:\n",
      "                self._write(cc, arg)\n",
      "                self._debug('Loop #{:d}'.format(tries))\n",
      "                line = self._dev.readline()\n",
      "                resp = line.decode('ascii')\n",
      "                if resp == u'':\n",
      "                    continue\n",
      "            except UnicodeError as e:\n",
      "                self._debug('Trying again, resp is {}'.format(repr(resp)))\n",
      "                tries += 1\n",
      "                continue\n",
      "            \n",
      "            if tries > 4:\n",
      "                raise SMCError('Ask didn\\'t work')\n",
      "                \n",
      "            break\n",
      "            \n",
      "        if arg is None:\n",
      "            self._debug('{:s} >> {:s}'.format(cc, resp.strip(' \\r\\n')))\n",
      "        else:\n",
      "            self._debug('{:s}{} >> {:s}'.format(cc, arg, resp.strip(' \\r\\n'))) \n",
      "           \n",
      "        c = resp[3:]\n",
      "        \n",
      "        self._debug(' >> {:s}\\n'.format(repr(c.strip(' \\r\\n'))))\n",
      "        return c.strip(' \\r\\n')\n",
      "                           \n",
      "    def _get_error(self):\n",
      "        resp = self._ask('TE')\n",
      "        \n",
      "        if resp == '@':\n",
      "            return None\n",
      "        else:\n",
      "            raise SMCError(self._ask('TB{:s}'.format(resp)))\n",
      "        \n",
      "    def enter_configure(self):\n",
      "        self._write('PW', 1)\n",
      "    \n",
      "    def load_esp(self, store=2):\n",
      "        if store in xrange(1,3):\n",
      "            self._write('ZX', store)\n",
      "        \n",
      "    def leave_configure(self):\n",
      "        self._write('PW', 0)\n",
      "        time.sleep(10)\n",
      "    \n",
      "    def reference(self):\n",
      "        self._write('OR')\n",
      "        \n",
      "    def reset(self):\n",
      "        self._write('RS')\n",
      "        time.sleep(10)\n",
      "        \n",
      "    def disable(self):\n",
      "        self._write('MM', 0)\n",
      "    \n",
      "    def enable(self):\n",
      "        self._write('MM', 1)\n",
      "        \n",
      "    def get_state(self):\n",
      "        resp = self._ask('TS')\n",
      "        return resp\n",
      "        \n",
      "    def get_pos(self):\n",
      "        pos = float(self._ask('TP'))\n",
      "        pos_t = float(self._ask('TH'))\n",
      "        #print '>> @{:6f} [{:6f}]'.format(pos, pos_t)\n",
      "        return (pos, pos_t)\n",
      "    \n",
      "    def move(self, distance):\n",
      "        if isinstance(distance, (float, int)):\n",
      "            #resp = self._ask('PT', abs(float(distance)))\n",
      "            self._write('PR', float(distance))\n",
      "            #time.sleep(float(resp)*1.1)\n",
      "            self.get_pos()\n",
      "        else:\n",
      "            raise NotImplementedError('cannot use {:s} as distance measure'.format(type(distance)))\n",
      "            \n",
      "    def move_to(self, distance):\n",
      "        if isinstance(distance, (float, int)):\n",
      "            pos,x = self.get_pos()\n",
      "            \n",
      "            self._write('PA', distance)\n",
      "            while True:\n",
      "                state = self.get_state()\n",
      "                if state[4:] in ('32', '33', '34'):\n",
      "                    break\n",
      "                elif int(state[0:4]) != 0:\n",
      "                    self._get_error()\n",
      "                    break\n",
      "                \n",
      "                #time.sleep(0.8)\n",
      "        else:\n",
      "            raise NotImplementedError('cannot use {:s} as distance measure'.format(type(distance)))\n",
      "    \n",
      "    def stop(self):\n",
      "        self._write('ST')\n",
      "            \n",
      "    def get_state(self):\n",
      "        return self._ask('TS')\n",
      "\n",
      "    def close(self):\n",
      "        self._dev.close()"
     ],
     "language": "python",
     "metadata": {},
     "outputs": [],
     "prompt_number": 1
    },
    {
     "cell_type": "code",
     "collapsed": false,
     "input": [
      "dev = SMC(8, debug=False)"
     ],
     "language": "python",
     "metadata": {},
     "outputs": [],
     "prompt_number": 2
    },
    {
     "cell_type": "code",
     "collapsed": false,
     "input": [
      "#dev.move_to(1)\n",
      "#dev._get_error()\n",
      "#dev.position\n",
      "dev.close()"
     ],
     "language": "python",
     "metadata": {},
     "outputs": [],
     "prompt_number": 81
    },
    {
     "cell_type": "code",
     "collapsed": false,
     "input": [
      "dev.reset()"
     ],
     "language": "python",
     "metadata": {},
     "outputs": [],
     "prompt_number": 46
    },
    {
     "cell_type": "code",
     "collapsed": false,
     "input": [
      "dev.debug"
     ],
     "language": "python",
     "metadata": {},
     "outputs": [
      {
       "output_type": "pyout",
       "prompt_number": 47,
       "text": [
        "True"
       ]
      }
     ],
     "prompt_number": 47
    },
    {
     "cell_type": "code",
     "collapsed": false,
     "input": [
      "dev.enter_configure()\n",
      "dev.load_esp()"
     ],
     "language": "python",
     "metadata": {},
     "outputs": [],
     "prompt_number": 48
    },
    {
     "cell_type": "code",
     "collapsed": false,
     "input": [
      "dev.leave_configure()\n",
      "dev.reference()"
     ],
     "language": "python",
     "metadata": {},
     "outputs": [],
     "prompt_number": 49
    },
    {
     "cell_type": "code",
     "collapsed": false,
     "input": [
      "dev.velocity = 0.001"
     ],
     "language": "python",
     "metadata": {},
     "outputs": [],
     "prompt_number": 3
    },
    {
     "cell_type": "code",
     "collapsed": false,
     "input": [
      "#dev.acceleration = 0.001\n",
      "#print dev.velocity\n",
      "#print dev.acceleration\n",
      "dev._get_error()"
     ],
     "language": "python",
     "metadata": {},
     "outputs": [
      {
       "output_type": "stream",
       "stream": "stdout",
       "text": [
        "TE >> 1TE@  >> '@'\n"
       ]
      }
     ],
     "prompt_number": 53
    },
    {
     "cell_type": "code",
     "collapsed": false,
     "input": [
      "dev.get_state()"
     ],
     "language": "python",
     "metadata": {},
     "outputs": [
      {
       "output_type": "pyout",
       "prompt_number": 4,
       "text": [
        "u'000033'"
       ]
      }
     ],
     "prompt_number": 4
    },
    {
     "cell_type": "code",
     "collapsed": false,
     "input": [
      "for i in xrange(10):\n",
      "    try:\n",
      "      \n",
      "        print '>> to 5'\n",
      "        dev.move_to(5)\n",
      "        print dev.get_pos()\n",
      "        print '>> to 25'\n",
      "        dev.move_to(25)\n",
      "        print dev.get_pos()\n",
      "    except KeyboardInterrupt:\n",
      "        break\n",
      "    finally: \n",
      "        dev.stop()"
     ],
     "language": "python",
     "metadata": {},
     "outputs": [
      {
       "output_type": "stream",
       "stream": "stdout",
       "text": [
        ">> to 5\n",
        "(4.99999, 4.99999)"
       ]
      },
      {
       "output_type": "stream",
       "stream": "stdout",
       "text": [
        "\n",
        ">> to 25\n"
       ]
      }
     ],
     "prompt_number": 5
    },
    {
     "cell_type": "code",
     "collapsed": false,
     "input": [],
     "language": "python",
     "metadata": {},
     "outputs": [
      {
       "output_type": "pyout",
       "prompt_number": 64,
       "text": [
        "[]"
       ]
      }
     ],
     "prompt_number": 64
    },
    {
     "cell_type": "code",
     "collapsed": false,
     "input": [
      "dev.close()"
     ],
     "language": "python",
     "metadata": {},
     "outputs": [],
     "prompt_number": 73
    },
    {
     "cell_type": "code",
     "collapsed": false,
     "input": [
      "dev.disable()"
     ],
     "language": "python",
     "metadata": {},
     "outputs": [],
     "prompt_number": 142
    },
    {
     "cell_type": "code",
     "collapsed": false,
     "input": [
      "dev.stop()"
     ],
     "language": "python",
     "metadata": {},
     "outputs": [
      {
       "ename": "IOError",
       "evalue": "raw write() returned invalid length 22 (should have been between 0 and 15)",
       "output_type": "pyerr",
       "traceback": [
        "\u001b[1;31m---------------------------------------------------------------------------\u001b[0m\n\u001b[1;31mIOError\u001b[0m                                   Traceback (most recent call last)",
        "\u001b[1;32m<ipython-input-18-cfaa6a84495d>\u001b[0m in \u001b[0;36m<module>\u001b[1;34m()\u001b[0m\n\u001b[1;32m----> 1\u001b[1;33m \u001b[0mdev\u001b[0m\u001b[1;33m.\u001b[0m\u001b[0mstop\u001b[0m\u001b[1;33m(\u001b[0m\u001b[1;33m)\u001b[0m\u001b[1;33m\u001b[0m\u001b[0m\n\u001b[0m",
        "\u001b[1;32m<ipython-input-1-d68f6773cda9>\u001b[0m in \u001b[0;36mstop\u001b[1;34m(self)\u001b[0m\n\u001b[0;32m    144\u001b[0m \u001b[1;33m\u001b[0m\u001b[0m\n\u001b[0;32m    145\u001b[0m     \u001b[1;32mdef\u001b[0m \u001b[0mstop\u001b[0m\u001b[1;33m(\u001b[0m\u001b[0mself\u001b[0m\u001b[1;33m)\u001b[0m\u001b[1;33m:\u001b[0m\u001b[1;33m\u001b[0m\u001b[0m\n\u001b[1;32m--> 146\u001b[1;33m         \u001b[0mself\u001b[0m\u001b[1;33m.\u001b[0m\u001b[0m_write\u001b[0m\u001b[1;33m(\u001b[0m\u001b[1;34m'ST'\u001b[0m\u001b[1;33m)\u001b[0m\u001b[1;33m\u001b[0m\u001b[0m\n\u001b[0m\u001b[0;32m    147\u001b[0m \u001b[1;33m\u001b[0m\u001b[0m\n\u001b[0;32m    148\u001b[0m     \u001b[1;32mdef\u001b[0m \u001b[0mget_state\u001b[0m\u001b[1;33m(\u001b[0m\u001b[0mself\u001b[0m\u001b[1;33m)\u001b[0m\u001b[1;33m:\u001b[0m\u001b[1;33m\u001b[0m\u001b[0m\n",
        "\u001b[1;32m<ipython-input-1-d68f6773cda9>\u001b[0m in \u001b[0;36m_write\u001b[1;34m(self, cc, arg)\u001b[0m\n\u001b[0;32m     45\u001b[0m                 \u001b[0mself\u001b[0m\u001b[1;33m.\u001b[0m\u001b[0msio\u001b[0m\u001b[1;33m.\u001b[0m\u001b[0mwrite\u001b[0m\u001b[1;33m(\u001b[0m\u001b[0municode\u001b[0m\u001b[1;33m(\u001b[0m\u001b[1;34m'{:s}{}\\r\\n'\u001b[0m\u001b[1;33m)\u001b[0m\u001b[1;33m.\u001b[0m\u001b[0mformat\u001b[0m\u001b[1;33m(\u001b[0m\u001b[0mself\u001b[0m\u001b[1;33m.\u001b[0m\u001b[0mprev_cmd\u001b[0m\u001b[1;33m,\u001b[0m \u001b[0marg\u001b[0m\u001b[1;33m)\u001b[0m\u001b[1;33m)\u001b[0m\u001b[1;33m\u001b[0m\u001b[0m\n\u001b[0;32m     46\u001b[0m \u001b[1;33m\u001b[0m\u001b[0m\n\u001b[1;32m---> 47\u001b[1;33m             \u001b[0mself\u001b[0m\u001b[1;33m.\u001b[0m\u001b[0msio\u001b[0m\u001b[1;33m.\u001b[0m\u001b[0mflush\u001b[0m\u001b[1;33m(\u001b[0m\u001b[1;33m)\u001b[0m\u001b[1;33m\u001b[0m\u001b[0m\n\u001b[0m\u001b[0;32m     48\u001b[0m         \u001b[1;32melse\u001b[0m\u001b[1;33m:\u001b[0m\u001b[1;33m\u001b[0m\u001b[0m\n\u001b[0;32m     49\u001b[0m             \u001b[1;32mraise\u001b[0m \u001b[0mNotImplementedError\u001b[0m\u001b[1;33m(\u001b[0m\u001b[1;34m'Can only send string commands'\u001b[0m\u001b[1;33m)\u001b[0m\u001b[1;33m\u001b[0m\u001b[0m\n",
        "\u001b[1;31mIOError\u001b[0m: raw write() returned invalid length 22 (should have been between 0 and 15)"
       ]
      }
     ],
     "prompt_number": 18
    },
    {
     "cell_type": "code",
     "collapsed": false,
     "input": [
      "dev.get_state()"
     ],
     "language": "python",
     "metadata": {},
     "outputs": [
      {
       "output_type": "stream",
       "stream": "stdout",
       "text": [
        "TS >> 1TS000033  >> u'000033'\n"
       ]
      },
      {
       "output_type": "pyout",
       "prompt_number": 72,
       "text": [
        "u'000033'"
       ]
      }
     ],
     "prompt_number": 72
    },
    {
     "cell_type": "code",
     "collapsed": false,
     "input": [
      "int(u'000033'[0:4]), u'000033'[4:]"
     ],
     "language": "python",
     "metadata": {},
     "outputs": [
      {
       "output_type": "pyout",
       "prompt_number": 73,
       "text": [
        "(0, u'33')"
       ]
      }
     ],
     "prompt_number": 73
    },
    {
     "cell_type": "code",
     "collapsed": false,
     "input": [
      "del dev"
     ],
     "language": "python",
     "metadata": {},
     "outputs": [],
     "prompt_number": 53
    },
    {
     "cell_type": "code",
     "collapsed": false,
     "input": [
      "dev.close()"
     ],
     "language": "python",
     "metadata": {},
     "outputs": [],
     "prompt_number": 19
    },
    {
     "cell_type": "code",
     "collapsed": false,
     "input": [],
     "language": "python",
     "metadata": {},
     "outputs": []
    }
   ],
   "metadata": {}
  }
 ]
}