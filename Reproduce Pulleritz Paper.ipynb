{
 "metadata": {
  "name": "",
  "signature": "sha256:b104547b41c1a48d2c626bb120e3a379ac36bd36bc16fe2717ff780ed747af46"
 },
 "nbformat": 3,
 "nbformat_minor": 0,
 "worksheets": [
  {
   "cells": [
    {
     "cell_type": "code",
     "collapsed": true,
     "input": [
      "%matplotlib inline\n",
      "#from qutip import *\n",
      "import numpy as np\n",
      "import scipy.linalg as sp\n",
      "from IPython.display import display\n",
      "import itertools as it\n",
      "from matplotlib.pyplot import *\n",
      "%load_ext cythonmagic"
     ],
     "language": "python",
     "metadata": {},
     "outputs": [],
     "prompt_number": 1
    },
    {
     "cell_type": "heading",
     "level": 1,
     "metadata": {},
     "source": [
      "Two-dimensional electronic spectroscopy of an excitonically coupled dimer"
     ]
    },
    {
     "cell_type": "markdown",
     "metadata": {},
     "source": [
      "This is an attempt to reproduce a paper by [*Kjellberg, et.al.*](http://link.aps.org/doi/10.1103/PhysRevB.74.024303).\n",
      "\n",
      "Summary here\n"
     ]
    },
    {
     "cell_type": "heading",
     "level": 2,
     "metadata": {},
     "source": [
      "Excitonic Hamiltonian"
     ]
    },
    {
     "cell_type": "heading",
     "level": 3,
     "metadata": {},
     "source": [
      "Unit stuff"
     ]
    },
    {
     "cell_type": "markdown",
     "metadata": {},
     "source": [
      "So, QuTIP uses the interaction picture for simulations, it seems. Fair enough. Also, we are sure we're in the eigenstates. From the source, it seems that $\\hbar$ is set to $1.0$ for the integration, so everything is in units of $\\hbar$s."
     ]
    },
    {
     "cell_type": "code",
     "collapsed": false,
     "input": [
      "# some help for units\n",
      "import pint\n",
      "q = pint.UnitRegistry()\n",
      "kT = 300*q.kelvin*q.k\n",
      "display(kT.to('hbar/fs')) # everything is in factors of hbar so...\n",
      "display((q.hbar*q.speed_of_light/(650*q.nm)).to('hbar/fs'))"
     ],
     "language": "python",
     "metadata": {},
     "outputs": [
      {
       "html": [
        "0.01963804974326989 hbar/femtosecond"
       ],
       "latex": [
        "$0.01963804974326989 \\frac{hbar}{femtosecond}$"
       ],
       "metadata": {},
       "output_type": "display_data",
       "text": [
        "<Quantity(0.01963804974326989, 'hbar / femtosecond')>"
       ]
      },
      {
       "html": [
        "0.46121916615384617 hbar/femtosecond"
       ],
       "latex": [
        "$0.46121916615384617 \\frac{hbar}{femtosecond}$"
       ],
       "metadata": {},
       "output_type": "display_data",
       "text": [
        "<Quantity(0.46121916615384617, 'hbar / femtosecond')>"
       ]
      }
     ],
     "prompt_number": 2
    },
    {
     "cell_type": "code",
     "collapsed": false,
     "input": [
      "display((q.hbar*q.speed_of_light/(1/(2*q.pi*30*q.wavenumber))).to('hbar/fs'))"
     ],
     "language": "python",
     "metadata": {},
     "outputs": [
      {
       "html": [
        "0.005650954701926559 hbar/femtosecond"
       ],
       "latex": [
        "$0.005650954701926559 \\frac{hbar}{femtosecond}$"
       ],
       "metadata": {},
       "output_type": "display_data",
       "text": [
        "<Quantity(0.005650954701926559, 'hbar / femtosecond')>"
       ]
      }
     ],
     "prompt_number": 3
    },
    {
     "cell_type": "markdown",
     "metadata": {},
     "source": [
      "Each chromaphore is assumed to have two electronic states: a ground state $\\left | g \\right >$ and an excited state $\\left | e \\right >$. The dipole-dipole coupling term is denoted $V$.\n",
      "\n",
      "The ground state energy is denoted `e0`, while the energy gap is given by `e1` and `e2` for the first and second dipoles, respectively. "
     ]
    },
    {
     "cell_type": "code",
     "collapsed": false,
     "input": [
      "def basis(N, n):\n",
      "    tmp = np.zeros((N,1), dtype=np.complex128)\n",
      "    tmp[n] = 1\n",
      "    return tmp\n",
      "\n",
      "def qeye(N):\n",
      "    return np.eye(N, dtype=np.complex128)\n",
      "\n",
      "def ket2dm(ket):\n",
      "    j = np.max(ket.shape)\n",
      "    tmp = np.zeros((j,j), dtype=np.complex128)\n",
      "    for i,j in enumerate(ket):\n",
      "        tmp[i,i] = j[0]*j[0].conjugate()\n",
      "    return tmp\n",
      "\n",
      "def dag(ket):\n",
      "    return np.conj(ket.T)\n",
      "\n",
      "def tensor(A,B):\n",
      "    return np.kron(A,B)\n",
      "\n",
      "def sigmax():\n",
      "    tmp = np.zeros((2,2), dtype=int)\n",
      "    tmp[1,0] = 1\n",
      "    tmp[0,1] = 1\n",
      "    return tmp\n",
      "\n",
      "def normed(mat):\n",
      "    return mat/np.trace(mat)\n",
      "\n",
      "def mat2vec(mat):\n",
      "    return mat.T.reshape(np.prod(mat.shape), 1)\n",
      "\n",
      "def vec2mat(vec):\n",
      "    n = int(np.sqrt(np.max(vec.shape)))\n",
      "    return vec.reshape((n,n)).T\n",
      "\n",
      "def vec2mat_index(N, I):\n",
      "    j = int(I / N)\n",
      "    i = I - N * j\n",
      "    return i, j\n",
      "\n",
      "def spre(A):\n",
      "    return sp.kron(np.eye(A.shape[0], dtype=int), A)\n",
      "\n",
      "def spost(A):\n",
      "    return sp.kron(np.conj(A).T, np.eye(A.shape[1], dtype=int))\n",
      "\n",
      "def liouvillian(H):\n",
      "    return (spre(H) - spost(H))\n"
     ],
     "language": "python",
     "metadata": {},
     "outputs": [],
     "prompt_number": 4
    },
    {
     "cell_type": "code",
     "collapsed": false,
     "input": [
      "kT"
     ],
     "language": "python",
     "metadata": {},
     "outputs": [
      {
       "html": [
        "300 boltzmann_constant kelvin"
       ],
       "latex": [
        "$300 boltzmann_constant \\cdot kelvin$"
       ],
       "metadata": {},
       "output_type": "pyout",
       "prompt_number": 5,
       "text": [
        "<Quantity(300, 'boltzmann_constant * kelvin')>"
       ]
      }
     ],
     "prompt_number": 5
    },
    {
     "cell_type": "code",
     "collapsed": false,
     "input": [
      "import sympy\n",
      "r11, r22, r33 = sympy.symbols('r11, r22, r33', real=True)\n",
      "r12, r13, r21, r23, r31, r32 = sympy.symbols('r12, r13, r21, r23, r31, r32', complex=True)\n",
      "\n",
      "aa, ab, ba, bb = sympy.symbols('aa, ab, ba, bb')\n",
      "Vab, Vba = sympy.symbols('Vab, Vba', real=True)\n",
      "rho = np.array([[aa, ab], [ba, bb]], dtype=object)\n",
      "#mat2vec(rho)\n",
      "#rho = np.array([[r11, r12], [r21, r22]], dtype=object)\n",
      "op = np.array([[r11, Vab], [Vba, r22]], dtype=object)\n",
      "\n",
      "print(spre(op)-spost(op))\n",
      "print(mat2vec(rho))"
     ],
     "language": "python",
     "metadata": {},
     "outputs": [
      {
       "output_type": "stream",
       "stream": "stdout",
       "text": [
        "[[0 Vab -Vba 0]\n",
        " [Vba -r11 + r22 0 -Vba]\n",
        " [-Vab 0 r11 - r22 Vab]\n",
        " [0 -Vab Vba 0]]\n",
        "[[aa]\n",
        " [ba]\n",
        " [ab]\n",
        " [bb]]\n"
       ]
      }
     ],
     "prompt_number": 6
    },
    {
     "cell_type": "code",
     "collapsed": false,
     "input": [
      "test = np.array([[r11, r12], [r21, r22]], dtype=object)\n",
      "np.kron(np.eye(2, dtype=int), test)"
     ],
     "language": "python",
     "metadata": {},
     "outputs": [
      {
       "metadata": {},
       "output_type": "pyout",
       "prompt_number": 7,
       "text": [
        "array([[r11, r12, 0, 0],\n",
        "       [r21, r22, 0, 0],\n",
        "       [0, 0, r11, r12],\n",
        "       [0, 0, r21, r22]], dtype=object)"
       ]
      }
     ],
     "prompt_number": 7
    },
    {
     "cell_type": "code",
     "collapsed": false,
     "input": [
      "np.dot(np.array([[0, 1], [1, 0]]), np.array([[r11, r12], [r21, r22]], dtype=object))"
     ],
     "language": "python",
     "metadata": {},
     "outputs": [
      {
       "metadata": {},
       "output_type": "pyout",
       "prompt_number": 8,
       "text": [
        "array([[r21, r22],\n",
        "       [r11, r12]], dtype=object)"
       ]
      }
     ],
     "prompt_number": 8
    },
    {
     "cell_type": "code",
     "collapsed": false,
     "input": [
      "sympy.simplify(np.dot((spre(op)-spost(op)), mat2vec(rho))[1,0])"
     ],
     "language": "python",
     "metadata": {},
     "outputs": [
      {
       "metadata": {},
       "output_type": "pyout",
       "prompt_number": 9,
       "text": [
        "Vba*aa - Vba*bb - ba*(r11 - r22)"
       ]
      }
     ],
     "prompt_number": 9
    },
    {
     "cell_type": "code",
     "collapsed": true,
     "input": [
      "gs, es = basis(2,0), basis(2,1)\n",
      "one = qeye(2)\n",
      "\n",
      "e0 = 0.0\n",
      "e1 = 0.5 # 600 nm\n",
      "e2 = 1.0 # 650 nm\n",
      "V = 0.1\n",
      "\n",
      "# angle of dipoles\n",
      "angle = np.deg2rad(5)\n",
      "\n",
      "kT = 0.02 # 300 K in hbar/fs\n",
      "\n",
      "H1 = e0*ket2dm(gs) + e1*ket2dm(es)\n",
      "H2 = e0*ket2dm(gs) + e2*ket2dm(es)\n",
      "\n",
      "Vterm = V*(tensor(gs*dag(es), es*dag(gs)) + tensor(es*dag(gs), gs*dag(es)))\n",
      "#Vterm = V*(tensor(sigmax(),sigmax()))\n",
      "Hsite = tensor(one, H1) + tensor(H2, one) + Vterm\n",
      "\n",
      "E, exciton_basis = sp.eigh(Hsite)\n",
      "#display(Hsite)\n",
      "\n",
      "#Hsite = Hsite.transform(exciton_basis).tidyup()\n",
      "#Hsite = qeye(4)\n",
      "display(Hsite)\n",
      "\n",
      "Hint = (tensor(E[1]*np.cos(angle)*sigmax(), qeye(2)) + tensor(qeye(2), E[2]*np.cos(angle)*sigmax()))\n",
      "display(Hint)\n",
      "\n",
      "display(Hsite + Hint)"
     ],
     "language": "python",
     "metadata": {},
     "outputs": [
      {
       "metadata": {},
       "output_type": "display_data",
       "text": [
        "array([[ 0.0+0.j,  0.0+0.j,  0.0+0.j,  0.0+0.j],\n",
        "       [ 0.0+0.j,  0.5+0.j,  0.1+0.j,  0.0+0.j],\n",
        "       [ 0.0+0.j,  0.1+0.j,  1.0+0.j,  0.0+0.j],\n",
        "       [ 0.0+0.j,  0.0+0.j,  0.0+0.j,  1.5+0.j]])"
       ]
      },
      {
       "metadata": {},
       "output_type": "display_data",
       "text": [
        "array([[ 0.00000000+0.j,  1.01537966+0.j,  0.47891239+0.j,  0.00000000+0.j],\n",
        "       [ 1.01537966+0.j,  0.00000000+0.j,  0.00000000+0.j,  0.47891239+0.j],\n",
        "       [ 0.47891239+0.j,  0.00000000+0.j,  0.00000000+0.j,  1.01537966+0.j],\n",
        "       [ 0.00000000+0.j,  0.47891239+0.j,  1.01537966+0.j,  0.00000000+0.j]])"
       ]
      },
      {
       "metadata": {},
       "output_type": "display_data",
       "text": [
        "array([[ 0.00000000+0.j,  1.01537966+0.j,  0.47891239+0.j,  0.00000000+0.j],\n",
        "       [ 1.01537966+0.j,  0.50000000+0.j,  0.10000000+0.j,  0.47891239+0.j],\n",
        "       [ 0.47891239+0.j,  0.10000000+0.j,  1.00000000+0.j,  1.01537966+0.j],\n",
        "       [ 0.00000000+0.j,  0.47891239+0.j,  1.01537966+0.j,  1.50000000+0.j]])"
       ]
      }
     ],
     "prompt_number": 10
    },
    {
     "cell_type": "markdown",
     "metadata": {},
     "source": [
      "Ok, so now we have a site Hamiltonian and can get the eigenstates in the exciton basis. I've transformed $H_\\text{site}$ to this exciton basis. We also need to get the initial time probability density"
     ]
    },
    {
     "cell_type": "code",
     "collapsed": true,
     "input": [
      "rho0 = np.zeros((4,4), dtype=np.complex128)\n",
      "for i, e in enumerate(E):\n",
      "    j = basis(4, i)\n",
      "    rho0[:,i,None] = np.exp(-e/kT)*j\n",
      "rho0 = normed(rho0)\n",
      "display(rho0)"
     ],
     "language": "python",
     "metadata": {},
     "outputs": [
      {
       "metadata": {},
       "output_type": "display_data",
       "text": [
        "array([[  1.00000000e+00+0.j,   0.00000000e+00+0.j,   0.00000000e+00+0.j,\n",
        "          0.00000000e+00+0.j],\n",
        "       [  0.00000000e+00+0.j,   3.63768700e-11+0.j,   0.00000000e+00+0.j,\n",
        "          0.00000000e+00+0.j],\n",
        "       [  0.00000000e+00+0.j,   0.00000000e+00+0.j,   7.36357185e-23+0.j,\n",
        "          0.00000000e+00+0.j],\n",
        "       [  0.00000000e+00+0.j,   0.00000000e+00+0.j,   0.00000000e+00+0.j,\n",
        "          2.67863696e-33+0.j]])"
       ]
      }
     ],
     "prompt_number": 11
    },
    {
     "cell_type": "heading",
     "level": 2,
     "metadata": {},
     "source": [
      "Redfield theory "
     ]
    },
    {
     "cell_type": "markdown",
     "metadata": {},
     "source": [
      "Parts still need to do:\n",
      "\n",
      "- Redfield theory derivation for this system\n",
      "- How to evaluate the S3 function"
     ]
    },
    {
     "cell_type": "markdown",
     "metadata": {},
     "source": [
      "Now that we have the density matrix, we need to add in the dephasing in ways that make sense. The paper used Redfield theory with a functional form for the phonon bath. "
     ]
    },
    {
     "cell_type": "code",
     "collapsed": false,
     "input": [
      "%%cython\n",
      "\n",
      "import cmath\n",
      "\n",
      "DEF S = 0.1\n",
      "DEF pure_dephasing = 0.005\n",
      "\n",
      "import numpy as np\n",
      "cimport numpy as np\n",
      "\n",
      "cpdef float bath(float w, float wc): \n",
      "    cdef float r = w/wc\n",
      "    return 0.5*S*r*r/wc*np.exp(-r)\n",
      "    \n",
      "cpdef float bose(float w, float kT):\n",
      "    return 1./(1-np.exp(-w/kT))\n",
      "\n",
      "cpdef float fast_bath(float w):\n",
      "    if abs(w) < 1e-3: \n",
      "        return pure_dephasing\n",
      "    else:\n",
      "        return np.pi*(1+bose(w, 0.02))*bath(w, 0.15)\n",
      "    \n",
      "cpdef double[:] bath_v(double[:] w):\n",
      "    cdef double[:] res = np.zeros_like(w)\n",
      "    for i in range(len(w)):\n",
      "        res[i] = fast_bath(w[i])\n",
      "    return res"
     ],
     "language": "python",
     "metadata": {},
     "outputs": [],
     "prompt_number": 12
    },
    {
     "cell_type": "code",
     "collapsed": false,
     "input": [
      "w = np.linspace(1e-6, 100*kT, 1000)\n",
      "plot(w, bath_v(w) - bath)\n",
      "#plot(w, np.pi*(1+bose(w, 0.02))*bath(w, 0.15))\n",
      "#plot(w, np.pi*(1+bose(w, 0.02))*bath(w, 0.2))\n",
      "\n",
      "#ylim([-10, 2])\n",
      "grid()"
     ],
     "language": "python",
     "metadata": {},
     "outputs": [
      {
       "ename": "TypeError",
       "evalue": "unsupported operand type(s) for -: '_cython_magic_708e2e4e23eb941bd1dd9bfa585f7bd4._memoryviewslice' and 'builtin_function_or_method'",
       "output_type": "pyerr",
       "traceback": [
        "\u001b[0;31m---------------------------------------------------------------------------\u001b[0m\n\u001b[0;31mTypeError\u001b[0m                                 Traceback (most recent call last)",
        "\u001b[0;32m<ipython-input-13-88c14533a180>\u001b[0m in \u001b[0;36m<module>\u001b[0;34m()\u001b[0m\n\u001b[1;32m      1\u001b[0m \u001b[0mw\u001b[0m \u001b[0;34m=\u001b[0m \u001b[0mnp\u001b[0m\u001b[0;34m.\u001b[0m\u001b[0mlinspace\u001b[0m\u001b[0;34m(\u001b[0m\u001b[0;36m1e-6\u001b[0m\u001b[0;34m,\u001b[0m \u001b[0;36m100\u001b[0m\u001b[0;34m*\u001b[0m\u001b[0mkT\u001b[0m\u001b[0;34m,\u001b[0m \u001b[0;36m1000\u001b[0m\u001b[0;34m)\u001b[0m\u001b[0;34m\u001b[0m\u001b[0m\n\u001b[0;32m----> 2\u001b[0;31m \u001b[0mplot\u001b[0m\u001b[0;34m(\u001b[0m\u001b[0mw\u001b[0m\u001b[0;34m,\u001b[0m \u001b[0mbath_v\u001b[0m\u001b[0;34m(\u001b[0m\u001b[0mw\u001b[0m\u001b[0;34m)\u001b[0m \u001b[0;34m-\u001b[0m \u001b[0mbath\u001b[0m\u001b[0;34m)\u001b[0m\u001b[0;34m\u001b[0m\u001b[0m\n\u001b[0m\u001b[1;32m      3\u001b[0m \u001b[0;31m#plot(w, np.pi*(1+bose(w, 0.02))*bath(w, 0.15))\u001b[0m\u001b[0;34m\u001b[0m\u001b[0;34m\u001b[0m\u001b[0m\n\u001b[1;32m      4\u001b[0m \u001b[0;31m#plot(w, np.pi*(1+bose(w, 0.02))*bath(w, 0.2))\u001b[0m\u001b[0;34m\u001b[0m\u001b[0;34m\u001b[0m\u001b[0m\n\u001b[1;32m      5\u001b[0m \u001b[0;34m\u001b[0m\u001b[0m\n",
        "\u001b[0;31mTypeError\u001b[0m: unsupported operand type(s) for -: '_cython_magic_708e2e4e23eb941bd1dd9bfa585f7bd4._memoryviewslice' and 'builtin_function_or_method'"
       ]
      }
     ],
     "prompt_number": 13
    },
    {
     "cell_type": "code",
     "collapsed": false,
     "input": [
      "(bath(10, 0.2)/bath(-10,0.2))"
     ],
     "language": "python",
     "metadata": {},
     "outputs": [
      {
       "metadata": {},
       "output_type": "pyout",
       "prompt_number": 14,
       "text": [
        "3.7200759892670474e-44"
       ]
      }
     ],
     "prompt_number": 14
    },
    {
     "cell_type": "code",
     "collapsed": false,
     "input": [
      "def serial_dot(list):\n",
      "    list = iter(list)\n",
      "    inp = next(list)\n",
      "    for n in list:\n",
      "        inp = np.dot(inp, n)\n",
      "    return inp    "
     ],
     "language": "python",
     "metadata": {},
     "outputs": [],
     "prompt_number": 15
    },
    {
     "cell_type": "code",
     "collapsed": false,
     "input": [
      "def s1(w):\n",
      "    S1 = np.zeros_like(w, dtype=complex)\n",
      "    vket = mat2vec(rho0)\n",
      "    vbra = dag(mat2vec(Hint))\n",
      "    cV = liouvillian(Hint)\n",
      "    \n",
      "    for i, t2 in enumerate(w): # can be parallelized\n",
      "        G = sp.expm(t2*liouvillian(Hsite))\n",
      "        S1[i] = np.squeeze(serial_dot([vbra, G, cV, vket]))\n",
      "    return S1"
     ],
     "language": "python",
     "metadata": {},
     "outputs": [],
     "prompt_number": 16
    },
    {
     "cell_type": "code",
     "collapsed": false,
     "input": [
      "t2_list,dt = np.linspace(0, 100, 1000, retstep=True) # fs\n",
      "S1 = s1(t2_list)\n",
      "plot(t2_list, S1)"
     ],
     "language": "python",
     "metadata": {},
     "outputs": [
      {
       "output_type": "stream",
       "stream": "stderr",
       "text": [
        "/usr/local/lib/python3.4/site-packages/numpy/core/numeric.py:460: ComplexWarning: Casting complex values to real discards the imaginary part\n",
        "  return array(a, dtype, copy=False, order=order)\n"
       ]
      },
      {
       "metadata": {},
       "output_type": "pyout",
       "prompt_number": 17,
       "text": [
        "[<matplotlib.lines.Line2D at 0x10f941b00>]"
       ]
      },
      {
       "metadata": {},
       "output_type": "display_data",
       "png": "[encoded data removed]",
       "text": [
        "<matplotlib.figure.Figure at 0x10efcaa20>"
       ]
      }
     ],
     "prompt_number": 17
    },
    {
     "cell_type": "code",
     "collapsed": false,
     "input": [
      "from numpy.fft import *\n",
      "plot(fftshift(fftfreq(1000, dt)), np.abs(fftshift(fft(S1))))\n",
      "#plot(fftshift(fftfreq(1000, dt)), abs(fftshift(fft(S1))))\n",
      "xlim([0,0.4])\n",
      "grid()"
     ],
     "language": "python",
     "metadata": {},
     "outputs": [
      {
       "metadata": {},
       "output_type": "display_data",
       "png": "[encoded data removed]",
       "text": [
        "<matplotlib.figure.Figure at 0x10ec12a58>"
       ]
      }
     ],
     "prompt_number": 19
    },
    {
     "cell_type": "code",
     "collapsed": false,
     "input": [
      "E"
     ],
     "language": "python",
     "metadata": {},
     "outputs": [
      {
       "metadata": {},
       "output_type": "pyout",
       "prompt_number": 20,
       "text": [
        "array([ 0.        ,  0.48074176,  1.01925824,  1.5       ])"
       ]
      }
     ],
     "prompt_number": 20
    },
    {
     "cell_type": "code",
     "collapsed": false,
     "input": [
      "rcParams['axes.axisbelow'] = True\n",
      "rcParams['axes.xmargin'] = 0.01\n",
      "rcParams['axes.ymargin'] = 0.01\n",
      "rcParams['figure.dpi'] = 600\n",
      "rcParams['figure.figsize'] = (16, 8)\n",
      "rcParams['figure.facecolor'] = '#ffffff'\n",
      "\n",
      "rcParams['axes.facecolor'] = '#eeeeee'\n",
      "\n",
      "rcParams['font.size'] = 16 \n",
      "#plt.rcParams['font.sans-serif'] = \n",
      "#plt.rcParams['font.variant'] = 'small-caps'\n",
      "rcParams['font.weight'] = 'roman'\n",
      "rcParams['text.color'] = '#2e2e2e'\n",
      "\n",
      "rcParams['grid.alpha'] = 1.\n",
      "rcParams['grid.color'] = '#f5f5f5'\n",
      "rcParams['grid.linestyle'] = '-'\n",
      "rcParams['grid.linewidth'] = 2.0\n",
      "\n",
      "rcParams['lines.linewidth'] = 2\n",
      "rcParams['lines.antialiased'] = True\n",
      "\n",
      "rcParams['xtick.major.pad'] = 10\n",
      "rcParams['xtick.minor.pad'] = 10\n",
      "rcParams['ytick.major.pad'] = 10\n",
      "rcParams['ytick.minor.pad'] = 10"
     ],
     "language": "python",
     "metadata": {},
     "outputs": [],
     "prompt_number": 21
    },
    {
     "cell_type": "heading",
     "level": 2,
     "metadata": {},
     "source": [
      "Two-level system"
     ]
    },
    {
     "cell_type": "code",
     "collapsed": false,
     "input": [
      "gs, es = basis(2,0), basis(2,1)\n",
      "\n",
      "e0 = 0.0\n",
      "e1 = 5 # 600 nm\n",
      "V = 1\n",
      "gamma = np.array([0, 0])\n",
      "dephasing = 0.05\n",
      "\n",
      "kT = 0.02 # 300 K in hbar/fs\n",
      "\n",
      "H1 = e0*ket2dm(gs) + e1*ket2dm(es)\n",
      "\n",
      "#Vterm = V*(tensor(gs*dag(es), es*dag(gs)) + tensor(es*dag(gs), gs*dag(es)))\n",
      "#Vterm = V*(tensor(sigmax(),sigmax()))\n",
      "Hsite = H1\n",
      "\n",
      "#E, exciton_basis = sp.eigh(Hsite)\n",
      "#display(Hsite)\n",
      "\n",
      "#Hsite = Hsite.transform(exciton_basis).tidyup()\n",
      "#Hsite = qeye(4)\n",
      "display(Hsite)\n",
      "\n",
      "Hint = -V*sigmax()\n",
      "display(Hint)\n",
      "\n",
      "display(Hsite + Hint)"
     ],
     "language": "python",
     "metadata": {},
     "outputs": [
      {
       "metadata": {},
       "output_type": "display_data",
       "text": [
        "array([[ 0.+0.j,  0.+0.j],\n",
        "       [ 0.+0.j,  5.+0.j]])"
       ]
      },
      {
       "metadata": {},
       "output_type": "display_data",
       "text": [
        "array([[ 0, -1],\n",
        "       [-1,  0]])"
       ]
      },
      {
       "metadata": {},
       "output_type": "display_data",
       "text": [
        "array([[ 0.+0.j, -1.+0.j],\n",
        "       [-1.+0.j,  5.+0.j]])"
       ]
      }
     ],
     "prompt_number": 22
    },
    {
     "cell_type": "code",
     "collapsed": false,
     "input": [
      "t2_list, dt = np.linspace(0, 100, 1000, retstep=True)\n",
      "expect = [ket2dm(basis(2,0)), ket2dm(basis(2,1)), Hint]\n",
      "res = np.zeros((len(expect), len(t2_list)), dtype=complex)\n",
      "vket = mat2vec(ket2dm(basis(2,0)))\n",
      "#vbra = mat2vec(ket2dm(basis(2,1))).T\n",
      "cV = liouvillian(Hint)\n",
      "#gamma = np.array([0, 1])\n",
      "L = liouvillian(Hsite)\n",
      "\n",
      "for I,J in it.product(range(2*2), repeat=2):\n",
      "    a,b = vec2mat_index(2, I)\n",
      "    c,d = vec2mat_index(2, J)\n",
      "    \n",
      "    L[I,J] -= 0.5j*(gamma[a] + gamma[b]) + 1j*(a!=b)*dephasing\n",
      "    \n",
      "norm = np.zeros((len(t2_list),))\n",
      "#L = -1.0j*liouvillian(Hsite) - 0.1*qeye(4) - np.kron(qeye(2), sigmax()) - np.kron(sigmax(), qeye(2))\n",
      "    \n",
      "for i, t2 in enumerate(t2_list): # can be parallelized\n",
      "    G = sp.expm2(-1j*t2*L)\n",
      "    propagated = 1j*serial_dot([G, cV, vket])\n",
      "    \n",
      "    norm[i] = np.real(np.trace(vec2mat(propagated)))\n",
      "    for k,A in enumerate(expect):\n",
      "        vbra = dag(mat2vec(A))\n",
      "        res[k,i] = np.squeeze(np.dot(vbra, propagated))\n",
      "\n",
      "    "
     ],
     "language": "python",
     "metadata": {},
     "outputs": [],
     "prompt_number": 23
    },
    {
     "cell_type": "code",
     "collapsed": false,
     "input": [
      "#plot(t2_list, np.real(res[0,:]))\n",
      "#plot(t2_list, np.real(res[1,:]))\n",
      "plot(t2_list, np.real(res[2,:]))\n",
      "#plot(t2_list, norm)\n",
      "#plot(t2_list, np.imag(norm))"
     ],
     "language": "python",
     "metadata": {},
     "outputs": [
      {
       "metadata": {},
       "output_type": "pyout",
       "prompt_number": 24,
       "text": [
        "[<matplotlib.lines.Line2D at 0x10ecbdda0>]"
       ]
      },
      {
       "metadata": {},
       "output_type": "display_data",
       "png": "[encoded data removed]",
       "text": [
        "<matplotlib.figure.Figure at 0x10ee2d518>"
       ]
      }
     ],
     "prompt_number": 24
    },
    {
     "cell_type": "code",
     "collapsed": false,
     "input": [
      "from numpy.fft import *\n",
      "n_step = len(t2_list)\n",
      "plot(2*np.pi*fftshift(fftfreq(n_step, dt)), np.real(fftshift(fft(res[2,:]))))\n",
      "plot(2*np.pi*fftshift(fftfreq(n_step, dt)), np.imag(fftshift(fft(res[2,:]))))\n",
      "plot(2*np.pi*fftshift(fftfreq(n_step, dt)), abs(fftshift(fft(res[2,:]))))\n",
      "xlim([-10,10])\n",
      "grid()"
     ],
     "language": "python",
     "metadata": {},
     "outputs": [
      {
       "metadata": {},
       "output_type": "display_data",
       "png": "[encoded data removed]",
       "text": [
        "<matplotlib.figure.Figure at 0x10eb36b00>"
       ]
      }
     ],
     "prompt_number": 25
    },
    {
     "cell_type": "code",
     "collapsed": false,
     "input": [
      "t1_list, dt1 = np.linspace(0, 200, 200, retstep=True)\n",
      "t3_list, dt3 = np.linspace(0, 200, 200, retstep=True)\n",
      "T2 = 100\n",
      "expect = [Hint]\n",
      "res = np.zeros((len(expect), len(t1_list), len(t3_list)))\n",
      "vket = mat2vec(ket2dm(basis(2,0)))\n",
      "#vbra = mat2vec(ket2dm(basis(2,1))).T\n",
      "cV = liouvillian(Hint)\n",
      "L = liouvillian(Hsite)\n",
      "\n",
      "for I,J in it.product(range(2*2), repeat=2):\n",
      "    a,b = vec2mat_index(2, I)\n",
      "    c,d = vec2mat_index(2, J)\n",
      "    \n",
      "    L[I,J] -= 0.5j*(gamma[a] + gamma[b]) + 1j*(a!=b)*dephasing\n",
      "    \n",
      "#norm = np.zeros((len(t2_list),))\n",
      "#L = -1.0j*liouvillian(Hsite) - 0.1*qeye(4) - np.kron(qeye(2), sigmax()) - np.kron(sigmax(), qeye(2))\n",
      "G2 = sp.expm2(-1j*T2*L)\n",
      "\n",
      "for i, t1 in enumerate(t1_list): # can be parallelized\n",
      "    s = \"t1:{:3.3f} [{:3d}/{:3d}]\".format(t1, i, len(t1_list)-1)\n",
      "    print('\\r', end='')\n",
      "    print(s, end='', flush=True)\n",
      "    \n",
      "    G1 = sp.expm2(-1j*t1*L)\n",
      "    propagated1 = 1j*serial_dot([G1, cV, vket])\n",
      "    for j, t3 in enumerate(t3_list): # can be parallelize\n",
      "        G3 = sp.expm2(-1j*t3*L)\n",
      "        propagated3 = (1j)**2*serial_dot([G3, cV, G2, cV, propagated1])\n",
      "        \n",
      "        for k,A in enumerate(expect):\n",
      "            vbra = dag(mat2vec(A))\n",
      "            #print(np.ravel(np.dot(vbra, propagated3)))\n",
      "            res[k,i,j:] = np.real(np.ravel(np.dot(vbra, propagated3)))\n",
      "print('\\r', end='', flush=True)\n",
      "#print(, end='', flush=True)\n",
      "w1 = 2*np.pi*fftshift(fftfreq(len(t1_list), dt1))\n",
      "w3 = 2*np.pi*fftshift(fftfreq(len(t3_list), dt3))\n",
      "two_d = np.fft.fftshift(fft2(res[0,:,:]))"
     ],
     "language": "python",
     "metadata": {},
     "outputs": [
      {
       "output_type": "stream",
       "stream": "stdout",
       "text": [
        "\r",
        "t1:0.000 [  0/199]"
       ]
      },
      {
       "output_type": "stream",
       "stream": "stdout",
       "text": [
        "\r",
        "t1:1.005 [  1/199]"
       ]
      },
      {
       "output_type": "stream",
       "stream": "stdout",
       "text": [
        "\r",
        "t1:2.010 [  2/199]"
       ]
      },
      {
       "output_type": "stream",
       "stream": "stdout",
       "text": [
        "\r",
        "t1:3.015 [  3/199]"
       ]
      },
      {
       "output_type": "stream",
       "stream": "stdout",
       "text": [
        "\r",
        "t1:4.020 [  4/199]"
       ]
      },
      {
       "output_type": "stream",
       "stream": "stdout",
       "text": [
        "\r",
        "t1:5.025 [  5/199]"
       ]
      },
      {
       "output_type": "stream",
       "stream": "stdout",
       "text": [
        "\r",
        "t1:6.030 [  6/199]"
       ]
      },
      {
       "output_type": "stream",
       "stream": "stdout",
       "text": [
        "\r",
        "t1:7.035 [  7/199]"
       ]
      },
      {
       "output_type": "stream",
       "stream": "stdout",
       "text": [
        "\r",
        "t1:8.040 [  8/199]"
       ]
      },
      {
       "output_type": "stream",
       "stream": "stdout",
       "text": [
        "\r",
        "t1:9.045 [  9/199]"
       ]
      },
      {
       "output_type": "stream",
       "stream": "stdout",
       "text": [
        "\r",
        "t1:10.050 [ 10/199]"
       ]
      },
      {
       "output_type": "stream",
       "stream": "stdout",
       "text": [
        "\r",
        "t1:11.055 [ 11/199]"
       ]
      },
      {
       "output_type": "stream",
       "stream": "stdout",
       "text": [
        "\r",
        "t1:12.060 [ 12/199]"
       ]
      },
      {
       "output_type": "stream",
       "stream": "stdout",
       "text": [
        "\r",
        "t1:13.065 [ 13/199]"
       ]
      },
      {
       "output_type": "stream",
       "stream": "stdout",
       "text": [
        "\r",
        "t1:14.070 [ 14/199]"
       ]
      },
      {
       "output_type": "stream",
       "stream": "stdout",
       "text": [
        "\r",
        "t1:15.075 [ 15/199]"
       ]
      },
      {
       "output_type": "stream",
       "stream": "stdout",
       "text": [
        "\r",
        "t1:16.080 [ 16/199]"
       ]
      },
      {
       "output_type": "stream",
       "stream": "stdout",
       "text": [
        "\r",
        "t1:17.085 [ 17/199]"
       ]
      },
      {
       "output_type": "stream",
       "stream": "stdout",
       "text": [
        "\r",
        "t1:18.090 [ 18/199]"
       ]
      },
      {
       "output_type": "stream",
       "stream": "stdout",
       "text": [
        "\r",
        "t1:19.095 [ 19/199]"
       ]
      },
      {
       "output_type": "stream",
       "stream": "stdout",
       "text": [
        "\r",
        "t1:20.101 [ 20/199]"
       ]
      },
      {
       "output_type": "stream",
       "stream": "stdout",
       "text": [
        "\r",
        "t1:21.106 [ 21/199]"
       ]
      },
      {
       "output_type": "stream",
       "stream": "stdout",
       "text": [
        "\r",
        "t1:22.111 [ 22/199]"
       ]
      },
      {
       "output_type": "stream",
       "stream": "stdout",
       "text": [
        "\r",
        "t1:23.116 [ 23/199]"
       ]
      },
      {
       "output_type": "stream",
       "stream": "stdout",
       "text": [
        "\r",
        "t1:24.121 [ 24/199]"
       ]
      },
      {
       "output_type": "stream",
       "stream": "stdout",
       "text": [
        "\r",
        "t1:25.126 [ 25/199]"
       ]
      },
      {
       "output_type": "stream",
       "stream": "stdout",
       "text": [
        "\r",
        "t1:26.131 [ 26/199]"
       ]
      },
      {
       "output_type": "stream",
       "stream": "stdout",
       "text": [
        "\r",
        "t1:27.136 [ 27/199]"
       ]
      },
      {
       "output_type": "stream",
       "stream": "stdout",
       "text": [
        "\r",
        "t1:28.141 [ 28/199]"
       ]
      },
      {
       "output_type": "stream",
       "stream": "stdout",
       "text": [
        "\r",
        "t1:29.146 [ 29/199]"
       ]
      },
      {
       "output_type": "stream",
       "stream": "stdout",
       "text": [
        "\r",
        "t1:30.151 [ 30/199]"
       ]
      },
      {
       "output_type": "stream",
       "stream": "stdout",
       "text": [
        "\r",
        "t1:31.156 [ 31/199]"
       ]
      },
      {
       "output_type": "stream",
       "stream": "stdout",
       "text": [
        "\r",
        "t1:32.161 [ 32/199]"
       ]
      },
      {
       "output_type": "stream",
       "stream": "stdout",
       "text": [
        "\r",
        "t1:33.166 [ 33/199]"
       ]
      },
      {
       "output_type": "stream",
       "stream": "stdout",
       "text": [
        "\r",
        "t1:34.171 [ 34/199]"
       ]
      },
      {
       "output_type": "stream",
       "stream": "stdout",
       "text": [
        "\r",
        "t1:35.176 [ 35/199]"
       ]
      },
      {
       "output_type": "stream",
       "stream": "stdout",
       "text": [
        "\r",
        "t1:36.181 [ 36/199]"
       ]
      },
      {
       "output_type": "stream",
       "stream": "stdout",
       "text": [
        "\r",
        "t1:37.186 [ 37/199]"
       ]
      },
      {
       "output_type": "stream",
       "stream": "stdout",
       "text": [
        "\r",
        "t1:38.191 [ 38/199]"
       ]
      },
      {
       "output_type": "stream",
       "stream": "stdout",
       "text": [
        "\r",
        "t1:39.196 [ 39/199]"
       ]
      },
      {
       "output_type": "stream",
       "stream": "stdout",
       "text": [
        "\r",
        "t1:40.201 [ 40/199]"
       ]
      },
      {
       "output_type": "stream",
       "stream": "stdout",
       "text": [
        "\r",
        "t1:41.206 [ 41/199]"
       ]
      },
      {
       "output_type": "stream",
       "stream": "stdout",
       "text": [
        "\r",
        "t1:42.211 [ 42/199]"
       ]
      },
      {
       "output_type": "stream",
       "stream": "stdout",
       "text": [
        "\r",
        "t1:43.216 [ 43/199]"
       ]
      },
      {
       "output_type": "stream",
       "stream": "stdout",
       "text": [
        "\r",
        "t1:44.221 [ 44/199]"
       ]
      },
      {
       "output_type": "stream",
       "stream": "stdout",
       "text": [
        "\r",
        "t1:45.226 [ 45/199]"
       ]
      },
      {
       "output_type": "stream",
       "stream": "stdout",
       "text": [
        "\r",
        "t1:46.231 [ 46/199]"
       ]
      },
      {
       "output_type": "stream",
       "stream": "stdout",
       "text": [
        "\r",
        "t1:47.236 [ 47/199]"
       ]
      },
      {
       "output_type": "stream",
       "stream": "stdout",
       "text": [
        "\r",
        "t1:48.241 [ 48/199]"
       ]
      },
      {
       "output_type": "stream",
       "stream": "stdout",
       "text": [
        "\r",
        "t1:49.246 [ 49/199]"
       ]
      },
      {
       "output_type": "stream",
       "stream": "stdout",
       "text": [
        "\r",
        "t1:50.251 [ 50/199]"
       ]
      },
      {
       "output_type": "stream",
       "stream": "stdout",
       "text": [
        "\r",
        "t1:51.256 [ 51/199]"
       ]
      },
      {
       "output_type": "stream",
       "stream": "stdout",
       "text": [
        "\r",
        "t1:52.261 [ 52/199]"
       ]
      },
      {
       "output_type": "stream",
       "stream": "stdout",
       "text": [
        "\r",
        "t1:53.266 [ 53/199]"
       ]
      },
      {
       "output_type": "stream",
       "stream": "stdout",
       "text": [
        "\r",
        "t1:54.271 [ 54/199]"
       ]
      },
      {
       "output_type": "stream",
       "stream": "stdout",
       "text": [
        "\r",
        "t1:55.276 [ 55/199]"
       ]
      },
      {
       "output_type": "stream",
       "stream": "stdout",
       "text": [
        "\r",
        "t1:56.281 [ 56/199]"
       ]
      },
      {
       "output_type": "stream",
       "stream": "stdout",
       "text": [
        "\r",
        "t1:57.286 [ 57/199]"
       ]
      },
      {
       "output_type": "stream",
       "stream": "stdout",
       "text": [
        "\r",
        "t1:58.291 [ 58/199]"
       ]
      },
      {
       "output_type": "stream",
       "stream": "stdout",
       "text": [
        "\r",
        "t1:59.296 [ 59/199]"
       ]
      },
      {
       "output_type": "stream",
       "stream": "stdout",
       "text": [
        "\r",
        "t1:60.302 [ 60/199]"
       ]
      },
      {
       "output_type": "stream",
       "stream": "stdout",
       "text": [
        "\r",
        "t1:61.307 [ 61/199]"
       ]
      },
      {
       "output_type": "stream",
       "stream": "stdout",
       "text": [
        "\r",
        "t1:62.312 [ 62/199]"
       ]
      },
      {
       "output_type": "stream",
       "stream": "stdout",
       "text": [
        "\r",
        "t1:63.317 [ 63/199]"
       ]
      },
      {
       "output_type": "stream",
       "stream": "stdout",
       "text": [
        "\r",
        "t1:64.322 [ 64/199]"
       ]
      },
      {
       "output_type": "stream",
       "stream": "stdout",
       "text": [
        "\r",
        "t1:65.327 [ 65/199]"
       ]
      },
      {
       "output_type": "stream",
       "stream": "stdout",
       "text": [
        "\r",
        "t1:66.332 [ 66/199]"
       ]
      },
      {
       "output_type": "stream",
       "stream": "stdout",
       "text": [
        "\r",
        "t1:67.337 [ 67/199]"
       ]
      },
      {
       "output_type": "stream",
       "stream": "stdout",
       "text": [
        "\r",
        "t1:68.342 [ 68/199]"
       ]
      },
      {
       "output_type": "stream",
       "stream": "stdout",
       "text": [
        "\r",
        "t1:69.347 [ 69/199]"
       ]
      },
      {
       "output_type": "stream",
       "stream": "stdout",
       "text": [
        "\r",
        "t1:70.352 [ 70/199]"
       ]
      },
      {
       "output_type": "stream",
       "stream": "stdout",
       "text": [
        "\r",
        "t1:71.357 [ 71/199]"
       ]
      },
      {
       "output_type": "stream",
       "stream": "stdout",
       "text": [
        "\r",
        "t1:72.362 [ 72/199]"
       ]
      },
      {
       "output_type": "stream",
       "stream": "stdout",
       "text": [
        "\r",
        "t1:73.367 [ 73/199]"
       ]
      },
      {
       "output_type": "stream",
       "stream": "stdout",
       "text": [
        "\r",
        "t1:74.372 [ 74/199]"
       ]
      },
      {
       "output_type": "stream",
       "stream": "stdout",
       "text": [
        "\r",
        "t1:75.377 [ 75/199]"
       ]
      },
      {
       "output_type": "stream",
       "stream": "stdout",
       "text": [
        "\r",
        "t1:76.382 [ 76/199]"
       ]
      },
      {
       "output_type": "stream",
       "stream": "stdout",
       "text": [
        "\r",
        "t1:77.387 [ 77/199]"
       ]
      },
      {
       "output_type": "stream",
       "stream": "stdout",
       "text": [
        "\r",
        "t1:78.392 [ 78/199]"
       ]
      },
      {
       "output_type": "stream",
       "stream": "stdout",
       "text": [
        "\r",
        "t1:79.397 [ 79/199]"
       ]
      },
      {
       "output_type": "stream",
       "stream": "stdout",
       "text": [
        "\r",
        "t1:80.402 [ 80/199]"
       ]
      },
      {
       "output_type": "stream",
       "stream": "stdout",
       "text": [
        "\r",
        "t1:81.407 [ 81/199]"
       ]
      },
      {
       "output_type": "stream",
       "stream": "stdout",
       "text": [
        "\r",
        "t1:82.412 [ 82/199]"
       ]
      },
      {
       "output_type": "stream",
       "stream": "stdout",
       "text": [
        "\r",
        "t1:83.417 [ 83/199]"
       ]
      },
      {
       "output_type": "stream",
       "stream": "stdout",
       "text": [
        "\r",
        "t1:84.422 [ 84/199]"
       ]
      },
      {
       "output_type": "stream",
       "stream": "stdout",
       "text": [
        "\r",
        "t1:85.427 [ 85/199]"
       ]
      },
      {
       "output_type": "stream",
       "stream": "stdout",
       "text": [
        "\r",
        "t1:86.432 [ 86/199]"
       ]
      },
      {
       "output_type": "stream",
       "stream": "stdout",
       "text": [
        "\r",
        "t1:87.437 [ 87/199]"
       ]
      },
      {
       "output_type": "stream",
       "stream": "stdout",
       "text": [
        "\r",
        "t1:88.442 [ 88/199]"
       ]
      },
      {
       "output_type": "stream",
       "stream": "stdout",
       "text": [
        "\r",
        "t1:89.447 [ 89/199]"
       ]
      },
      {
       "output_type": "stream",
       "stream": "stdout",
       "text": [
        "\r",
        "t1:90.452 [ 90/199]"
       ]
      },
      {
       "output_type": "stream",
       "stream": "stdout",
       "text": [
        "\r",
        "t1:91.457 [ 91/199]"
       ]
      },
      {
       "output_type": "stream",
       "stream": "stdout",
       "text": [
        "\r",
        "t1:92.462 [ 92/199]"
       ]
      },
      {
       "output_type": "stream",
       "stream": "stdout",
       "text": [
        "\r",
        "t1:93.467 [ 93/199]"
       ]
      },
      {
       "output_type": "stream",
       "stream": "stdout",
       "text": [
        "\r",
        "t1:94.472 [ 94/199]"
       ]
      },
      {
       "output_type": "stream",
       "stream": "stdout",
       "text": [
        "\r",
        "t1:95.477 [ 95/199]"
       ]
      },
      {
       "output_type": "stream",
       "stream": "stdout",
       "text": [
        "\r",
        "t1:96.482 [ 96/199]"
       ]
      },
      {
       "output_type": "stream",
       "stream": "stdout",
       "text": [
        "\r",
        "t1:97.487 [ 97/199]"
       ]
      },
      {
       "output_type": "stream",
       "stream": "stdout",
       "text": [
        "\r",
        "t1:98.492 [ 98/199]"
       ]
      },
      {
       "output_type": "stream",
       "stream": "stdout",
       "text": [
        "\r",
        "t1:99.497 [ 99/199]"
       ]
      },
      {
       "output_type": "stream",
       "stream": "stdout",
       "text": [
        "\r",
        "t1:100.503 [100/199]"
       ]
      },
      {
       "output_type": "stream",
       "stream": "stdout",
       "text": [
        "\r",
        "t1:101.508 [101/199]"
       ]
      },
      {
       "output_type": "stream",
       "stream": "stdout",
       "text": [
        "\r",
        "t1:102.513 [102/199]"
       ]
      },
      {
       "output_type": "stream",
       "stream": "stdout",
       "text": [
        "\r",
        "t1:103.518 [103/199]"
       ]
      },
      {
       "output_type": "stream",
       "stream": "stdout",
       "text": [
        "\r",
        "t1:104.523 [104/199]"
       ]
      },
      {
       "output_type": "stream",
       "stream": "stdout",
       "text": [
        "\r",
        "t1:105.528 [105/199]"
       ]
      },
      {
       "output_type": "stream",
       "stream": "stdout",
       "text": [
        "\r",
        "t1:106.533 [106/199]"
       ]
      },
      {
       "output_type": "stream",
       "stream": "stdout",
       "text": [
        "\r",
        "t1:107.538 [107/199]"
       ]
      },
      {
       "output_type": "stream",
       "stream": "stdout",
       "text": [
        "\r",
        "t1:108.543 [108/199]"
       ]
      },
      {
       "output_type": "stream",
       "stream": "stdout",
       "text": [
        "\r",
        "t1:109.548 [109/199]"
       ]
      },
      {
       "output_type": "stream",
       "stream": "stdout",
       "text": [
        "\r",
        "t1:110.553 [110/199]"
       ]
      },
      {
       "output_type": "stream",
       "stream": "stdout",
       "text": [
        "\r",
        "t1:111.558 [111/199]"
       ]
      },
      {
       "output_type": "stream",
       "stream": "stdout",
       "text": [
        "\r",
        "t1:112.563 [112/199]"
       ]
      },
      {
       "output_type": "stream",
       "stream": "stdout",
       "text": [
        "\r",
        "t1:113.568 [113/199]"
       ]
      },
      {
       "output_type": "stream",
       "stream": "stdout",
       "text": [
        "\r",
        "t1:114.573 [114/199]"
       ]
      },
      {
       "output_type": "stream",
       "stream": "stdout",
       "text": [
        "\r",
        "t1:115.578 [115/199]"
       ]
      },
      {
       "output_type": "stream",
       "stream": "stdout",
       "text": [
        "\r",
        "t1:116.583 [116/199]"
       ]
      },
      {
       "output_type": "stream",
       "stream": "stdout",
       "text": [
        "\r",
        "t1:117.588 [117/199]"
       ]
      },
      {
       "output_type": "stream",
       "stream": "stdout",
       "text": [
        "\r",
        "t1:118.593 [118/199]"
       ]
      },
      {
       "output_type": "stream",
       "stream": "stdout",
       "text": [
        "\r",
        "t1:119.598 [119/199]"
       ]
      },
      {
       "output_type": "stream",
       "stream": "stdout",
       "text": [
        "\r",
        "t1:120.603 [120/199]"
       ]
      },
      {
       "output_type": "stream",
       "stream": "stdout",
       "text": [
        "\r",
        "t1:121.608 [121/199]"
       ]
      },
      {
       "output_type": "stream",
       "stream": "stdout",
       "text": [
        "\r",
        "t1:122.613 [122/199]"
       ]
      },
      {
       "output_type": "stream",
       "stream": "stdout",
       "text": [
        "\r",
        "t1:123.618 [123/199]"
       ]
      },
      {
       "output_type": "stream",
       "stream": "stdout",
       "text": [
        "\r",
        "t1:124.623 [124/199]"
       ]
      },
      {
       "output_type": "stream",
       "stream": "stdout",
       "text": [
        "\r",
        "t1:125.628 [125/199]"
       ]
      },
      {
       "output_type": "stream",
       "stream": "stdout",
       "text": [
        "\r",
        "t1:126.633 [126/199]"
       ]
      },
      {
       "output_type": "stream",
       "stream": "stdout",
       "text": [
        "\r",
        "t1:127.638 [127/199]"
       ]
      },
      {
       "output_type": "stream",
       "stream": "stdout",
       "text": [
        "\r",
        "t1:128.643 [128/199]"
       ]
      },
      {
       "output_type": "stream",
       "stream": "stdout",
       "text": [
        "\r",
        "t1:129.648 [129/199]"
       ]
      },
      {
       "output_type": "stream",
       "stream": "stdout",
       "text": [
        "\r",
        "t1:130.653 [130/199]"
       ]
      },
      {
       "output_type": "stream",
       "stream": "stdout",
       "text": [
        "\r",
        "t1:131.658 [131/199]"
       ]
      },
      {
       "output_type": "stream",
       "stream": "stdout",
       "text": [
        "\r",
        "t1:132.663 [132/199]"
       ]
      },
      {
       "output_type": "stream",
       "stream": "stdout",
       "text": [
        "\r",
        "t1:133.668 [133/199]"
       ]
      },
      {
       "output_type": "stream",
       "stream": "stdout",
       "text": [
        "\r",
        "t1:134.673 [134/199]"
       ]
      },
      {
       "output_type": "stream",
       "stream": "stdout",
       "text": [
        "\r",
        "t1:135.678 [135/199]"
       ]
      },
      {
       "output_type": "stream",
       "stream": "stdout",
       "text": [
        "\r",
        "t1:136.683 [136/199]"
       ]
      },
      {
       "output_type": "stream",
       "stream": "stdout",
       "text": [
        "\r",
        "t1:137.688 [137/199]"
       ]
      },
      {
       "output_type": "stream",
       "stream": "stdout",
       "text": [
        "\r",
        "t1:138.693 [138/199]"
       ]
      },
      {
       "output_type": "stream",
       "stream": "stdout",
       "text": [
        "\r",
        "t1:139.698 [139/199]"
       ]
      },
      {
       "output_type": "stream",
       "stream": "stdout",
       "text": [
        "\r",
        "t1:140.704 [140/199]"
       ]
      },
      {
       "output_type": "stream",
       "stream": "stdout",
       "text": [
        "\r",
        "t1:141.709 [141/199]"
       ]
      },
      {
       "output_type": "stream",
       "stream": "stdout",
       "text": [
        "\r",
        "t1:142.714 [142/199]"
       ]
      },
      {
       "output_type": "stream",
       "stream": "stdout",
       "text": [
        "\r",
        "t1:143.719 [143/199]"
       ]
      },
      {
       "output_type": "stream",
       "stream": "stdout",
       "text": [
        "\r",
        "t1:144.724 [144/199]"
       ]
      },
      {
       "output_type": "stream",
       "stream": "stdout",
       "text": [
        "\r",
        "t1:145.729 [145/199]"
       ]
      },
      {
       "output_type": "stream",
       "stream": "stdout",
       "text": [
        "\r",
        "t1:146.734 [146/199]"
       ]
      },
      {
       "output_type": "stream",
       "stream": "stdout",
       "text": [
        "\r",
        "t1:147.739 [147/199]"
       ]
      },
      {
       "output_type": "stream",
       "stream": "stdout",
       "text": [
        "\r",
        "t1:148.744 [148/199]"
       ]
      },
      {
       "output_type": "stream",
       "stream": "stdout",
       "text": [
        "\r",
        "t1:149.749 [149/199]"
       ]
      },
      {
       "output_type": "stream",
       "stream": "stdout",
       "text": [
        "\r",
        "t1:150.754 [150/199]"
       ]
      },
      {
       "output_type": "stream",
       "stream": "stdout",
       "text": [
        "\r",
        "t1:151.759 [151/199]"
       ]
      },
      {
       "output_type": "stream",
       "stream": "stdout",
       "text": [
        "\r",
        "t1:152.764 [152/199]"
       ]
      },
      {
       "output_type": "stream",
       "stream": "stdout",
       "text": [
        "\r",
        "t1:153.769 [153/199]"
       ]
      },
      {
       "output_type": "stream",
       "stream": "stdout",
       "text": [
        "\r",
        "t1:154.774 [154/199]"
       ]
      },
      {
       "output_type": "stream",
       "stream": "stdout",
       "text": [
        "\r",
        "t1:155.779 [155/199]"
       ]
      },
      {
       "output_type": "stream",
       "stream": "stdout",
       "text": [
        "\r",
        "t1:156.784 [156/199]"
       ]
      },
      {
       "output_type": "stream",
       "stream": "stdout",
       "text": [
        "\r",
        "t1:157.789 [157/199]"
       ]
      },
      {
       "output_type": "stream",
       "stream": "stdout",
       "text": [
        "\r",
        "t1:158.794 [158/199]"
       ]
      },
      {
       "output_type": "stream",
       "stream": "stdout",
       "text": [
        "\r",
        "t1:159.799 [159/199]"
       ]
      },
      {
       "output_type": "stream",
       "stream": "stdout",
       "text": [
        "\r",
        "t1:160.804 [160/199]"
       ]
      },
      {
       "output_type": "stream",
       "stream": "stdout",
       "text": [
        "\r",
        "t1:161.809 [161/199]"
       ]
      },
      {
       "output_type": "stream",
       "stream": "stdout",
       "text": [
        "\r",
        "t1:162.814 [162/199]"
       ]
      },
      {
       "output_type": "stream",
       "stream": "stdout",
       "text": [
        "\r",
        "t1:163.819 [163/199]"
       ]
      },
      {
       "output_type": "stream",
       "stream": "stdout",
       "text": [
        "\r",
        "t1:164.824 [164/199]"
       ]
      },
      {
       "output_type": "stream",
       "stream": "stdout",
       "text": [
        "\r",
        "t1:165.829 [165/199]"
       ]
      },
      {
       "output_type": "stream",
       "stream": "stdout",
       "text": [
        "\r",
        "t1:166.834 [166/199]"
       ]
      },
      {
       "output_type": "stream",
       "stream": "stdout",
       "text": [
        "\r",
        "t1:167.839 [167/199]"
       ]
      },
      {
       "output_type": "stream",
       "stream": "stdout",
       "text": [
        "\r",
        "t1:168.844 [168/199]"
       ]
      },
      {
       "output_type": "stream",
       "stream": "stdout",
       "text": [
        "\r",
        "t1:169.849 [169/199]"
       ]
      },
      {
       "output_type": "stream",
       "stream": "stdout",
       "text": [
        "\r",
        "t1:170.854 [170/199]"
       ]
      },
      {
       "output_type": "stream",
       "stream": "stdout",
       "text": [
        "\r",
        "t1:171.859 [171/199]"
       ]
      },
      {
       "output_type": "stream",
       "stream": "stdout",
       "text": [
        "\r",
        "t1:172.864 [172/199]"
       ]
      },
      {
       "output_type": "stream",
       "stream": "stdout",
       "text": [
        "\r",
        "t1:173.869 [173/199]"
       ]
      },
      {
       "output_type": "stream",
       "stream": "stdout",
       "text": [
        "\r",
        "t1:174.874 [174/199]"
       ]
      },
      {
       "output_type": "stream",
       "stream": "stdout",
       "text": [
        "\r",
        "t1:175.879 [175/199]"
       ]
      },
      {
       "output_type": "stream",
       "stream": "stdout",
       "text": [
        "\r",
        "t1:176.884 [176/199]"
       ]
      },
      {
       "output_type": "stream",
       "stream": "stdout",
       "text": [
        "\r",
        "t1:177.889 [177/199]"
       ]
      },
      {
       "output_type": "stream",
       "stream": "stdout",
       "text": [
        "\r",
        "t1:178.894 [178/199]"
       ]
      },
      {
       "output_type": "stream",
       "stream": "stdout",
       "text": [
        "\r",
        "t1:179.899 [179/199]"
       ]
      },
      {
       "output_type": "stream",
       "stream": "stdout",
       "text": [
        "\r",
        "t1:180.905 [180/199]"
       ]
      },
      {
       "output_type": "stream",
       "stream": "stdout",
       "text": [
        "\r",
        "t1:181.910 [181/199]"
       ]
      },
      {
       "output_type": "stream",
       "stream": "stdout",
       "text": [
        "\r",
        "t1:182.915 [182/199]"
       ]
      },
      {
       "output_type": "stream",
       "stream": "stdout",
       "text": [
        "\r",
        "t1:183.920 [183/199]"
       ]
      },
      {
       "output_type": "stream",
       "stream": "stdout",
       "text": [
        "\r",
        "t1:184.925 [184/199]"
       ]
      },
      {
       "output_type": "stream",
       "stream": "stdout",
       "text": [
        "\r",
        "t1:185.930 [185/199]"
       ]
      },
      {
       "output_type": "stream",
       "stream": "stdout",
       "text": [
        "\r",
        "t1:186.935 [186/199]"
       ]
      },
      {
       "output_type": "stream",
       "stream": "stdout",
       "text": [
        "\r",
        "t1:187.940 [187/199]"
       ]
      },
      {
       "output_type": "stream",
       "stream": "stdout",
       "text": [
        "\r",
        "t1:188.945 [188/199]"
       ]
      },
      {
       "output_type": "stream",
       "stream": "stdout",
       "text": [
        "\r",
        "t1:189.950 [189/199]"
       ]
      },
      {
       "output_type": "stream",
       "stream": "stdout",
       "text": [
        "\r",
        "t1:190.955 [190/199]"
       ]
      },
      {
       "output_type": "stream",
       "stream": "stdout",
       "text": [
        "\r",
        "t1:191.960 [191/199]"
       ]
      },
      {
       "output_type": "stream",
       "stream": "stdout",
       "text": [
        "\r",
        "t1:192.965 [192/199]"
       ]
      },
      {
       "output_type": "stream",
       "stream": "stdout",
       "text": [
        "\r",
        "t1:193.970 [193/199]"
       ]
      },
      {
       "output_type": "stream",
       "stream": "stdout",
       "text": [
        "\r",
        "t1:194.975 [194/199]"
       ]
      },
      {
       "output_type": "stream",
       "stream": "stdout",
       "text": [
        "\r",
        "t1:195.980 [195/199]"
       ]
      },
      {
       "output_type": "stream",
       "stream": "stdout",
       "text": [
        "\r",
        "t1:196.985 [196/199]"
       ]
      },
      {
       "output_type": "stream",
       "stream": "stdout",
       "text": [
        "\r",
        "t1:197.990 [197/199]"
       ]
      },
      {
       "output_type": "stream",
       "stream": "stdout",
       "text": [
        "\r",
        "t1:198.995 [198/199]"
       ]
      },
      {
       "output_type": "stream",
       "stream": "stdout",
       "text": [
        "\r",
        "t1:200.000 [199/199]"
       ]
      },
      {
       "output_type": "stream",
       "stream": "stdout",
       "text": [
        "\r"
       ]
      }
     ],
     "prompt_number": 26
    },
    {
     "cell_type": "code",
     "collapsed": false,
     "input": [
      "subplot(1,2,1)\n",
      "contour(np.real(two_d), 20, extent=(w1[0], w1[-1], w3[0], w3[-1]), origin='lower', cmap=matplotlib.cm.RdBu_r)\n",
      "imshow(np.real(two_d), extent=(w1[0], w1[-1], w3[0], w3[-1]), origin='lower', cmap=matplotlib.cm.RdBu_r)\n",
      "#xlim([1, 1.5])\n",
      "#ylim([-1.5, -1])\n",
      "#grid()\n",
      "#colorbar()\n",
      "subplot(1,2,2)\n",
      "contour(np.imag(two_d), 20, extent=(w1[0], w1[-1], w3[0], w3[-1]), origin='lower', cmap=matplotlib.cm.RdBu_r)\n",
      "imshow(np.imag(two_d), extent=(w1[0], w1[-1], w3[0], w3[-1]), origin='lower', cmap=matplotlib.cm.RdBu_r)\n",
      "#xlim([1, 1.5])\n",
      "#ylim([-1.5, -1])\n",
      "#savefig('two_level_try.png')"
     ],
     "language": "python",
     "metadata": {},
     "outputs": [
      {
       "metadata": {},
       "output_type": "pyout",
       "prompt_number": 27,
       "text": [
        "<matplotlib.image.AxesImage at 0x10e906320>"
       ]
      },
      {
       "metadata": {},
       "output_type": "display_data",
       "png": "[encoded data removed]",
       "text": [
        "<matplotlib.figure.Figure at 0x10ec18f98>"
       ]
      }
     ],
     "prompt_number": 27
    },
    {
     "cell_type": "code",
     "collapsed": false,
     "input": [
      "dephasing"
     ],
     "language": "python",
     "metadata": {},
     "outputs": [
      {
       "metadata": {},
       "output_type": "pyout",
       "prompt_number": 28,
       "text": [
        "0.05"
       ]
      }
     ],
     "prompt_number": 28
    },
    {
     "cell_type": "code",
     "collapsed": false,
     "input": [
      "import brewer2mpl\n",
      "brewer2mpl.print_maps_by_type('diverging')\n",
      "cmap = brewer2mpl.get_map('BrBG', 'diverging', 11)\n",
      "cmap."
     ],
     "language": "python",
     "metadata": {},
     "outputs": []
    },
    {
     "cell_type": "markdown",
     "metadata": {},
     "source": [
      "Something still doesn't add up. Maybe this is due to lorenzian normalization... That is $2/(\\pi \\Gamma)$"
     ]
    },
    {
     "cell_type": "heading",
     "level": 2,
     "metadata": {},
     "source": [
      "Moving on.... Relaxation and spectral functions"
     ]
    },
    {
     "cell_type": "markdown",
     "metadata": {},
     "source": [
      "So apparently you do diagonalize the Hamiltonian and use the $\\omega_{ab}$ in the spectral density function."
     ]
    },
    {
     "cell_type": "code",
     "collapsed": false,
     "input": [
      "evals, evecs = sp.eigh(Hsite)\n",
      "N = len(evals)\n",
      "\n",
      "W = np.zeros((N,N))\n",
      "\n",
      "R = np.zeros((N*N, N*N), dtype=complex)\n",
      "\n",
      "gamma = np.zeros((N,))\n",
      "Gamma = np.zeros((N,N))\n",
      "k = np.zeros((N,N))\n",
      "    \n",
      "for i,j in it.product(range(N), repeat=2):\n",
      "    W[i,j] = evals[i] - evals[j]\n",
      "\n",
      "for i,j in it.product(range(N), repeat=2):\n",
      "    k[i,j] = fast_bath(W[i,j])\n",
      "\n",
      "for i in range(N):\n",
      "    gamma[i] = 0.5*np.sum(k[i,:])\n",
      "    \n",
      "for i,j in it.product(range(N), repeat=2):\n",
      "    Gamma[i,j] = gamma[i] + gamma[j] + 0.01\n",
      "    \n",
      "for I,J in it.product(range(N*N), repeat=2):\n",
      "    a,b = vec2mat_index(N,I)\n",
      "    c,d = vec2mat_index(N,J)\n",
      "    \n",
      "    R[I,J] += (a==b)*(c==d)*((a==b)*2*gamma[a] - k[a,c]) \\\n",
      "        + (1 - (a==b))*(a==c)*(b==d)*Gamma[a,b]\n",
      "        \n",
      "    \n",
      "R    "
     ],
     "language": "python",
     "metadata": {},
     "outputs": []
    },
    {
     "cell_type": "code",
     "collapsed": false,
     "input": [
      "def make_L(H):\n",
      "    evals, evecs = sp.eigh(Hsite)\n",
      "    N = len(evals)\n",
      "    W = np.zeros((N,N))\n",
      "    R = np.zeros((N*N, N*N), dtype=complex)    \n",
      "    \n",
      "    k = np.zeros((N,N))\n",
      "    \n",
      "    for i,j in it.product(range(N), repeat=2):\n",
      "        W[i,j] = evals[i] - evals[j]\n",
      "\n",
      "    for I,J in it.product(range(N*N), repeat=2):\n",
      "        a,b = vec2mat_index(N,I)\n",
      "        c,d = vec2mat_index(N,J)\n",
      "        \n",
      "        R[I,J] = \n",
      "        \n",
      "        \n",
      "    '''\n",
      "    for i in range(N):\n",
      "        gamma[i] = 0.5*np.sum(k[i,:])\n",
      "    \n",
      "    for i,j in it.product(range(N), repeat=2):\n",
      "        Gamma[i,j] = gamma[i] + gamma[j] + pure_dephasing\n",
      "    \n",
      "    for I,J in it.product(range(N*N), repeat=2):\n",
      "        a,b = vec2mat_index(N,I)\n",
      "        c,d = vec2mat_index(N,J)\n",
      "    \n",
      "        R[I,J] += (a==b)*(c==d)*((a==b)*2*gamma[a] - k[a,c]) \\\n",
      "            + (1 - (a==b))*(a==c)*(b==d)*Gamma[a,b]\n",
      "    '''\n",
      "    return W,k"
     ],
     "language": "python",
     "metadata": {},
     "outputs": []
    },
    {
     "cell_type": "code",
     "collapsed": false,
     "input": [
      "gamma = np.array([0, 0., 0., 0.])\n",
      "evals, evecs = sp.eigh(Hsite)\n",
      "#-1j*qeye(4)*evals \n",
      "N = len(evals)\n",
      "W = np.zeros((N,N))\n",
      "Gamma = np.zeros((N,N))\n",
      "dephasing = 0.5\n",
      "for i,j in it.product(range(N), repeat=2):\n",
      "    W[i,j] = evals[j] - evals[i]\n",
      "    Gamma[i,j] = 0.5*(gamma[i] + gamma[j]) + (i==j)*dephasing\n",
      "L = liouvillian(W + 1.0j*Gamma)"
     ],
     "language": "python",
     "metadata": {},
     "outputs": []
    },
    {
     "cell_type": "code",
     "collapsed": false,
     "input": [
      "np.real(L)"
     ],
     "language": "python",
     "metadata": {},
     "outputs": []
    },
    {
     "cell_type": "code",
     "collapsed": false,
     "input": [
      "#print(np.diag(np.dot(dag(evecs), np.dot(Hsite, evecs))))\n",
      "def transform(A, basis):\n",
      "    return np.dot(dag(evecs), np.dot(Hsite, evecs))"
     ],
     "language": "python",
     "metadata": {},
     "outputs": []
    },
    {
     "cell_type": "code",
     "collapsed": false,
     "input": [
      "liouvillian(-1j*W - Gamma)"
     ],
     "language": "python",
     "metadata": {},
     "outputs": []
    },
    {
     "cell_type": "code",
     "collapsed": false,
     "input": [
      "tlist = np.linspace(0, 10, 1000)\n",
      "S1 = np.zeros_like(tlist, dtype=np.float64)\n",
      "vket = mat2vec(ket2dm(basis(4,0)))\n",
      "vbra = dag(mat2vec(Hint))\n",
      "cV = liouvillian(Hint)\n",
      "\n",
      "for i, t2 in enumerate(tlist): # can be parallelized\n",
      "    G = sp.expm(-1.0j*t2*L)\n",
      "    S1[i] = np.real(np.squeeze(serial_dot([vbra, G, cV, vket])))\n",
      "plot(tlist, S1)\n",
      "#xlim([0,1])"
     ],
     "language": "python",
     "metadata": {},
     "outputs": []
    },
    {
     "cell_type": "code",
     "collapsed": false,
     "input": [
      "from numpy.fft import *\n",
      "#plot(fftshift(fftfreq(1000, dt)), np.real(fftshift(fft(S1))))\n",
      "#plot(fftshift(fftfreq(1000, dt)), np.imag(fftshift(fft(S1))))\n",
      "plot(fftshift(fftfreq(1000, dt)), abs(fftshift(fft(S1))))\n",
      "#xlim([0,0.4])\n",
      "grid()"
     ],
     "language": "python",
     "metadata": {},
     "outputs": []
    },
    {
     "cell_type": "code",
     "collapsed": false,
     "input": [
      "k1,k2,k3,k4 = sympy.symbols('k1,k2,k3,k4', real=True, positive=True)\n",
      "\n",
      "directions = set()\n",
      "\n",
      "for (v1,v2,v3), s1,s2,s3 in it.product(it.combinations([k1,k2,k3], 3), [-1, 1], [-1, 1], [-1,1]):\n",
      "    # This is cool. Make sure the first term doesn't have a sign and then I get the right number of terms\n",
      "    directions.add(abs(v1 + s1*s2*v2 + s1*s3*v3))\n",
      "\n",
      "n = len(directions)\n",
      "directions = list(directions)\n",
      "C = np.zeros((2*n, 2*n), dtype=complex)\n",
      "a1 = 2*sympy.pi/(1.2e2)\n",
      "a2 = 2*sympy.pi/(1.3)\n",
      "a3 = 2*sympy.pi/(1.4e-2)\n",
      "for s in range(2*n):\n",
      "    for j,expr in enumerate(directions):\n",
      "        phi_j = float(expr.evalf(subs={k1: a1*s, k2: a2*s, k3: a3*s}))\n",
      "        C[s, j] = np.exp(1j*phi_j)\n",
      "        C[s, j+n] = np.exp(-1j*phi_j)\n",
      "Cinv = sp.inv(C)"
     ],
     "language": "python",
     "metadata": {},
     "outputs": [],
     "prompt_number": 148
    },
    {
     "cell_type": "code",
     "collapsed": false,
     "input": [
      "# calculate polariztions\n",
      "Ptot = np.zeros((2*n,), dtype=complex)\n",
      "\n",
      "for i in range(2*n):\n",
      "    res[0,:]"
     ],
     "language": "python",
     "metadata": {},
     "outputs": [],
     "prompt_number": 149
    },
    {
     "cell_type": "code",
     "collapsed": false,
     "input": [
      "t1,t2,t3,k = sympy.symbols('t1,t2,t3,k', dummy=True)\n",
      "t,tau,T = sympy.symbols('t,tau,T', real=True)\n",
      "w = sympy.Wild('*')\n",
      "S = sympy.Function('S', real=True)(t1,t2,t3)\n",
      "cos = sympy.cos\n",
      "delta = sympy.DiracDelta\n",
      "\n",
      "E = (sympy.exp(-sympy.I*k) + sympy.exp(sympy.I*k))*delta(t)\n",
      "sympy.powsimp(sympy.integrate(S*(E.subs({k: k1, t:t-t3})*E.subs({k:k2,t:t-t3-t2})*E.subs({k:k3, t:t-t3-t2-t1})).expand(), (t3, 0, sympy.oo),  (t2, 0, sympy.oo), (t1, 0, sympy.oo)))\n"
     ],
     "language": "python",
     "metadata": {},
     "outputs": [
      {
       "latex": [
        "$$- \\frac{\\theta\\left(- t\\right)}{4} S{\\left (0,0,t \\right )} e^{- i k_{1} - i k_{2} - i k_{3}} + \\frac{1}{4} S{\\left (0,0,t \\right )} e^{- i k_{1} - i k_{2} - i k_{3}} - \\frac{\\theta\\left(- t\\right)}{4} S{\\left (0,0,t \\right )} e^{- i k_{1} - i k_{2} + i k_{3}} + \\frac{1}{4} S{\\left (0,0,t \\right )} e^{- i k_{1} - i k_{2} + i k_{3}} - \\frac{\\theta\\left(- t\\right)}{4} S{\\left (0,0,t \\right )} e^{- i k_{1} + i k_{2} - i k_{3}} + \\frac{1}{4} S{\\left (0,0,t \\right )} e^{- i k_{1} + i k_{2} - i k_{3}} - \\frac{\\theta\\left(- t\\right)}{4} S{\\left (0,0,t \\right )} e^{- i k_{1} + i k_{2} + i k_{3}} + \\frac{1}{4} S{\\left (0,0,t \\right )} e^{- i k_{1} + i k_{2} + i k_{3}} - \\frac{\\theta\\left(- t\\right)}{4} S{\\left (0,0,t \\right )} e^{i k_{1} - i k_{2} - i k_{3}} + \\frac{1}{4} S{\\left (0,0,t \\right )} e^{i k_{1} - i k_{2} - i k_{3}} - \\frac{\\theta\\left(- t\\right)}{4} S{\\left (0,0,t \\right )} e^{i k_{1} - i k_{2} + i k_{3}} + \\frac{1}{4} S{\\left (0,0,t \\right )} e^{i k_{1} - i k_{2} + i k_{3}} - \\frac{\\theta\\left(- t\\right)}{4} S{\\left (0,0,t \\right )} e^{i k_{1} + i k_{2} - i k_{3}} + \\frac{1}{4} S{\\left (0,0,t \\right )} e^{i k_{1} + i k_{2} - i k_{3}} - \\frac{\\theta\\left(- t\\right)}{4} S{\\left (0,0,t \\right )} e^{i k_{1} + i k_{2} + i k_{3}} + \\frac{1}{4} S{\\left (0,0,t \\right )} e^{i k_{1} + i k_{2} + i k_{3}}$$"
       ],
       "metadata": {},
       "output_type": "pyout",
       "png": "[encoded data removed]",
       "prompt_number": 173,
       "text": [
        "              -\u2148\u22c5k\u2081 - \u2148\u22c5k\u2082 - \u2148\u22c5k\u2083                             -\u2148\u22c5k\u2081 - \u2148\u22c5k\u2082 - \u2148\n",
        "  S(0, 0, t)\u22c5\u212f                   \u22c5Heaviside(-t)   S(0, 0, t)\u22c5\u212f                \n",
        "- \u2500\u2500\u2500\u2500\u2500\u2500\u2500\u2500\u2500\u2500\u2500\u2500\u2500\u2500\u2500\u2500\u2500\u2500\u2500\u2500\u2500\u2500\u2500\u2500\u2500\u2500\u2500\u2500\u2500\u2500\u2500\u2500\u2500\u2500\u2500\u2500\u2500\u2500\u2500\u2500\u2500\u2500\u2500\u2500\u2500 + \u2500\u2500\u2500\u2500\u2500\u2500\u2500\u2500\u2500\u2500\u2500\u2500\u2500\u2500\u2500\u2500\u2500\u2500\u2500\u2500\u2500\u2500\u2500\u2500\u2500\u2500\u2500\u2500\n",
        "                        4                                        4            \n",
        "\n",
        "\u22c5k\u2083               -\u2148\u22c5k\u2081 - \u2148\u22c5k\u2082 + \u2148\u22c5k\u2083                             -\u2148\u22c5k\u2081 - \u2148\u22c5k\u2082\n",
        "      S(0, 0, t)\u22c5\u212f                   \u22c5Heaviside(-t)   S(0, 0, t)\u22c5\u212f            \n",
        "\u2500\u2500\u2500 - \u2500\u2500\u2500\u2500\u2500\u2500\u2500\u2500\u2500\u2500\u2500\u2500\u2500\u2500\u2500\u2500\u2500\u2500\u2500\u2500\u2500\u2500\u2500\u2500\u2500\u2500\u2500\u2500\u2500\u2500\u2500\u2500\u2500\u2500\u2500\u2500\u2500\u2500\u2500\u2500\u2500\u2500\u2500\u2500\u2500 + \u2500\u2500\u2500\u2500\u2500\u2500\u2500\u2500\u2500\u2500\u2500\u2500\u2500\u2500\u2500\u2500\u2500\u2500\u2500\u2500\u2500\u2500\u2500\u2500\n",
        "                            4                                        4        \n",
        "\n",
        " + \u2148\u22c5k\u2083               -\u2148\u22c5k\u2081 + \u2148\u22c5k\u2082 - \u2148\u22c5k\u2083                             -\u2148\u22c5k\u2081 + \n",
        "          S(0, 0, t)\u22c5\u212f                   \u22c5Heaviside(-t)   S(0, 0, t)\u22c5\u212f        \n",
        "\u2500\u2500\u2500\u2500\u2500\u2500\u2500 - \u2500\u2500\u2500\u2500\u2500\u2500\u2500\u2500\u2500\u2500\u2500\u2500\u2500\u2500\u2500\u2500\u2500\u2500\u2500\u2500\u2500\u2500\u2500\u2500\u2500\u2500\u2500\u2500\u2500\u2500\u2500\u2500\u2500\u2500\u2500\u2500\u2500\u2500\u2500\u2500\u2500\u2500\u2500\u2500\u2500 + \u2500\u2500\u2500\u2500\u2500\u2500\u2500\u2500\u2500\u2500\u2500\u2500\u2500\u2500\u2500\u2500\u2500\u2500\u2500\u2500\n",
        "                                4                                        4    \n",
        "\n",
        "\u2148\u22c5k\u2082 - \u2148\u22c5k\u2083               -\u2148\u22c5k\u2081 + \u2148\u22c5k\u2082 + \u2148\u22c5k\u2083                             -\u2148\u22c5k\n",
        "              S(0, 0, t)\u22c5\u212f                   \u22c5Heaviside(-t)   S(0, 0, t)\u22c5\u212f    \n",
        "\u2500\u2500\u2500\u2500\u2500\u2500\u2500\u2500\u2500\u2500\u2500 - \u2500\u2500\u2500\u2500\u2500\u2500\u2500\u2500\u2500\u2500\u2500\u2500\u2500\u2500\u2500\u2500\u2500\u2500\u2500\u2500\u2500\u2500\u2500\u2500\u2500\u2500\u2500\u2500\u2500\u2500\u2500\u2500\u2500\u2500\u2500\u2500\u2500\u2500\u2500\u2500\u2500\u2500\u2500\u2500\u2500 + \u2500\u2500\u2500\u2500\u2500\u2500\u2500\u2500\u2500\u2500\u2500\u2500\u2500\u2500\u2500\u2500\n",
        "                                    4                                        4\n",
        "\n",
        "\u2081 + \u2148\u22c5k\u2082 + \u2148\u22c5k\u2083               \u2148\u22c5k\u2081 - \u2148\u22c5k\u2082 - \u2148\u22c5k\u2083                             \u2148\n",
        "                  S(0, 0, t)\u22c5\u212f                  \u22c5Heaviside(-t)   S(0, 0, t)\u22c5\u212f \n",
        "\u2500\u2500\u2500\u2500\u2500\u2500\u2500\u2500\u2500\u2500\u2500\u2500\u2500\u2500\u2500 - \u2500\u2500\u2500\u2500\u2500\u2500\u2500\u2500\u2500\u2500\u2500\u2500\u2500\u2500\u2500\u2500\u2500\u2500\u2500\u2500\u2500\u2500\u2500\u2500\u2500\u2500\u2500\u2500\u2500\u2500\u2500\u2500\u2500\u2500\u2500\u2500\u2500\u2500\u2500\u2500\u2500\u2500\u2500\u2500 + \u2500\u2500\u2500\u2500\u2500\u2500\u2500\u2500\u2500\u2500\u2500\u2500\u2500\n",
        "                                       4                                      \n",
        "\n",
        "\u22c5k\u2081 - \u2148\u22c5k\u2082 - \u2148\u22c5k\u2083               \u2148\u22c5k\u2081 - \u2148\u22c5k\u2082 + \u2148\u22c5k\u2083                            \n",
        "                    S(0, 0, t)\u22c5\u212f                  \u22c5Heaviside(-t)   S(0, 0, t)\u22c5\n",
        "\u2500\u2500\u2500\u2500\u2500\u2500\u2500\u2500\u2500\u2500\u2500\u2500\u2500\u2500\u2500\u2500\u2500 - \u2500\u2500\u2500\u2500\u2500\u2500\u2500\u2500\u2500\u2500\u2500\u2500\u2500\u2500\u2500\u2500\u2500\u2500\u2500\u2500\u2500\u2500\u2500\u2500\u2500\u2500\u2500\u2500\u2500\u2500\u2500\u2500\u2500\u2500\u2500\u2500\u2500\u2500\u2500\u2500\u2500\u2500\u2500\u2500 + \u2500\u2500\u2500\u2500\u2500\u2500\u2500\u2500\u2500\u2500\u2500\n",
        " 4                                       4                                    \n",
        "\n",
        " \u2148\u22c5k\u2081 - \u2148\u22c5k\u2082 + \u2148\u22c5k\u2083               \u2148\u22c5k\u2081 + \u2148\u22c5k\u2082 - \u2148\u22c5k\u2083                          \n",
        "\u212f                     S(0, 0, t)\u22c5\u212f                  \u22c5Heaviside(-t)   S(0, 0, t\n",
        "\u2500\u2500\u2500\u2500\u2500\u2500\u2500\u2500\u2500\u2500\u2500\u2500\u2500\u2500\u2500\u2500\u2500\u2500\u2500 - \u2500\u2500\u2500\u2500\u2500\u2500\u2500\u2500\u2500\u2500\u2500\u2500\u2500\u2500\u2500\u2500\u2500\u2500\u2500\u2500\u2500\u2500\u2500\u2500\u2500\u2500\u2500\u2500\u2500\u2500\u2500\u2500\u2500\u2500\u2500\u2500\u2500\u2500\u2500\u2500\u2500\u2500\u2500\u2500 + \u2500\u2500\u2500\u2500\u2500\u2500\u2500\u2500\u2500\n",
        "   4                                       4                                  \n",
        "\n",
        "   \u2148\u22c5k\u2081 + \u2148\u22c5k\u2082 - \u2148\u22c5k\u2083               \u2148\u22c5k\u2081 + \u2148\u22c5k\u2082 + \u2148\u22c5k\u2083                        \n",
        ")\u22c5\u212f                     S(0, 0, t)\u22c5\u212f                  \u22c5Heaviside(-t)   S(0, 0,\n",
        "\u2500\u2500\u2500\u2500\u2500\u2500\u2500\u2500\u2500\u2500\u2500\u2500\u2500\u2500\u2500\u2500\u2500\u2500\u2500\u2500\u2500 - \u2500\u2500\u2500\u2500\u2500\u2500\u2500\u2500\u2500\u2500\u2500\u2500\u2500\u2500\u2500\u2500\u2500\u2500\u2500\u2500\u2500\u2500\u2500\u2500\u2500\u2500\u2500\u2500\u2500\u2500\u2500\u2500\u2500\u2500\u2500\u2500\u2500\u2500\u2500\u2500\u2500\u2500\u2500\u2500 + \u2500\u2500\u2500\u2500\u2500\u2500\u2500\n",
        "     4                                       4                                \n",
        "\n",
        "     \u2148\u22c5k\u2081 + \u2148\u22c5k\u2082 + \u2148\u22c5k\u2083\n",
        " t)\u22c5\u212f                  \n",
        "\u2500\u2500\u2500\u2500\u2500\u2500\u2500\u2500\u2500\u2500\u2500\u2500\u2500\u2500\u2500\u2500\u2500\u2500\u2500\u2500\u2500\u2500\u2500\n",
        "       4               "
       ]
      }
     ],
     "prompt_number": 173
    },
    {
     "cell_type": "code",
     "collapsed": false,
     "input": [
      "a = _"
     ],
     "language": "python",
     "metadata": {},
     "outputs": [],
     "prompt_number": 147
    }
   ],
   "metadata": {}
  }
 ]
}