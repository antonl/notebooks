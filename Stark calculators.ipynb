{
 "metadata": {
  "name": ""
 },
 "nbformat": 3,
 "nbformat_minor": 0,
 "worksheets": [
  {
   "cells": [
    {
     "cell_type": "code",
     "collapsed": false,
     "input": [
      "from __future__ import division\n",
      "import quantities as qt\n",
      "qt.UnitQuantity('megavolt', 1e6*qt.V, 'MV');"
     ],
     "language": "python",
     "metadata": {},
     "outputs": [],
     "prompt_number": 1
    },
    {
     "cell_type": "markdown",
     "metadata": {},
     "source": [
      "### Convert applied field to applied voltage\n",
      "\n",
      "This is essentially saying, for a given applied field, what must the separation be?"
     ]
    },
    {
     "cell_type": "code",
     "collapsed": false,
     "input": [
      "field = 60 * qt.kV /qt.cm\n",
      "electrode_spacing = 0.05 * qt.cm\n",
      "print (field*electrode_spacing).rescale('kV')"
     ],
     "language": "python",
     "metadata": {},
     "outputs": [
      {
       "output_type": "stream",
       "stream": "stdout",
       "text": [
        "3.0 kV\n"
       ]
      }
     ],
     "prompt_number": 28
    },
    {
     "cell_type": "code",
     "collapsed": false,
     "input": [
      "electrode_spacing = 50*qt.um\n",
      "voltage = 0.5*qt.kV\n",
      "print (voltage/electrode_spacing).rescale('kV/cm')"
     ],
     "language": "python",
     "metadata": {},
     "outputs": [
      {
       "output_type": "stream",
       "stream": "stdout",
       "text": [
        "100.0 kV/cm\n"
       ]
      }
     ],
     "prompt_number": 37
    },
    {
     "cell_type": "markdown",
     "metadata": {},
     "source": [
      "### frequency to wavelength ranges\n",
      "\n",
      "Conversion to wavelength is shady, but you can pretend the interval is \"small\" and centered on the geometric mean. This is a good approximation when the geometric mean of the interval is much larger than the incremental difference. Derivation: \n",
      "\n",
      "$$\\begin{eqnarray}\n",
      "f_1 - f_2 &=& \\Delta f &=& \\left(\\frac{1}{\\lambda_1} - \\frac{1}{\\lambda_2}\\right)c = \\frac{\\lambda_2 - \\lambda_1}{\\lambda_1\\lambda_2}c \\\\\n",
      "\\lambda_2 - \\lambda_1 &=& \\Delta\\lambda & = & \\frac{\\Delta f}{c} \\cdot \\sqrt{\\lambda_1\\lambda_2}^2 = \\frac{\\Delta E}{h c} \\cdot \\sqrt{\\lambda_1\\lambda_2}^2\\\\\n",
      "\\end{eqnarray}$$\n",
      "\n",
      "There's actually a small caveat for calculating linewidths based on lifetimes as $1/\\tau$. This gives a linewidth for a Lorenzian. For a Gaussian (inhomogenously broadened) transition, this underestimates the width. "
     ]
    },
    {
     "cell_type": "code",
     "collapsed": false,
     "input": [
      "dE  = 0.8*qt.eV\n",
      "geo_lamb = 600 * qt.nm\n",
      "\n",
      "bw = dE/(qt.constants.Planck_constant * qt.speed_of_light) * geo_lamb**2\n",
      "print \"Wavelength range of {}, from {} to {}\".format(bw.rescale('nm'), \n",
      "    (geo_lamb - bw/2).rescale('nm'), (geo_lamb + bw/2).rescale('nm'))"
     ],
     "language": "python",
     "metadata": {},
     "outputs": [
      {
       "output_type": "stream",
       "stream": "stdout",
       "text": [
        "Wavelength range of 232.287692035 nm, from 483.856153983 nm to 716.143846017 nm\n"
       ]
      }
     ],
     "prompt_number": 27
    },
    {
     "cell_type": "markdown",
     "metadata": {},
     "source": [
      "### Wavelength to photon energy\n",
      "\n",
      "$$E = \\hbar\\omega = h f = \\frac{h c}{\\lambda}$$"
     ]
    },
    {
     "cell_type": "code",
     "collapsed": false,
     "input": [
      "wavelength = 600. *qt.nm\n",
      "print (qt.constants.Planck_constant * qt.speed_of_light / wavelength).rescale('eV')"
     ],
     "language": "python",
     "metadata": {},
     "outputs": [
      {
       "output_type": "stream",
       "stream": "stdout",
       "text": [
        "2.06640312388 eV\n"
       ]
      }
     ],
     "prompt_number": 21
    },
    {
     "cell_type": "code",
     "collapsed": false,
     "input": [
      "energy = 2.27 * qt.eV\n",
      "print (qt.constants.Planck_constant*qt.speed_of_light/energy).rescale('nm')"
     ],
     "language": "python",
     "metadata": {},
     "outputs": [
      {
       "output_type": "stream",
       "stream": "stdout",
       "text": [
        "546.185833544 nm\n"
       ]
      }
     ],
     "prompt_number": 23
    },
    {
     "cell_type": "code",
     "collapsed": false,
     "input": [
      "tr = 5.9*qt.ns\n",
      "print (1./(2*tr)).rescale('MHz')"
     ],
     "language": "python",
     "metadata": {},
     "outputs": [
      {
       "output_type": "stream",
       "stream": "stdout",
       "text": [
        "84.7457627119 MHz\n"
       ]
      }
     ],
     "prompt_number": 5
    },
    {
     "cell_type": "code",
     "collapsed": false,
     "input": [
      "(6*qt.ns/(113*qt.ps/qt.inch)).rescale('inch')"
     ],
     "language": "python",
     "metadata": {},
     "outputs": [
      {
       "metadata": {},
       "output_type": "pyout",
       "prompt_number": 19,
       "text": [
        "array(53.09734513274336) * in"
       ]
      }
     ],
     "prompt_number": 19
    },
    {
     "cell_type": "code",
     "collapsed": false,
     "input": [],
     "language": "python",
     "metadata": {},
     "outputs": []
    }
   ],
   "metadata": {}
  }
 ]
}