{
 "metadata": {
  "name": "",
  "signature": "sha256:27652794956e03c0bfc9854c5d49783459724b0178a43b2de1d25af5a374206d"
 },
 "nbformat": 3,
 "nbformat_minor": 0,
 "worksheets": [
  {
   "cells": [
    {
     "cell_type": "code",
     "collapsed": false,
     "input": [
      "import pint\n",
      "q = pint.UnitRegistry()"
     ],
     "language": "python",
     "metadata": {},
     "outputs": [
      {
       "html": [
        "1 mole"
       ],
       "latex": [
        "$1 mole$"
       ],
       "metadata": {},
       "output_type": "pyout",
       "prompt_number": 5,
       "text": [
        "<Quantity(1, 'mole')>"
       ]
      }
     ],
     "prompt_number": 5
    },
    {
     "cell_type": "code",
     "collapsed": false,
     "input": [
      "sigma_20ul = lambda x: (x*q.uL).plus_minus(0.1, relative=True)\n",
      "sigma_200ul = lambda x: (x*q.uL).plus_minus(0.05, relative=True)\n",
      "sigma_1ml = lambda x: (x*q.mL).plus_minus(0.03, relative=True)\n",
      "\n",
      "dilution_factor = lambda x,y: ((y+x)/x).to('dimensionless')"
     ],
     "language": "python",
     "metadata": {},
     "outputs": [],
     "prompt_number": 2
    },
    {
     "cell_type": "code",
     "collapsed": false,
     "input": [
      "factor1 = dilution_factor(sigma_20ul(5), sigma_1ml(1))\n",
      "factor2 = dilution_factor(sigma_1ml(0.7), sigma_1ml(0.3) + sigma_1ml(1))\n",
      "\n",
      "print(factor1)\n",
      "print(factor2)\n",
      "final_factor = (factor1*factor2).to('dimensionless')\n",
      "print(final_factor.rel)"
     ],
     "language": "python",
     "metadata": {},
     "outputs": [
      {
       "output_type": "stream",
       "stream": "stdout",
       "text": [
        "(201.0 +/- 21.0) dimensionless\n",
        "(2.86 +/- 0.10) dimensionless\n",
        "0.11021258808058859\n"
       ]
      }
     ],
     "prompt_number": 3
    },
    {
     "cell_type": "code",
     "collapsed": false,
     "input": [
      "factor1 = dilution_factor(sigma_20ul(5), sigma_1ml(1) + sigma_1ml(1)+ sigma_1ml(0.5))\n",
      "final_factor = factor1.to('dimensionless')\n",
      "print(final_factor)\n",
      "print(final_factor.rel)"
     ],
     "language": "python",
     "metadata": {},
     "outputs": [
      {
       "output_type": "stream",
       "stream": "stdout",
       "text": [
        "((5.0 +/- 0.5)e+02) dimensionless\n",
        "0.10160092380552739\n"
       ]
      }
     ],
     "prompt_number": 4
    },
    {
     "cell_type": "code",
     "collapsed": false,
     "input": [
      "c = 335.47 *q.g/q.mol\n",
      "v = 2*q.mmol/(1*q.L)\n",
      "\n",
      "100*(c*v).to('mg/mL')"
     ],
     "language": "python",
     "metadata": {},
     "outputs": [
      {
       "html": [
        "67.09400000000001 milligram/milliliter"
       ],
       "latex": [
        "$67.09400000000001 \\frac{milligram}{milliliter}$"
       ],
       "metadata": {},
       "output_type": "pyout",
       "prompt_number": 14,
       "text": [
        "<Quantity(67.09400000000001, 'milligram / milliliter')>"
       ]
      }
     ],
     "prompt_number": 14
    },
    {
     "cell_type": "code",
     "collapsed": false,
     "input": [],
     "language": "python",
     "metadata": {},
     "outputs": []
    }
   ],
   "metadata": {}
  }
 ]
}