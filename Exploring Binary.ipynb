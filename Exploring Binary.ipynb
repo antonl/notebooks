{
 "metadata": {
  "name": ""
 },
 "nbformat": 3,
 "nbformat_minor": 0,
 "worksheets": [
  {
   "cells": [
    {
     "cell_type": "code",
     "collapsed": false,
     "input": [
      "import numpy as np\n",
      "%load_ext cythonmagic"
     ],
     "language": "python",
     "metadata": {},
     "outputs": [],
     "prompt_number": 1
    },
    {
     "cell_type": "markdown",
     "metadata": {},
     "source": [
      "http://www.exploringbinary.com/displaying-ieee-doubles-in-binary-scientific-notation/"
     ]
    },
    {
     "cell_type": "code",
     "collapsed": false,
     "input": [
      "%%cython\n",
      "import cython\n",
      "\n",
      "cdef unsigned long long _get_double(double x):\n",
      "    cdef unsigned long long ix = (<unsigned long long *>&x)[0]\n",
      "    return ix\n",
      "\n",
      "def raw_double(x):\n",
      "    '''\n",
      "    return string binary representation of a double on little endian machines\n",
      "    \n",
      "    Makes the assumption that the floating point storage of the number is \n",
      "    little endian for both double and unsigned long long.\n",
      "    '''\n",
      "    cdef double nx = x\n",
      "    ix = _get_double(nx)\n",
      "    val = ''\n",
      "    for i in reversed(range(cython.sizeof(val) * 8)):\n",
      "        val += '1' if ((ix >> i) & 1) else '0'\n",
      "    return val\n",
      "\n",
      "def split_double(x):\n",
      "    cdef double dx = x\n",
      "    raw = raw_double(dx)\n",
      "    \n",
      "    sign = '-' if int(raw[0]) else '+'\n",
      "    exponent = raw[1:12]\n",
      "    fraction = raw[12:]\n",
      "    return (sign, exponent, fraction)\n",
      "\n",
      "def print_double_sci(x):\n",
      "    cdef double dx = x\n",
      "    sign, exponent, fraction = split_double(dx)\n",
      "    \n",
      "    iexp, ifrac = int(exponent, base=2), int(fraction, base=2)\n",
      "    \n",
      "    rep = sign\n",
      "    if (iexp == 0) and (ifrac == 0):\n",
      "        # zero\n",
      "        rep += '0'\n",
      "    elif (iexp == 0) and (ifrac != 0):\n",
      "        # subnormal number\n",
      "        # find first zero in frac\n",
      "        #loc = fraction.find('1')\n",
      "        rep += '0.'\n",
      "        rep += fraction\n",
      "        rep += ' x 2^' + str(-(2**10 - 1))\n",
      "    else:\n",
      "        rep += '1.'\n",
      "        rep += fraction\n",
      "        rep += ' x 2^' + str(iexp - (2**10 - 1))\n",
      "    return rep\n",
      "        \n"
     ],
     "language": "python",
     "metadata": {},
     "outputs": [],
     "prompt_number": 145
    },
    {
     "cell_type": "code",
     "collapsed": false,
     "input": [
      "print parse_double(pow(2, -1023))\n",
      "print print_double_sci(pow(2, -1023))\n",
      "print print_double_sci(2.2250738585072011e-308)"
     ],
     "language": "python",
     "metadata": {},
     "outputs": [
      {
       "output_type": "stream",
       "stream": "stdout",
       "text": [
        "('+', '00000000000', '1000000000000000000000000000000000000000000000000000')\n",
        "+0.1000000000000000000000000000000000000000000000000000 x 2^-1023\n",
        "+0.1111111111111111111111111111111111111111111111111111 x 2^-1023\n"
       ]
      }
     ],
     "prompt_number": 148
    },
    {
     "cell_type": "code",
     "collapsed": false,
     "input": [
      "(2**10 - 1)"
     ],
     "language": "python",
     "metadata": {},
     "outputs": [
      {
       "metadata": {},
       "output_type": "pyout",
       "prompt_number": 135,
       "text": [
        "1023"
       ]
      }
     ],
     "prompt_number": 135
    },
    {
     "cell_type": "code",
     "collapsed": false,
     "input": [
      "d = 0.1\n",
      "exp = int(np.log2(d))\n",
      "t = 52\n",
      "(d - 2**exp)*2**52"
     ],
     "language": "python",
     "metadata": {},
     "outputs": [
      {
       "metadata": {},
       "output_type": "pyout",
       "prompt_number": 42,
       "text": [
        "-112589990684262.38"
       ]
      }
     ],
     "prompt_number": 42
    },
    {
     "cell_type": "code",
     "collapsed": false,
     "input": [
      "d - 2**expt"
     ],
     "language": "python",
     "metadata": {},
     "outputs": [
      {
       "metadata": {},
       "output_type": "pyout",
       "prompt_number": 24,
       "text": [
        "-0.024999999999999994"
       ]
      }
     ],
     "prompt_number": 24
    },
    {
     "cell_type": "code",
     "collapsed": false,
     "input": [
      "import sympy \n",
      "from sympy.physics import gaussopt\n",
      "sympy.init_printing()\n",
      "sp = sympy"
     ],
     "language": "python",
     "metadata": {},
     "outputs": [],
     "prompt_number": 68
    },
    {
     "cell_type": "code",
     "collapsed": false,
     "input": [
      "z_im, z_obj, f, theta = sympy.symbols('z_im, z_obj, f, theta', real=True)\n",
      "lens_comb = gaussopt.ThinLens(f)*gaussopt.FreeSpace(sympy.Rational(1, 2) * f)*gaussopt.ThinLens(f)\n",
      "gaussopt.FreeSpace(z_im)*lens_comb*gaussopt.FreeSpace(-z_obj)"
     ],
     "language": "python",
     "metadata": {},
     "outputs": [
      {
       "latex": [
        "$$\\left[\\begin{matrix}\\frac{1}{2} - \\frac{3 z_{im}}{2 f} & \\frac{f}{2} + \\frac{z_{im}}{2} - z_{obj} \\left(\\frac{1}{2} - \\frac{3 z_{im}}{2 f}\\right)\\\\- \\frac{3}{2 f} & \\frac{1}{2} + \\frac{3 z_{obj}}{2 f}\\end{matrix}\\right]$$"
       ],
       "metadata": {},
       "output_type": "pyout",
       "png": "[encoded data removed]",
       "prompt_number": 125,
       "text": [
        "\u23a11   3\u22c5z_im  f   z_im         \u239b1   3\u22c5z_im\u239e\u23a4\n",
        "\u23a2\u2500 - \u2500\u2500\u2500\u2500\u2500\u2500  \u2500 + \u2500\u2500\u2500\u2500 - z_obj\u22c5\u239c\u2500 - \u2500\u2500\u2500\u2500\u2500\u2500\u239f\u23a5\n",
        "\u23a22    2\u22c5f    2    2           \u239d2    2\u22c5f  \u23a0\u23a5\n",
        "\u23a2                                         \u23a5\n",
        "\u23a2   -3                1   3\u22c5z_obj         \u23a5\n",
        "\u23a2   \u2500\u2500\u2500               \u2500 + \u2500\u2500\u2500\u2500\u2500\u2500\u2500         \u23a5\n",
        "\u23a3   2\u22c5f               2     2\u22c5f           \u23a6"
       ]
      }
     ],
     "prompt_number": 125
    },
    {
     "cell_type": "code",
     "collapsed": false,
     "input": [
      "lens_comb"
     ],
     "language": "python",
     "metadata": {},
     "outputs": [
      {
       "latex": [
        "$$\\left[\\begin{matrix}\\frac{1}{2} & \\frac{f}{2}\\\\- \\frac{3}{2 f} & \\frac{1}{2}\\end{matrix}\\right]$$"
       ],
       "metadata": {},
       "output_type": "pyout",
       "png": "[encoded data removed]",
       "prompt_number": 131,
       "text": [
        "\u23a1      f \u23a4\n",
        "\u23a21/2   \u2500 \u23a5\n",
        "\u23a2      2 \u23a5\n",
        "\u23a2        \u23a5\n",
        "\u23a2-3      \u23a5\n",
        "\u23a2\u2500\u2500\u2500  1/2\u23a5\n",
        "\u23a32\u22c5f     \u23a6"
       ]
      }
     ],
     "prompt_number": 131
    },
    {
     "cell_type": "code",
     "collapsed": false,
     "input": [
      "\n",
      "ans = sp.solve(d, z_im)\n",
      "sp.limit(ans[0], z_obj, -sp.oo)"
     ],
     "language": "python",
     "metadata": {},
     "outputs": [
      {
       "latex": [
        "$$\\frac{f}{3}$$"
       ],
       "metadata": {},
       "output_type": "pyout",
       "png": "[encoded data removed]",
       "prompt_number": 130,
       "text": [
        "f\n",
        "\u2500\n",
        "3"
       ]
      }
     ],
     "prompt_number": 130
    },
    {
     "cell_type": "code",
     "collapsed": false,
     "input": [
      "ans"
     ],
     "language": "python",
     "metadata": {},
     "outputs": [
      {
       "latex": [
        "$$\\begin{bmatrix}\\frac{f \\left(- f + z_{obj}\\right)}{f + 3 z_{obj}}\\end{bmatrix}$$"
       ],
       "metadata": {},
       "output_type": "pyout",
       "png": "[encoded data removed]",
       "prompt_number": 133,
       "text": [
        "\u23a1f\u22c5(-f + z_obj)\u23a4\n",
        "\u23a2\u2500\u2500\u2500\u2500\u2500\u2500\u2500\u2500\u2500\u2500\u2500\u2500\u2500\u2500\u23a5\n",
        "\u23a3 f + 3\u22c5z_obj  \u23a6"
       ]
      }
     ],
     "prompt_number": 133
    },
    {
     "cell_type": "code",
     "collapsed": false,
     "input": [
      "def mat2elements(mat):\n",
      "    return (mat[0, 0], mat[0, 1], mat[1, 0], mat[1,1])\n",
      "def principal_planes(mat):\n",
      "    A,B,C,D = mat2elements(mat)\n",
      "    return ((D - sp.S(1))/C, (sp.S(1) - A)/C)"
     ],
     "language": "python",
     "metadata": {},
     "outputs": [],
     "prompt_number": 113
    },
    {
     "cell_type": "code",
     "collapsed": false,
     "input": [
      "h1, h2 = principal_planes(lens_comb)"
     ],
     "language": "python",
     "metadata": {},
     "outputs": [],
     "prompt_number": 100
    },
    {
     "cell_type": "code",
     "collapsed": false,
     "input": [
      "lens_comb"
     ],
     "language": "python",
     "metadata": {},
     "outputs": [
      {
       "latex": [
        "$$\\left[\\begin{matrix}\\frac{1}{2} & \\frac{f}{2}\\\\- \\frac{3}{2 f} & \\frac{1}{2}\\end{matrix}\\right]$$"
       ],
       "metadata": {},
       "output_type": "pyout",
       "png": "[encoded data removed]",
       "prompt_number": 121,
       "text": [
        "\u23a1      f \u23a4\n",
        "\u23a21/2   \u2500 \u23a5\n",
        "\u23a2      2 \u23a5\n",
        "\u23a2        \u23a5\n",
        "\u23a2-3      \u23a5\n",
        "\u23a2\u2500\u2500\u2500  1/2\u23a5\n",
        "\u23a32\u22c5f     \u23a6"
       ]
      }
     ],
     "prompt_number": 121
    },
    {
     "cell_type": "code",
     "collapsed": false,
     "input": [
      "gaussopt.FreeSpace(h2)*lens_comb*gaussopt.FreeSpace(-h1)"
     ],
     "language": "python",
     "metadata": {},
     "outputs": [
      {
       "latex": [
        "$$\\left[\\begin{matrix}1 & 0\\\\- \\frac{3}{2 f} & 1\\end{matrix}\\right]$$"
       ],
       "metadata": {},
       "output_type": "pyout",
       "png": "[encoded data removed]",
       "prompt_number": 134,
       "text": [
        "\u23a1 1   0\u23a4\n",
        "\u23a2      \u23a5\n",
        "\u23a2-3    \u23a5\n",
        "\u23a2\u2500\u2500\u2500  1\u23a5\n",
        "\u23a32\u22c5f   \u23a6"
       ]
      }
     ],
     "prompt_number": 134
    },
    {
     "cell_type": "code",
     "collapsed": false,
     "input": [
      "_.det()"
     ],
     "language": "python",
     "metadata": {},
     "outputs": [
      {
       "latex": [
        "$$1$$"
       ],
       "metadata": {},
       "output_type": "pyout",
       "png": "[encoded data removed]",
       "prompt_number": 104,
       "text": [
        "1"
       ]
      }
     ],
     "prompt_number": 104
    },
    {
     "cell_type": "code",
     "collapsed": false,
     "input": [
      "lens_comb"
     ],
     "language": "python",
     "metadata": {},
     "outputs": [
      {
       "latex": [
        "$$\\left[\\begin{matrix}\\frac{1}{2} & \\frac{f}{2}\\\\- \\frac{3}{2 f} & \\frac{1}{2}\\end{matrix}\\right]$$"
       ],
       "metadata": {},
       "output_type": "pyout",
       "png": "[encoded data removed]",
       "prompt_number": 105,
       "text": [
        "\u23a1      f \u23a4\n",
        "\u23a21/2   \u2500 \u23a5\n",
        "\u23a2      2 \u23a5\n",
        "\u23a2        \u23a5\n",
        "\u23a2-3      \u23a5\n",
        "\u23a2\u2500\u2500\u2500  1/2\u23a5\n",
        "\u23a32\u22c5f     \u23a6"
       ]
      }
     ],
     "prompt_number": 105
    },
    {
     "cell_type": "code",
     "collapsed": false,
     "input": [],
     "language": "python",
     "metadata": {},
     "outputs": [
      {
       "latex": [
        "$$\\frac{f}{3}$$"
       ],
       "metadata": {},
       "output_type": "pyout",
       "png": "[encoded data removed]",
       "prompt_number": 132,
       "text": [
        "f\n",
        "\u2500\n",
        "3"
       ]
      }
     ],
     "prompt_number": 132
    },
    {
     "cell_type": "code",
     "collapsed": false,
     "input": [
      "import quantities as pq"
     ],
     "language": "python",
     "metadata": {},
     "outputs": [],
     "prompt_number": 135
    },
    {
     "cell_type": "code",
     "collapsed": false,
     "input": [
      "lam = 632.8 * pq.nm\n",
      "d = 3 * pq.cm\n",
      "m = 25\n",
      "\n",
      "np.arctan((lam*(m)/(2*d)).simplified)"
     ],
     "language": "python",
     "metadata": {},
     "outputs": [
      {
       "metadata": {},
       "output_type": "pyout",
       "prompt_number": 145,
       "text": [
        "array(0.0002636666605566216) * rad"
       ]
      }
     ],
     "prompt_number": 145
    },
    {
     "cell_type": "code",
     "collapsed": false,
     "input": [],
     "language": "python",
     "metadata": {},
     "outputs": [
      {
       "metadata": {},
       "output_type": "pyout",
       "prompt_number": 140,
       "text": [
        "array(0.00012656) * dimensionless"
       ]
      }
     ],
     "prompt_number": 140
    },
    {
     "cell_type": "code",
     "collapsed": false,
     "input": [],
     "language": "python",
     "metadata": {},
     "outputs": []
    }
   ],
   "metadata": {}
  }
 ]
}