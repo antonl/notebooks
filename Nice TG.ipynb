{
 "metadata": {
  "name": "",
  "signature": "sha256:f76cbfc50f8446c203c1adb04cb747ec12b01da9e7b8a8affc89b04e61b69a64"
 },
 "nbformat": 3,
 "nbformat_minor": 0,
 "worksheets": [
  {
   "cells": [
    {
     "cell_type": "code",
     "collapsed": false,
     "input": [
      "'''\n",
      "analyze stark TG signal using nudie\n",
      "'''\n",
      "from __future__ import division\n",
      "import nudie\n",
      "import numpy as np\n",
      "import itertools as it\n",
      "from datetime import date\n",
      "import h5py\n",
      "import pdb\n",
      "from matplotlib import pyplot\n",
      "from scipy.signal import argrelmax\n",
      "from pathlib import Path\n",
      "%matplotlib qt\n",
      "from collections import deque\n",
      "import re\n",
      "from numpy.fft import fft, ifft, fftshift, fftfreq\n",
      "from scipy.signal import get_window\n",
      "import matplotlib\n",
      "from scipy.interpolate import interp1d\n",
      "import numexpr"
     ],
     "language": "python",
     "metadata": {},
     "outputs": [],
     "prompt_number": 1
    },
    {
     "cell_type": "code",
     "collapsed": false,
     "input": [
      "def shiftedColorMap(cmap, start=0, midpoint=0.5, stop=1.0, name='shiftedcmap'):\n",
      "    '''\n",
      "    Function to offset the \"center\" of a colormap. Useful for\n",
      "    data with a negative min and positive max and you want the\n",
      "    middle of the colormap's dynamic range to be at zero\n",
      "\n",
      "    Input\n",
      "    -----\n",
      "      cmap : The matplotlib colormap to be altered\n",
      "      start : Offset from lowest point in the colormap's range.\n",
      "          Defaults to 0.0 (no lower ofset). Should be between\n",
      "          0.0 and 1.0.\n",
      "      midpoint : The new center of the colormap. Defaults to \n",
      "          0.5 (no shift). Should be between 0.0 and 1.0. In\n",
      "          general, this should be  1 - vmax/(vmax + abs(vmin))\n",
      "          For example if your data range from -15.0 to +5.0 and\n",
      "          you want the center of the colormap at 0.0, `midpoint`\n",
      "          should be set to  1 - 5/(5 + 15)) or 0.75\n",
      "      stop : Offset from highets point in the colormap's range.\n",
      "          Defaults to 1.0 (no upper ofset). Should be between\n",
      "          0.0 and 1.0.\n",
      "    '''\n",
      "    cdict = {\n",
      "        'red': [],\n",
      "        'green': [],\n",
      "        'blue': [],\n",
      "        'alpha': []\n",
      "    }\n",
      "\n",
      "    # regular index to compute the colors\n",
      "    reg_index = np.linspace(start, stop, 257)\n",
      "\n",
      "    # shifted index to match the data\n",
      "    shift_index = np.hstack([\n",
      "        np.linspace(0.0, midpoint, 128, endpoint=False), \n",
      "        np.linspace(midpoint, 1.0, 129, endpoint=True)\n",
      "    ])\n",
      "\n",
      "    for ri, si in zip(reg_index, shift_index):\n",
      "        r, g, b, a = cmap(ri)\n",
      "\n",
      "        cdict['red'].append((si, r, r))\n",
      "        cdict['green'].append((si, g, g))\n",
      "        cdict['blue'].append((si, b, b))\n",
      "        cdict['alpha'].append((si, a, a))\n",
      "\n",
      "    newcmap = matplotlib.colors.LinearSegmentedColormap(name, cdict)\n",
      "    #plt.register_cmap(cmap=newcmap)\n",
      "\n",
      "    return newcmap"
     ],
     "language": "python",
     "metadata": {},
     "outputs": [],
     "prompt_number": 2
    },
    {
     "cell_type": "heading",
     "level": 2,
     "metadata": {},
     "source": [
      "Batch spec, analysis folder, etc"
     ]
    },
    {
     "cell_type": "code",
     "collapsed": false,
     "input": [
      "tg_name = 'd1d2-stark-tg'\n",
      "tg_batch = 5\n",
      "when = '14-12-12'\n",
      "\n",
      "# turn on printing of errors\n",
      "nudie.show_errors(nudie.logging.INFO)\n",
      "\n",
      "# create path to write our analysis to, if it doesn't exist already\n",
      "analysis_folder = Path('.')\n",
      "#analysis_folder = nudie.mount_point / '2D' / 'Analysis' / str(date.today())\n",
      "\n",
      "try:\n",
      "    analysis_folder.mkdir(parents=True)\n",
      "except OSError as e:\n",
      "    pass\n",
      "\n",
      "# define averager function for visiting hdf5 arrays\n",
      "def averager(outp, dataset_name):\n",
      "    N = 0.\n",
      "    def wrapped(name, obj):\n",
      "        nonlocal outp, dataset_name, N\n",
      "        if dataset_name in name:\n",
      "            outp[:] = (outp*N + obj[:])/(N+1)\n",
      "            N += 1\n",
      "    return wrapped\n",
      "\n",
      "def plot_pp(ax, x=None):\n",
      "    if x is None:\n",
      "        wl = nudie.simple_wavelength_axis()\n",
      "    else: \n",
      "        wl = x\n",
      "\n",
      "    def wrapped(name, obj):\n",
      "        nonlocal ax, wl\n",
      "        if 'pump_probe' in name:\n",
      "            ax.plot(wl, obj)\n",
      "        \n",
      "    return wrapped\n",
      "\n",
      "def LO_selector(prd_found, wl):\n",
      "    import re\n",
      "    matcher = re.compile(r'^[\\w/]*(stark|no stark)')\n",
      "\n",
      "    def wrapped(name, obj):\n",
      "        nonlocal prd_found, wl, matcher\n",
      "        if (type(obj) == h5py.Group) and matcher.match(name):\n",
      "            print('starting ' + str(obj.name))\n",
      "            # got a group containing phases\n",
      "            num_shots = []\n",
      "            for phase in obj.values():\n",
      "                num_shots.append(phase.shape[1])\n",
      "            length = min(num_shots)\n",
      "            \n",
      "            tmp = {}\n",
      "            for phase in ['zero', 'none1', 'pipi', 'none2']:\n",
      "                print('\\tstarting ' + str(phase))\n",
      "                # run spectral interferometery\n",
      "                tmp[phase] = np.zeros((1340, length), dtype=complex)\n",
      "                for i in range(length):\n",
      "                    print(i)\n",
      "                    _, _, E_sig, E_lo = nudie.select_prd_peak(wl,\n",
      "                            obj[phase][:,i], known_prd=prd_found) \n",
      "                    tmp[phase][:, i] = E_sig/E_lo\n",
      "            res = (tmp['zero'] - tmp['none1']) \\\n",
      "                    + (tmp['pipi'] - tmp['none2'])\n",
      "            obj['mean_tg'] = res.mean(axis=-1)\n",
      "    return wrapped\n",
      "\n",
      "def find_object(regex, otype=h5py.Group):\n",
      "    m = re.compile(regex)\n",
      "    def matcher(name, object):\n",
      "        nonlocal m\n",
      "        if type(object) == otype and m.match(name):\n",
      "            return name, object\n",
      "    return matcher"
     ],
     "language": "python",
     "metadata": {},
     "outputs": [],
     "prompt_number": 93
    },
    {
     "cell_type": "heading",
     "level": 2,
     "metadata": {},
     "source": [
      "Spectrometer Calibration"
     ]
    },
    {
     "cell_type": "code",
     "collapsed": false,
     "input": [
      "sf = nudie.data_folder / '14-12-10' / 'hgar-600g-650nm.mat'\n",
      "from scipy.io import loadmat\n",
      "with sf.open('rb') as f:\n",
      "    calib = loadmat(f)\n",
      "    wl = np.squeeze(calib['saved_wavelengths'])"
     ],
     "language": "python",
     "metadata": {},
     "outputs": [],
     "prompt_number": 94
    },
    {
     "cell_type": "code",
     "collapsed": false,
     "input": [
      "# do spectrometer calibration\n",
      "calib_spec_file = nudie.SpeFile(nudie.data_folder / '14-06-28' \\\n",
      "        / 'Calib_Spec_650nm_600g.SPE')\n",
      "\n",
      "data = np.squeeze(calib_spec_file.data).mean(axis=-1)\n",
      "\n",
      "fig, (ax1, ax2) = pyplot.subplots(2, 1, figsize=(12, 10))\n",
      "\n",
      "# baseline subtraction\n",
      "px = np.arange(data.shape[0])\n",
      "pv = np.polyfit(px, data, 2)\n",
      "data -= np.polyval(pv, px)\n",
      "\n",
      "# peak fitting\n",
      "res = argrelmax(data, order=10)[0]\n",
      "select = data[res] > 0.01*np.max(data)\n",
      "\n",
      "peaks = np.array([706.722, 696.543, 668.2968, 626.3688, 625.1348, 604.3008, 593.4566])\n",
      "\n",
      "color = it.cycle(['g','c'])\n",
      "lines_list = [(i*nudie.spectrometer.hg_ar_lines, next(color)) for i in range(1, 3)]\n",
      "\n",
      "corr = np.polyfit(res[select], peaks, 2)\n",
      "wl = np.polyval(corr, px)\n",
      "\n",
      "for lines, c in lines_list:\n",
      "    ax1.vlines(lines, -0.3*np.max(data), 0, c, linewidth=2)\n",
      "ax1.plot(wl, data)\n",
      "ax1.vlines(np.polyval(corr, res[select]), 0, 0.3*np.max(data), 'r')\n",
      "ax1.set_ylabel('Intensity / AU')\n",
      "ax1.set_xlabel('Wavelength / nm')\n",
      "ax1.set_xlim(min(wl), max(wl))\n",
      "ax1.text(660, 5000, r'$y = {:.3g} \\cdot x^2 + {:.3g} \\cdot x + {:.3g}$'.format(*corr), fontsize=16)\n",
      "ax2.plot(px, np.polyval(corr, px))\n",
      "ax2.set_ylabel('Wavelength / nm')\n",
      "ax2.set_xlabel('Pixel');"
     ],
     "language": "python",
     "metadata": {},
     "outputs": [],
     "prompt_number": 57
    },
    {
     "cell_type": "heading",
     "level": 2,
     "metadata": {},
     "source": [
      "Data analysis, writing HDF5 file"
     ]
    },
    {
     "cell_type": "code",
     "collapsed": false,
     "input": [
      "# open hdf5 file to write to\n",
      "file_path = analysis_folder / '{!s}-batch{:02d}.hdf5'.format(tg_name, tg_batch)\n",
      "phase_cycles = ['none1', 'zero', 'none2', 'pipi']\n",
      "\n",
      "from scipy.io import loadmat\n",
      "global_phase = loadmat(Path(r'P:\\2D\\Data\\14-06-28\\global_phase.mat').open('rb'), squeeze_me=True)['global_phase']\n",
      "prd = loadmat(Path(r'P:\\2D\\Data\\14-06-28\\probe_ref_delay.mat').open('rb'), squeeze_me=True)['prd1']\n",
      "\n",
      "with h5py.File(str(file_path), 'w') as f:\n",
      "    # save spectrometer calibration\n",
      "    spec = f.require_group('spectrometer calibration')\n",
      "    #spec['spectrum'] = data\n",
      "    #spec['pixel map'] = corr\n",
      "    spec['axis'] = wl\n",
      "\n",
      "    f.create_dataset('global phase', data=global_phase)\n",
      "    #f.create_dataset('probe ref delay', data=prd)\n",
      "    \n",
      "    # load up pp data to use\n",
      "    tg_info = next(nudie.load_job(job_name=tg_name, batch_set=[tg_batch], \n",
      "        when=when))\n",
      "\n",
      "    bg = f.require_group('tg')\n",
      "\n",
      "    # store some stuff for later in attributes\n",
      "    bg.attrs['batch_name'] = tg_info['batch_name']\n",
      "    bg.attrs['path'] = tg_info['batch_path']\n",
      "    bg.attrs['nt2'] = tg_info['nt2']\n",
      "    bg.attrs['t2_list'] = tg_info['t2'][:, 1]\n",
      "    # path to data\n",
      "    current_path = nudie.data_folder / tg_info['when'] / tg_info['batch_name']\n",
      "\n",
      "    # load up all available data files\n",
      "    for t2 in tg_info['t2_range']:\n",
      "        t2_g = bg.create_group('{:02d}'.format(t2))\n",
      "        t2_g.attrs['t2'] = tg_info['t2'][t2]\n",
      "\n",
      "        for table in tg_info['table_range']:\n",
      "            table_g = t2_g.create_group('{:02d}'.format(table))\n",
      "            table_g.attrs['table'] = table\n",
      "\n",
      "            for loop in tg_info['loop_range']:\n",
      "                loop_g = table_g.create_group('{:02d}'.format(loop))\n",
      "                loop_g.attrs['loop'] = loop\n",
      "\n",
      "                # first file requires special synchronization\n",
      "                # this is the rule that determines that it is the first file\n",
      "                first = 'first' if all([t2 == 0, table == 0, loop == 0]) else False\n",
      "\n",
      "                # Load everything for the given t2, table, and loop value\n",
      "                analogs = nudie.load_analogtxt(tg_info['job_name'], \n",
      "                        current_path, t2, table, loop)\n",
      "                cdata = nudie.load_camera_file(tg_info['job_name'], \n",
      "                        current_path, t2, table, loop, force_uint16=True)\n",
      "\n",
      "                # Synchronize it, trimming some frames in the beginning and end\n",
      "                data, (a1, a2) = nudie.trim_all(*nudie.synchronize_daq_to_camera(cdata, \n",
      "                    analog_channels=analogs, which_file=first))\n",
      "                start_idxs, period = nudie.detect_table_start(a1)\n",
      "\n",
      "                # determine where the shutter is\n",
      "                shutter_open, shutter_closed, duty_cycle = \\\n",
      "                        nudie.determine_shutter_shots(data)\n",
      "\n",
      "                # tag the phases\n",
      "                shutter_info = {'last open idx': shutter_open, \n",
      "                        'first closed idx': shutter_closed}\n",
      "                \n",
      "                tags = nudie.tag_phases(start_idxs, period, tags=phase_cycles, \n",
      "                        nframes=data.shape[1], shutter_info=shutter_info)\n",
      "                \n",
      "                # determine stark on shots\n",
      "                stark_idx, nostark_idx = np.where(a2 > 0.2)[0], \\\n",
      "                        np.where(a2 <= 0.2)[0]\n",
      "                                \n",
      "                for i,k in enumerate(phase_cycles):\n",
      "                    so = np.intersect1d(tags[0][0][k]['shutter open'], stark_idx,\n",
      "                            assume_unique=True)\n",
      "                    sc = np.intersect1d(tags[0][0][k]['shutter closed'], \\\n",
      "                            stark_idx, assume_unique=True)                   \n",
      "\n",
      "                    no = np.intersect1d(tags[0][0][k]['shutter open'], \\\n",
      "                            nostark_idx, assume_unique=True)\n",
      "                    nc = np.intersect1d(tags[0][0][k]['shutter closed'], \\\n",
      "                            nostark_idx, assume_unique=True)                   \n",
      "                    \n",
      "                    stark_shutter = data[:, so] \\\n",
      "                        - data[:, sc].mean(axis=-1)[:, np.newaxis]\n",
      "                    nostark_shutter = data[:, no] \\\n",
      "                        - data[:, nc].mean(axis=-1)[:, np.newaxis]                   \n",
      "                    \n",
      "                    loop_g['stark/' + k] = stark_shutter                    \n",
      "                    loop_g['nostark/' + k] = nostark_shutter\n",
      "                    \n",
      "    # this is how many pixels we have    \n",
      "    npixels = 1340\n",
      "    wl = f['spectrometer calibration/axis'][:]\n",
      "    \n",
      "    window_width = 150 # in pixels\n",
      "    prd_delay = 850 # fs\n",
      "    dc_left_time, dc_right_time = -200., 200. # in fs\n",
      "    \n",
      "    # load a single T2's worth of data into an array and do spectral interferometry on it    \n",
      "    for t2_item in filter(lambda x: type(x) == h5py.Group, bg.values()):\n",
      "        t2 = t2_item.attrs['t2']\n",
      "        _, stg = t2_item.visititems(find_object(r'^[\\w/]*/stark$'))\n",
      "        _, nstg = t2_item.visititems(find_object(r'^[\\w/]*/nostark$'))\n",
      "        \n",
      "        # find out minimum length of data\n",
      "        min_len = None\n",
      "        for item in [stg, nstg]:\n",
      "            for name, d in item.items():\n",
      "                if min_len is None:\n",
      "                    min_len = d.shape[1]\n",
      "                else:\n",
      "                    min_len = min(min_len, d.shape[1])\n",
      "        \n",
      "        # load data into one big block for fast spectral interferometery\n",
      "        big_block = np.empty((npixels, 2, 4, min_len))        \n",
      "        for (i, tg),(p, phase) in it.product(enumerate([stg, nstg]), enumerate(phase_cycles)):\n",
      "            big_block[:, i, p, :] = tg[phase][:, :min_len]                        \n",
      "        big_block = np.rollaxis(big_block, 0, 4) \n",
      "        \n",
      "        freq, iblock, df = nudie.wavelen_to_freq(wl, big_block, ax=-1, ret_df=True)\n",
      "        ft = fftshift(ifft(iblock), axes=-1)\n",
      "        time = fftshift(fftfreq(freq.shape[0], df))\n",
      "        prd_idx = np.abs(time - prd_delay).argmin()\n",
      "        \n",
      "        sel_peak = slice(prd_idx - window_width//2,prd_idx + window_width//2)\n",
      "        lo_peak = np.zeros_like(time)\n",
      "        lo_peak[sel_peak] = get_window(('kaiser', 7), window_width)\n",
      "        \n",
      "        lo_peak = lo_peak[np.newaxis, np.newaxis, np.newaxis, :]*ft\n",
      "        \n",
      "        # detect minima near DC peak\n",
      "        # first find index of pm 60 fs, and call that the DC interval\n",
      "        dc_left_idx, dc_right_idx = np.abs(time - dc_left_time).argmin(), \\\n",
      "            np.abs(time-dc_right_time).argmin()\n",
      "\n",
      "        sel_dc = slice(dc_left_idx, dc_right_idx)\n",
      "        dc_peak = np.zeros_like(time)\n",
      "        dc_peak[sel_dc] = get_window(('kaiser', 7), dc_right_idx - dc_left_idx)\n",
      "        dc_peak = dc_peak[np.newaxis, np.newaxis, np.newaxis, :]*ft\n",
      "        \n",
      "        Ilo, Isig = np.abs(fft(dc_peak, axis=-1)), fft(lo_peak, axis=-1)  \n",
      "        \n",
      "        a, b, c, d = np.sqrt(Ilo[:, 0, :, :]), np.sqrt(Ilo[:, 1, :, :]), np.sqrt(Ilo[:, 2, :, :]), np.sqrt(Ilo[:, 3, :, :])\n",
      "        \n",
      "        prd_subtract = np.exp(-1j*2*np.pi*(freq-freq[0])*prd)\n",
      "        zero, pipi, none1, none2 = Isig[:, 1, :, :]*prd_subtract, Isig[:, 3, :, :]*prd_subtract, Isig[:, 0, :, :]*prd_subtract, Isig[:, 2, :, :]*prd_subtract\n",
      "        \n",
      "        TG = numexpr.evaluate(\"1/(b + d)*(zero/b + pipi/d) - (1/(a + c)*(none1/a + none2/d))\").mean(axis=1)\n",
      "        \n",
      "        gphase = f['global phase'][:]\n",
      "        TG = -np.real(np.abs(TG)*np.exp(1j*gphase))\n",
      "        #TG = ((Isig[:, 1, :, :]/b + Isig[:, 3, :, :]) - (Isig[:, 0, :, :]/a + Isig[:, 2, :, :])).mean(axis=1)\n",
      "        #phase = f['phase']\n",
      "        #prd = f['probe ref delay']\n",
      "        #TG = TG[:]*(np.exp(1j*(prd)*(2*np.pi*freq) + 1j*phase)[np.newaxis, :])\n",
      "        t2_item['stark'] = TG[0, :] - TG[1, :]\n",
      "        t2_item['field'] = TG[0, :]\n",
      "        t2_item['nofield'] = TG[1, :]\n",
      "        print(\"done with \\\"{!s}\\\"\".format(t2_item.name))"
     ],
     "language": "python",
     "metadata": {},
     "outputs": [
      {
       "output_type": "stream",
       "stream": "stderr",
       "text": [
        "2014-12-12 22:56:32,076 INFO: `when` is '14-12-12', assuming that it is a date folder\n"
       ]
      },
      {
       "output_type": "stream",
       "stream": "stderr",
       "text": [
        "INFO:nudie.batch_loader:`when` is '14-12-12', assuming that it is a date folder\n"
       ]
      },
      {
       "output_type": "stream",
       "stream": "stderr",
       "text": [
        "2014-12-12 22:56:32,076 INFO: loading `P:\\2D\\Data\\14-12-12\\d1d2-stark-tg-batch05`\n"
       ]
      },
      {
       "output_type": "stream",
       "stream": "stderr",
       "text": [
        "INFO:nudie.batch_loader:loading `P:\\2D\\Data\\14-12-12\\d1d2-stark-tg-batch05`\n"
       ]
      },
      {
       "output_type": "stream",
       "stream": "stderr",
       "text": [
        "2014-12-12 22:56:32,373 INFO: opening file `P:\\2D\\Data\\14-12-12\\d1d2-stark-tg-batch05\\d1d2-stark-tg00-00-00.spe`\n"
       ]
      },
      {
       "output_type": "stream",
       "stream": "stderr",
       "text": [
        "INFO:nudie.winspec:opening file `P:\\2D\\Data\\14-12-12\\d1d2-stark-tg-batch05\\d1d2-stark-tg00-00-00.spe`\n"
       ]
      },
      {
       "output_type": "stream",
       "stream": "stderr",
       "text": [
        "2014-12-12 22:56:32,546 INFO: found shutter at 4499/4975. This corresponds to a shutter duty cycle of 90%. Does that look right?\n"
       ]
      },
      {
       "output_type": "stream",
       "stream": "stderr",
       "text": [
        "INFO:nudie.analysis_bits:found shutter at 4499/4975. This corresponds to a shutter duty cycle of 90%. Does that look right?\n"
       ]
      },
      {
       "output_type": "stream",
       "stream": "stderr",
       "text": [
        "2014-12-12 22:56:32,878 INFO: opening file `P:\\2D\\Data\\14-12-12\\d1d2-stark-tg-batch05\\d1d2-stark-tg01-00-00.spe`\n"
       ]
      },
      {
       "output_type": "stream",
       "stream": "stderr",
       "text": [
        "INFO:nudie.winspec:opening file `P:\\2D\\Data\\14-12-12\\d1d2-stark-tg-batch05\\d1d2-stark-tg01-00-00.spe`\n"
       ]
      },
      {
       "output_type": "stream",
       "stream": "stderr",
       "text": [
        "2014-12-12 22:56:33,042 INFO: found shutter at 4499/4975. This corresponds to a shutter duty cycle of 90%. Does that look right?\n"
       ]
      },
      {
       "output_type": "stream",
       "stream": "stderr",
       "text": [
        "INFO:nudie.analysis_bits:found shutter at 4499/4975. This corresponds to a shutter duty cycle of 90%. Does that look right?\n"
       ]
      },
      {
       "output_type": "stream",
       "stream": "stderr",
       "text": [
        "2014-12-12 22:56:33,394 INFO: opening file `P:\\2D\\Data\\14-12-12\\d1d2-stark-tg-batch05\\d1d2-stark-tg02-00-00.spe`\n"
       ]
      },
      {
       "output_type": "stream",
       "stream": "stderr",
       "text": [
        "INFO:nudie.winspec:opening file `P:\\2D\\Data\\14-12-12\\d1d2-stark-tg-batch05\\d1d2-stark-tg02-00-00.spe`\n"
       ]
      },
      {
       "output_type": "stream",
       "stream": "stderr",
       "text": [
        "2014-12-12 22:56:33,568 INFO: found shutter at 4498/4975. This corresponds to a shutter duty cycle of 90%. Does that look right?\n"
       ]
      },
      {
       "output_type": "stream",
       "stream": "stderr",
       "text": [
        "INFO:nudie.analysis_bits:found shutter at 4498/4975. This corresponds to a shutter duty cycle of 90%. Does that look right?\n"
       ]
      },
      {
       "output_type": "stream",
       "stream": "stderr",
       "text": [
        "2014-12-12 22:56:33,905 INFO: opening file `P:\\2D\\Data\\14-12-12\\d1d2-stark-tg-batch05\\d1d2-stark-tg03-00-00.spe`\n"
       ]
      },
      {
       "output_type": "stream",
       "stream": "stderr",
       "text": [
        "INFO:nudie.winspec:opening file `P:\\2D\\Data\\14-12-12\\d1d2-stark-tg-batch05\\d1d2-stark-tg03-00-00.spe`\n"
       ]
      },
      {
       "output_type": "stream",
       "stream": "stderr",
       "text": [
        "2014-12-12 22:56:34,058 INFO: found shutter at 4498/4974. This corresponds to a shutter duty cycle of 90%. Does that look right?\n"
       ]
      },
      {
       "output_type": "stream",
       "stream": "stderr",
       "text": [
        "INFO:nudie.analysis_bits:found shutter at 4498/4974. This corresponds to a shutter duty cycle of 90%. Does that look right?\n"
       ]
      },
      {
       "output_type": "stream",
       "stream": "stderr",
       "text": [
        "2014-12-12 22:56:34,406 INFO: opening file `P:\\2D\\Data\\14-12-12\\d1d2-stark-tg-batch05\\d1d2-stark-tg04-00-00.spe`\n"
       ]
      },
      {
       "output_type": "stream",
       "stream": "stderr",
       "text": [
        "INFO:nudie.winspec:opening file `P:\\2D\\Data\\14-12-12\\d1d2-stark-tg-batch05\\d1d2-stark-tg04-00-00.spe`\n"
       ]
      },
      {
       "output_type": "stream",
       "stream": "stderr",
       "text": [
        "2014-12-12 22:56:34,558 INFO: found shutter at 4499/4976. This corresponds to a shutter duty cycle of 90%. Does that look right?\n"
       ]
      },
      {
       "output_type": "stream",
       "stream": "stderr",
       "text": [
        "INFO:nudie.analysis_bits:found shutter at 4499/4976. This corresponds to a shutter duty cycle of 90%. Does that look right?\n"
       ]
      },
      {
       "output_type": "stream",
       "stream": "stderr",
       "text": [
        "2014-12-12 22:56:34,897 INFO: opening file `P:\\2D\\Data\\14-12-12\\d1d2-stark-tg-batch05\\d1d2-stark-tg05-00-00.spe`\n"
       ]
      },
      {
       "output_type": "stream",
       "stream": "stderr",
       "text": [
        "INFO:nudie.winspec:opening file `P:\\2D\\Data\\14-12-12\\d1d2-stark-tg-batch05\\d1d2-stark-tg05-00-00.spe`\n"
       ]
      },
      {
       "output_type": "stream",
       "stream": "stderr",
       "text": [
        "2014-12-12 22:56:35,064 INFO: found shutter at 4498/4975. This corresponds to a shutter duty cycle of 90%. Does that look right?\n"
       ]
      },
      {
       "output_type": "stream",
       "stream": "stderr",
       "text": [
        "INFO:nudie.analysis_bits:found shutter at 4498/4975. This corresponds to a shutter duty cycle of 90%. Does that look right?\n"
       ]
      },
      {
       "output_type": "stream",
       "stream": "stderr",
       "text": [
        "2014-12-12 22:56:35,371 INFO: opening file `P:\\2D\\Data\\14-12-12\\d1d2-stark-tg-batch05\\d1d2-stark-tg06-00-00.spe`\n"
       ]
      },
      {
       "output_type": "stream",
       "stream": "stderr",
       "text": [
        "INFO:nudie.winspec:opening file `P:\\2D\\Data\\14-12-12\\d1d2-stark-tg-batch05\\d1d2-stark-tg06-00-00.spe`\n"
       ]
      },
      {
       "output_type": "stream",
       "stream": "stderr",
       "text": [
        "2014-12-12 22:56:35,540 INFO: found shutter at 4499/4975. This corresponds to a shutter duty cycle of 90%. Does that look right?\n"
       ]
      },
      {
       "output_type": "stream",
       "stream": "stderr",
       "text": [
        "INFO:nudie.analysis_bits:found shutter at 4499/4975. This corresponds to a shutter duty cycle of 90%. Does that look right?\n"
       ]
      },
      {
       "output_type": "stream",
       "stream": "stderr",
       "text": [
        "2014-12-12 22:56:35,863 INFO: opening file `P:\\2D\\Data\\14-12-12\\d1d2-stark-tg-batch05\\d1d2-stark-tg07-00-00.spe`\n"
       ]
      },
      {
       "output_type": "stream",
       "stream": "stderr",
       "text": [
        "INFO:nudie.winspec:opening file `P:\\2D\\Data\\14-12-12\\d1d2-stark-tg-batch05\\d1d2-stark-tg07-00-00.spe`\n"
       ]
      },
      {
       "output_type": "stream",
       "stream": "stderr",
       "text": [
        "2014-12-12 22:56:36,041 INFO: found shutter at 4499/4975. This corresponds to a shutter duty cycle of 90%. Does that look right?\n"
       ]
      },
      {
       "output_type": "stream",
       "stream": "stderr",
       "text": [
        "INFO:nudie.analysis_bits:found shutter at 4499/4975. This corresponds to a shutter duty cycle of 90%. Does that look right?\n"
       ]
      },
      {
       "output_type": "stream",
       "stream": "stderr",
       "text": [
        "2014-12-12 22:56:36,364 INFO: opening file `P:\\2D\\Data\\14-12-12\\d1d2-stark-tg-batch05\\d1d2-stark-tg08-00-00.spe`\n"
       ]
      },
      {
       "output_type": "stream",
       "stream": "stderr",
       "text": [
        "INFO:nudie.winspec:opening file `P:\\2D\\Data\\14-12-12\\d1d2-stark-tg-batch05\\d1d2-stark-tg08-00-00.spe`\n"
       ]
      },
      {
       "output_type": "stream",
       "stream": "stderr",
       "text": [
        "2014-12-12 22:56:36,525 INFO: found shutter at 4498/4975. This corresponds to a shutter duty cycle of 90%. Does that look right?\n"
       ]
      },
      {
       "output_type": "stream",
       "stream": "stderr",
       "text": [
        "INFO:nudie.analysis_bits:found shutter at 4498/4975. This corresponds to a shutter duty cycle of 90%. Does that look right?\n"
       ]
      },
      {
       "output_type": "stream",
       "stream": "stderr",
       "text": [
        "2014-12-12 22:56:36,863 INFO: opening file `P:\\2D\\Data\\14-12-12\\d1d2-stark-tg-batch05\\d1d2-stark-tg09-00-00.spe`\n"
       ]
      },
      {
       "output_type": "stream",
       "stream": "stderr",
       "text": [
        "INFO:nudie.winspec:opening file `P:\\2D\\Data\\14-12-12\\d1d2-stark-tg-batch05\\d1d2-stark-tg09-00-00.spe`\n"
       ]
      },
      {
       "output_type": "stream",
       "stream": "stderr",
       "text": [
        "2014-12-12 22:56:37,024 INFO: found shutter at 4499/4975. This corresponds to a shutter duty cycle of 90%. Does that look right?\n"
       ]
      },
      {
       "output_type": "stream",
       "stream": "stderr",
       "text": [
        "INFO:nudie.analysis_bits:found shutter at 4499/4975. This corresponds to a shutter duty cycle of 90%. Does that look right?\n"
       ]
      },
      {
       "output_type": "stream",
       "stream": "stderr",
       "text": [
        "2014-12-12 22:56:37,346 INFO: opening file `P:\\2D\\Data\\14-12-12\\d1d2-stark-tg-batch05\\d1d2-stark-tg10-00-00.spe`\n"
       ]
      },
      {
       "output_type": "stream",
       "stream": "stderr",
       "text": [
        "INFO:nudie.winspec:opening file `P:\\2D\\Data\\14-12-12\\d1d2-stark-tg-batch05\\d1d2-stark-tg10-00-00.spe`\n"
       ]
      },
      {
       "output_type": "stream",
       "stream": "stderr",
       "text": [
        "2014-12-12 22:56:37,498 INFO: found shutter at 4499/4975. This corresponds to a shutter duty cycle of 90%. Does that look right?\n"
       ]
      },
      {
       "output_type": "stream",
       "stream": "stderr",
       "text": [
        "INFO:nudie.analysis_bits:found shutter at 4499/4975. This corresponds to a shutter duty cycle of 90%. Does that look right?\n"
       ]
      },
      {
       "output_type": "stream",
       "stream": "stderr",
       "text": [
        "2014-12-12 22:56:37,908 INFO: opening file `P:\\2D\\Data\\14-12-12\\d1d2-stark-tg-batch05\\d1d2-stark-tg11-00-00.spe`\n"
       ]
      },
      {
       "output_type": "stream",
       "stream": "stderr",
       "text": [
        "INFO:nudie.winspec:opening file `P:\\2D\\Data\\14-12-12\\d1d2-stark-tg-batch05\\d1d2-stark-tg11-00-00.spe`\n"
       ]
      },
      {
       "output_type": "stream",
       "stream": "stderr",
       "text": [
        "2014-12-12 22:56:38,074 INFO: found shutter at 4498/4974. This corresponds to a shutter duty cycle of 90%. Does that look right?\n"
       ]
      },
      {
       "output_type": "stream",
       "stream": "stderr",
       "text": [
        "INFO:nudie.analysis_bits:found shutter at 4498/4974. This corresponds to a shutter duty cycle of 90%. Does that look right?\n"
       ]
      },
      {
       "output_type": "stream",
       "stream": "stderr",
       "text": [
        "2014-12-12 22:56:38,389 INFO: opening file `P:\\2D\\Data\\14-12-12\\d1d2-stark-tg-batch05\\d1d2-stark-tg12-00-00.spe`\n"
       ]
      },
      {
       "output_type": "stream",
       "stream": "stderr",
       "text": [
        "INFO:nudie.winspec:opening file `P:\\2D\\Data\\14-12-12\\d1d2-stark-tg-batch05\\d1d2-stark-tg12-00-00.spe`\n"
       ]
      },
      {
       "output_type": "stream",
       "stream": "stderr",
       "text": [
        "2014-12-12 22:56:38,557 INFO: found shutter at 4499/4975. This corresponds to a shutter duty cycle of 90%. Does that look right?\n"
       ]
      },
      {
       "output_type": "stream",
       "stream": "stderr",
       "text": [
        "INFO:nudie.analysis_bits:found shutter at 4499/4975. This corresponds to a shutter duty cycle of 90%. Does that look right?\n"
       ]
      },
      {
       "output_type": "stream",
       "stream": "stderr",
       "text": [
        "2014-12-12 22:56:38,999 INFO: opening file `P:\\2D\\Data\\14-12-12\\d1d2-stark-tg-batch05\\d1d2-stark-tg13-00-00.spe`\n"
       ]
      },
      {
       "output_type": "stream",
       "stream": "stderr",
       "text": [
        "INFO:nudie.winspec:opening file `P:\\2D\\Data\\14-12-12\\d1d2-stark-tg-batch05\\d1d2-stark-tg13-00-00.spe`\n"
       ]
      },
      {
       "output_type": "stream",
       "stream": "stderr",
       "text": [
        "2014-12-12 22:56:39,149 INFO: found shutter at 4499/4976. This corresponds to a shutter duty cycle of 90%. Does that look right?\n"
       ]
      },
      {
       "output_type": "stream",
       "stream": "stderr",
       "text": [
        "INFO:nudie.analysis_bits:found shutter at 4499/4976. This corresponds to a shutter duty cycle of 90%. Does that look right?\n"
       ]
      },
      {
       "output_type": "stream",
       "stream": "stderr",
       "text": [
        "2014-12-12 22:56:39,496 INFO: opening file `P:\\2D\\Data\\14-12-12\\d1d2-stark-tg-batch05\\d1d2-stark-tg14-00-00.spe`\n"
       ]
      },
      {
       "output_type": "stream",
       "stream": "stderr",
       "text": [
        "INFO:nudie.winspec:opening file `P:\\2D\\Data\\14-12-12\\d1d2-stark-tg-batch05\\d1d2-stark-tg14-00-00.spe`\n"
       ]
      },
      {
       "output_type": "stream",
       "stream": "stderr",
       "text": [
        "2014-12-12 22:56:39,665 INFO: found shutter at 4499/4975. This corresponds to a shutter duty cycle of 90%. Does that look right?\n"
       ]
      },
      {
       "output_type": "stream",
       "stream": "stderr",
       "text": [
        "INFO:nudie.analysis_bits:found shutter at 4499/4975. This corresponds to a shutter duty cycle of 90%. Does that look right?\n"
       ]
      },
      {
       "output_type": "stream",
       "stream": "stderr",
       "text": [
        "2014-12-12 22:56:39,997 INFO: opening file `P:\\2D\\Data\\14-12-12\\d1d2-stark-tg-batch05\\d1d2-stark-tg15-00-00.spe`\n"
       ]
      },
      {
       "output_type": "stream",
       "stream": "stderr",
       "text": [
        "INFO:nudie.winspec:opening file `P:\\2D\\Data\\14-12-12\\d1d2-stark-tg-batch05\\d1d2-stark-tg15-00-00.spe`\n"
       ]
      },
      {
       "output_type": "stream",
       "stream": "stderr",
       "text": [
        "2014-12-12 22:56:40,158 INFO: found shutter at 4498/4975. This corresponds to a shutter duty cycle of 90%. Does that look right?\n"
       ]
      },
      {
       "output_type": "stream",
       "stream": "stderr",
       "text": [
        "INFO:nudie.analysis_bits:found shutter at 4498/4975. This corresponds to a shutter duty cycle of 90%. Does that look right?\n"
       ]
      },
      {
       "output_type": "stream",
       "stream": "stderr",
       "text": [
        "2014-12-12 22:56:40,479 INFO: opening file `P:\\2D\\Data\\14-12-12\\d1d2-stark-tg-batch05\\d1d2-stark-tg16-00-00.spe`\n"
       ]
      },
      {
       "output_type": "stream",
       "stream": "stderr",
       "text": [
        "INFO:nudie.winspec:opening file `P:\\2D\\Data\\14-12-12\\d1d2-stark-tg-batch05\\d1d2-stark-tg16-00-00.spe`\n"
       ]
      },
      {
       "output_type": "stream",
       "stream": "stderr",
       "text": [
        "2014-12-12 22:56:40,642 INFO: found shutter at 4499/4975. This corresponds to a shutter duty cycle of 90%. Does that look right?\n"
       ]
      },
      {
       "output_type": "stream",
       "stream": "stderr",
       "text": [
        "INFO:nudie.analysis_bits:found shutter at 4499/4975. This corresponds to a shutter duty cycle of 90%. Does that look right?\n"
       ]
      },
      {
       "output_type": "stream",
       "stream": "stderr",
       "text": [
        "2014-12-12 22:56:40,965 INFO: opening file `P:\\2D\\Data\\14-12-12\\d1d2-stark-tg-batch05\\d1d2-stark-tg17-00-00.spe`\n"
       ]
      },
      {
       "output_type": "stream",
       "stream": "stderr",
       "text": [
        "INFO:nudie.winspec:opening file `P:\\2D\\Data\\14-12-12\\d1d2-stark-tg-batch05\\d1d2-stark-tg17-00-00.spe`\n"
       ]
      },
      {
       "output_type": "stream",
       "stream": "stderr",
       "text": [
        "2014-12-12 22:56:41,116 INFO: found shutter at 4498/4975. This corresponds to a shutter duty cycle of 90%. Does that look right?\n"
       ]
      },
      {
       "output_type": "stream",
       "stream": "stderr",
       "text": [
        "INFO:nudie.analysis_bits:found shutter at 4498/4975. This corresponds to a shutter duty cycle of 90%. Does that look right?\n"
       ]
      },
      {
       "output_type": "stream",
       "stream": "stderr",
       "text": [
        "2014-12-12 22:56:41,432 INFO: opening file `P:\\2D\\Data\\14-12-12\\d1d2-stark-tg-batch05\\d1d2-stark-tg18-00-00.spe`\n"
       ]
      },
      {
       "output_type": "stream",
       "stream": "stderr",
       "text": [
        "INFO:nudie.winspec:opening file `P:\\2D\\Data\\14-12-12\\d1d2-stark-tg-batch05\\d1d2-stark-tg18-00-00.spe`\n"
       ]
      },
      {
       "output_type": "stream",
       "stream": "stderr",
       "text": [
        "2014-12-12 22:56:41,591 INFO: found shutter at 4499/4975. This corresponds to a shutter duty cycle of 90%. Does that look right?\n"
       ]
      },
      {
       "output_type": "stream",
       "stream": "stderr",
       "text": [
        "INFO:nudie.analysis_bits:found shutter at 4499/4975. This corresponds to a shutter duty cycle of 90%. Does that look right?\n"
       ]
      },
      {
       "output_type": "stream",
       "stream": "stderr",
       "text": [
        "2014-12-12 22:56:41,932 INFO: opening file `P:\\2D\\Data\\14-12-12\\d1d2-stark-tg-batch05\\d1d2-stark-tg19-00-00.spe`\n"
       ]
      },
      {
       "output_type": "stream",
       "stream": "stderr",
       "text": [
        "INFO:nudie.winspec:opening file `P:\\2D\\Data\\14-12-12\\d1d2-stark-tg-batch05\\d1d2-stark-tg19-00-00.spe`\n"
       ]
      },
      {
       "output_type": "stream",
       "stream": "stderr",
       "text": [
        "2014-12-12 22:56:42,091 INFO: found shutter at 4499/4976. This corresponds to a shutter duty cycle of 90%. Does that look right?\n"
       ]
      },
      {
       "output_type": "stream",
       "stream": "stderr",
       "text": [
        "INFO:nudie.analysis_bits:found shutter at 4499/4976. This corresponds to a shutter duty cycle of 90%. Does that look right?\n"
       ]
      },
      {
       "output_type": "stream",
       "stream": "stderr",
       "text": [
        "2014-12-12 22:56:42,413 INFO: opening file `P:\\2D\\Data\\14-12-12\\d1d2-stark-tg-batch05\\d1d2-stark-tg20-00-00.spe`\n"
       ]
      },
      {
       "output_type": "stream",
       "stream": "stderr",
       "text": [
        "INFO:nudie.winspec:opening file `P:\\2D\\Data\\14-12-12\\d1d2-stark-tg-batch05\\d1d2-stark-tg20-00-00.spe`\n"
       ]
      },
      {
       "output_type": "stream",
       "stream": "stderr",
       "text": [
        "2014-12-12 22:56:42,590 INFO: found shutter at 4498/4974. This corresponds to a shutter duty cycle of 90%. Does that look right?\n"
       ]
      },
      {
       "output_type": "stream",
       "stream": "stderr",
       "text": [
        "INFO:nudie.analysis_bits:found shutter at 4498/4974. This corresponds to a shutter duty cycle of 90%. Does that look right?\n"
       ]
      },
      {
       "output_type": "stream",
       "stream": "stderr",
       "text": [
        "2014-12-12 22:56:42,907 INFO: opening file `P:\\2D\\Data\\14-12-12\\d1d2-stark-tg-batch05\\d1d2-stark-tg21-00-00.spe`\n"
       ]
      },
      {
       "output_type": "stream",
       "stream": "stderr",
       "text": [
        "INFO:nudie.winspec:opening file `P:\\2D\\Data\\14-12-12\\d1d2-stark-tg-batch05\\d1d2-stark-tg21-00-00.spe`\n"
       ]
      },
      {
       "output_type": "stream",
       "stream": "stderr",
       "text": [
        "2014-12-12 22:56:43,086 INFO: found shutter at 4499/4976. This corresponds to a shutter duty cycle of 90%. Does that look right?\n"
       ]
      },
      {
       "output_type": "stream",
       "stream": "stderr",
       "text": [
        "INFO:nudie.analysis_bits:found shutter at 4499/4976. This corresponds to a shutter duty cycle of 90%. Does that look right?\n"
       ]
      },
      {
       "output_type": "stream",
       "stream": "stderr",
       "text": [
        "2014-12-12 22:56:43,422 INFO: opening file `P:\\2D\\Data\\14-12-12\\d1d2-stark-tg-batch05\\d1d2-stark-tg22-00-00.spe`\n"
       ]
      },
      {
       "output_type": "stream",
       "stream": "stderr",
       "text": [
        "INFO:nudie.winspec:opening file `P:\\2D\\Data\\14-12-12\\d1d2-stark-tg-batch05\\d1d2-stark-tg22-00-00.spe`\n"
       ]
      },
      {
       "output_type": "stream",
       "stream": "stderr",
       "text": [
        "2014-12-12 22:56:43,575 INFO: found shutter at 4499/4975. This corresponds to a shutter duty cycle of 90%. Does that look right?\n"
       ]
      },
      {
       "output_type": "stream",
       "stream": "stderr",
       "text": [
        "INFO:nudie.analysis_bits:found shutter at 4499/4975. This corresponds to a shutter duty cycle of 90%. Does that look right?\n"
       ]
      },
      {
       "output_type": "stream",
       "stream": "stderr",
       "text": [
        "2014-12-12 22:56:43,928 INFO: opening file `P:\\2D\\Data\\14-12-12\\d1d2-stark-tg-batch05\\d1d2-stark-tg23-00-00.spe`\n"
       ]
      },
      {
       "output_type": "stream",
       "stream": "stderr",
       "text": [
        "INFO:nudie.winspec:opening file `P:\\2D\\Data\\14-12-12\\d1d2-stark-tg-batch05\\d1d2-stark-tg23-00-00.spe`\n"
       ]
      },
      {
       "output_type": "stream",
       "stream": "stderr",
       "text": [
        "2014-12-12 22:56:44,075 INFO: found shutter at 4498/4975. This corresponds to a shutter duty cycle of 90%. Does that look right?\n"
       ]
      },
      {
       "output_type": "stream",
       "stream": "stderr",
       "text": [
        "INFO:nudie.analysis_bits:found shutter at 4498/4975. This corresponds to a shutter duty cycle of 90%. Does that look right?\n"
       ]
      },
      {
       "output_type": "stream",
       "stream": "stderr",
       "text": [
        "2014-12-12 22:56:44,398 INFO: opening file `P:\\2D\\Data\\14-12-12\\d1d2-stark-tg-batch05\\d1d2-stark-tg24-00-00.spe`\n"
       ]
      },
      {
       "output_type": "stream",
       "stream": "stderr",
       "text": [
        "INFO:nudie.winspec:opening file `P:\\2D\\Data\\14-12-12\\d1d2-stark-tg-batch05\\d1d2-stark-tg24-00-00.spe`\n"
       ]
      },
      {
       "output_type": "stream",
       "stream": "stderr",
       "text": [
        "2014-12-12 22:56:44,565 INFO: found shutter at 4499/4975. This corresponds to a shutter duty cycle of 90%. Does that look right?\n"
       ]
      },
      {
       "output_type": "stream",
       "stream": "stderr",
       "text": [
        "INFO:nudie.analysis_bits:found shutter at 4499/4975. This corresponds to a shutter duty cycle of 90%. Does that look right?\n"
       ]
      },
      {
       "output_type": "stream",
       "stream": "stderr",
       "text": [
        "2014-12-12 22:56:44,896 INFO: opening file `P:\\2D\\Data\\14-12-12\\d1d2-stark-tg-batch05\\d1d2-stark-tg25-00-00.spe`\n"
       ]
      },
      {
       "output_type": "stream",
       "stream": "stderr",
       "text": [
        "INFO:nudie.winspec:opening file `P:\\2D\\Data\\14-12-12\\d1d2-stark-tg-batch05\\d1d2-stark-tg25-00-00.spe`\n"
       ]
      },
      {
       "output_type": "stream",
       "stream": "stderr",
       "text": [
        "2014-12-12 22:56:45,022 INFO: found shutter at 4499/4975. This corresponds to a shutter duty cycle of 90%. Does that look right?\n"
       ]
      },
      {
       "output_type": "stream",
       "stream": "stderr",
       "text": [
        "INFO:nudie.analysis_bits:found shutter at 4499/4975. This corresponds to a shutter duty cycle of 90%. Does that look right?\n"
       ]
      },
      {
       "output_type": "stream",
       "stream": "stderr",
       "text": [
        "2014-12-12 22:56:45,380 INFO: opening file `P:\\2D\\Data\\14-12-12\\d1d2-stark-tg-batch05\\d1d2-stark-tg26-00-00.spe`\n"
       ]
      },
      {
       "output_type": "stream",
       "stream": "stderr",
       "text": [
        "INFO:nudie.winspec:opening file `P:\\2D\\Data\\14-12-12\\d1d2-stark-tg-batch05\\d1d2-stark-tg26-00-00.spe`\n"
       ]
      },
      {
       "output_type": "stream",
       "stream": "stderr",
       "text": [
        "2014-12-12 22:56:45,524 INFO: found shutter at 4498/4975. This corresponds to a shutter duty cycle of 90%. Does that look right?\n"
       ]
      },
      {
       "output_type": "stream",
       "stream": "stderr",
       "text": [
        "INFO:nudie.analysis_bits:found shutter at 4498/4975. This corresponds to a shutter duty cycle of 90%. Does that look right?\n"
       ]
      },
      {
       "output_type": "stream",
       "stream": "stderr",
       "text": [
        "2014-12-12 22:56:45,863 INFO: opening file `P:\\2D\\Data\\14-12-12\\d1d2-stark-tg-batch05\\d1d2-stark-tg27-00-00.spe`\n"
       ]
      },
      {
       "output_type": "stream",
       "stream": "stderr",
       "text": [
        "INFO:nudie.winspec:opening file `P:\\2D\\Data\\14-12-12\\d1d2-stark-tg-batch05\\d1d2-stark-tg27-00-00.spe`\n"
       ]
      },
      {
       "output_type": "stream",
       "stream": "stderr",
       "text": [
        "2014-12-12 22:56:46,032 INFO: found shutter at 4499/4976. This corresponds to a shutter duty cycle of 90%. Does that look right?\n"
       ]
      },
      {
       "output_type": "stream",
       "stream": "stderr",
       "text": [
        "INFO:nudie.analysis_bits:found shutter at 4499/4976. This corresponds to a shutter duty cycle of 90%. Does that look right?\n"
       ]
      },
      {
       "output_type": "stream",
       "stream": "stderr",
       "text": [
        "2014-12-12 22:56:46,355 INFO: opening file `P:\\2D\\Data\\14-12-12\\d1d2-stark-tg-batch05\\d1d2-stark-tg28-00-00.spe`\n"
       ]
      },
      {
       "output_type": "stream",
       "stream": "stderr",
       "text": [
        "INFO:nudie.winspec:opening file `P:\\2D\\Data\\14-12-12\\d1d2-stark-tg-batch05\\d1d2-stark-tg28-00-00.spe`\n"
       ]
      },
      {
       "output_type": "stream",
       "stream": "stderr",
       "text": [
        "2014-12-12 22:56:46,525 INFO: found shutter at 4499/4975. This corresponds to a shutter duty cycle of 90%. Does that look right?\n"
       ]
      },
      {
       "output_type": "stream",
       "stream": "stderr",
       "text": [
        "INFO:nudie.analysis_bits:found shutter at 4499/4975. This corresponds to a shutter duty cycle of 90%. Does that look right?\n"
       ]
      },
      {
       "output_type": "stream",
       "stream": "stderr",
       "text": [
        "2014-12-12 22:56:46,832 INFO: opening file `P:\\2D\\Data\\14-12-12\\d1d2-stark-tg-batch05\\d1d2-stark-tg29-00-00.spe`\n"
       ]
      },
      {
       "output_type": "stream",
       "stream": "stderr",
       "text": [
        "INFO:nudie.winspec:opening file `P:\\2D\\Data\\14-12-12\\d1d2-stark-tg-batch05\\d1d2-stark-tg29-00-00.spe`\n"
       ]
      },
      {
       "output_type": "stream",
       "stream": "stderr",
       "text": [
        "2014-12-12 22:56:46,999 INFO: found shutter at 4498/4975. This corresponds to a shutter duty cycle of 90%. Does that look right?\n"
       ]
      },
      {
       "output_type": "stream",
       "stream": "stderr",
       "text": [
        "INFO:nudie.analysis_bits:found shutter at 4498/4975. This corresponds to a shutter duty cycle of 90%. Does that look right?\n"
       ]
      },
      {
       "output_type": "stream",
       "stream": "stderr",
       "text": [
        "2014-12-12 22:56:47,332 INFO: opening file `P:\\2D\\Data\\14-12-12\\d1d2-stark-tg-batch05\\d1d2-stark-tg30-00-00.spe`\n"
       ]
      },
      {
       "output_type": "stream",
       "stream": "stderr",
       "text": [
        "INFO:nudie.winspec:opening file `P:\\2D\\Data\\14-12-12\\d1d2-stark-tg-batch05\\d1d2-stark-tg30-00-00.spe`\n"
       ]
      },
      {
       "output_type": "stream",
       "stream": "stderr",
       "text": [
        "2014-12-12 22:56:47,476 INFO: found shutter at 4498/4975. This corresponds to a shutter duty cycle of 90%. Does that look right?\n"
       ]
      },
      {
       "output_type": "stream",
       "stream": "stderr",
       "text": [
        "INFO:nudie.analysis_bits:found shutter at 4498/4975. This corresponds to a shutter duty cycle of 90%. Does that look right?\n"
       ]
      },
      {
       "output_type": "stream",
       "stream": "stderr",
       "text": [
        "2014-12-12 22:56:47,814 INFO: opening file `P:\\2D\\Data\\14-12-12\\d1d2-stark-tg-batch05\\d1d2-stark-tg31-00-00.spe`\n"
       ]
      },
      {
       "output_type": "stream",
       "stream": "stderr",
       "text": [
        "INFO:nudie.winspec:opening file `P:\\2D\\Data\\14-12-12\\d1d2-stark-tg-batch05\\d1d2-stark-tg31-00-00.spe`\n"
       ]
      },
      {
       "output_type": "stream",
       "stream": "stderr",
       "text": [
        "2014-12-12 22:56:47,990 INFO: found shutter at 4498/4975. This corresponds to a shutter duty cycle of 90%. Does that look right?\n"
       ]
      },
      {
       "output_type": "stream",
       "stream": "stderr",
       "text": [
        "INFO:nudie.analysis_bits:found shutter at 4498/4975. This corresponds to a shutter duty cycle of 90%. Does that look right?\n"
       ]
      },
      {
       "output_type": "stream",
       "stream": "stderr",
       "text": [
        "2014-12-12 22:56:48,314 INFO: opening file `P:\\2D\\Data\\14-12-12\\d1d2-stark-tg-batch05\\d1d2-stark-tg32-00-00.spe`\n"
       ]
      },
      {
       "output_type": "stream",
       "stream": "stderr",
       "text": [
        "INFO:nudie.winspec:opening file `P:\\2D\\Data\\14-12-12\\d1d2-stark-tg-batch05\\d1d2-stark-tg32-00-00.spe`\n"
       ]
      },
      {
       "output_type": "stream",
       "stream": "stderr",
       "text": [
        "2014-12-12 22:56:48,475 INFO: found shutter at 4498/4974. This corresponds to a shutter duty cycle of 90%. Does that look right?\n"
       ]
      },
      {
       "output_type": "stream",
       "stream": "stderr",
       "text": [
        "INFO:nudie.analysis_bits:found shutter at 4498/4974. This corresponds to a shutter duty cycle of 90%. Does that look right?\n"
       ]
      },
      {
       "output_type": "stream",
       "stream": "stderr",
       "text": [
        "2014-12-12 22:56:48,798 INFO: opening file `P:\\2D\\Data\\14-12-12\\d1d2-stark-tg-batch05\\d1d2-stark-tg33-00-00.spe`\n"
       ]
      },
      {
       "output_type": "stream",
       "stream": "stderr",
       "text": [
        "INFO:nudie.winspec:opening file `P:\\2D\\Data\\14-12-12\\d1d2-stark-tg-batch05\\d1d2-stark-tg33-00-00.spe`\n"
       ]
      },
      {
       "output_type": "stream",
       "stream": "stderr",
       "text": [
        "2014-12-12 22:56:48,959 INFO: found shutter at 4499/4975. This corresponds to a shutter duty cycle of 90%. Does that look right?\n"
       ]
      },
      {
       "output_type": "stream",
       "stream": "stderr",
       "text": [
        "INFO:nudie.analysis_bits:found shutter at 4499/4975. This corresponds to a shutter duty cycle of 90%. Does that look right?\n"
       ]
      },
      {
       "output_type": "stream",
       "stream": "stderr",
       "text": [
        "2014-12-12 22:56:49,297 INFO: opening file `P:\\2D\\Data\\14-12-12\\d1d2-stark-tg-batch05\\d1d2-stark-tg34-00-00.spe`\n"
       ]
      },
      {
       "output_type": "stream",
       "stream": "stderr",
       "text": [
        "INFO:nudie.winspec:opening file `P:\\2D\\Data\\14-12-12\\d1d2-stark-tg-batch05\\d1d2-stark-tg34-00-00.spe`\n"
       ]
      },
      {
       "output_type": "stream",
       "stream": "stderr",
       "text": [
        "2014-12-12 22:56:49,459 INFO: found shutter at 4499/4975. This corresponds to a shutter duty cycle of 90%. Does that look right?\n"
       ]
      },
      {
       "output_type": "stream",
       "stream": "stderr",
       "text": [
        "INFO:nudie.analysis_bits:found shutter at 4499/4975. This corresponds to a shutter duty cycle of 90%. Does that look right?\n"
       ]
      },
      {
       "output_type": "stream",
       "stream": "stderr",
       "text": [
        "2014-12-12 22:56:49,788 INFO: opening file `P:\\2D\\Data\\14-12-12\\d1d2-stark-tg-batch05\\d1d2-stark-tg35-00-00.spe`\n"
       ]
      },
      {
       "output_type": "stream",
       "stream": "stderr",
       "text": [
        "INFO:nudie.winspec:opening file `P:\\2D\\Data\\14-12-12\\d1d2-stark-tg-batch05\\d1d2-stark-tg35-00-00.spe`\n"
       ]
      },
      {
       "output_type": "stream",
       "stream": "stderr",
       "text": [
        "2014-12-12 22:56:49,958 INFO: found shutter at 4499/4975. This corresponds to a shutter duty cycle of 90%. Does that look right?\n"
       ]
      },
      {
       "output_type": "stream",
       "stream": "stderr",
       "text": [
        "INFO:nudie.analysis_bits:found shutter at 4499/4975. This corresponds to a shutter duty cycle of 90%. Does that look right?\n"
       ]
      },
      {
       "output_type": "stream",
       "stream": "stderr",
       "text": [
        "2014-12-12 22:56:50,281 INFO: opening file `P:\\2D\\Data\\14-12-12\\d1d2-stark-tg-batch05\\d1d2-stark-tg36-00-00.spe`\n"
       ]
      },
      {
       "output_type": "stream",
       "stream": "stderr",
       "text": [
        "INFO:nudie.winspec:opening file `P:\\2D\\Data\\14-12-12\\d1d2-stark-tg-batch05\\d1d2-stark-tg36-00-00.spe`\n"
       ]
      },
      {
       "output_type": "stream",
       "stream": "stderr",
       "text": [
        "2014-12-12 22:56:50,521 INFO: found shutter at 4499/4976. This corresponds to a shutter duty cycle of 90%. Does that look right?\n"
       ]
      },
      {
       "output_type": "stream",
       "stream": "stderr",
       "text": [
        "INFO:nudie.analysis_bits:found shutter at 4499/4976. This corresponds to a shutter duty cycle of 90%. Does that look right?\n"
       ]
      },
      {
       "output_type": "stream",
       "stream": "stderr",
       "text": [
        "2014-12-12 22:56:50,848 INFO: opening file `P:\\2D\\Data\\14-12-12\\d1d2-stark-tg-batch05\\d1d2-stark-tg37-00-00.spe`\n"
       ]
      },
      {
       "output_type": "stream",
       "stream": "stderr",
       "text": [
        "INFO:nudie.winspec:opening file `P:\\2D\\Data\\14-12-12\\d1d2-stark-tg-batch05\\d1d2-stark-tg37-00-00.spe`\n"
       ]
      },
      {
       "output_type": "stream",
       "stream": "stderr",
       "text": [
        "2014-12-12 22:56:51,008 INFO: found shutter at 4499/4975. This corresponds to a shutter duty cycle of 90%. Does that look right?\n"
       ]
      },
      {
       "output_type": "stream",
       "stream": "stderr",
       "text": [
        "INFO:nudie.analysis_bits:found shutter at 4499/4975. This corresponds to a shutter duty cycle of 90%. Does that look right?\n"
       ]
      },
      {
       "output_type": "stream",
       "stream": "stderr",
       "text": [
        "2014-12-12 22:56:51,347 INFO: opening file `P:\\2D\\Data\\14-12-12\\d1d2-stark-tg-batch05\\d1d2-stark-tg38-00-00.spe`\n"
       ]
      },
      {
       "output_type": "stream",
       "stream": "stderr",
       "text": [
        "INFO:nudie.winspec:opening file `P:\\2D\\Data\\14-12-12\\d1d2-stark-tg-batch05\\d1d2-stark-tg38-00-00.spe`\n"
       ]
      },
      {
       "output_type": "stream",
       "stream": "stderr",
       "text": [
        "2014-12-12 22:56:51,493 INFO: found shutter at 4499/4975. This corresponds to a shutter duty cycle of 90%. Does that look right?\n"
       ]
      },
      {
       "output_type": "stream",
       "stream": "stderr",
       "text": [
        "INFO:nudie.analysis_bits:found shutter at 4499/4975. This corresponds to a shutter duty cycle of 90%. Does that look right?\n"
       ]
      },
      {
       "output_type": "stream",
       "stream": "stderr",
       "text": [
        "2014-12-12 22:56:51,847 INFO: opening file `P:\\2D\\Data\\14-12-12\\d1d2-stark-tg-batch05\\d1d2-stark-tg39-00-00.spe`\n"
       ]
      },
      {
       "output_type": "stream",
       "stream": "stderr",
       "text": [
        "INFO:nudie.winspec:opening file `P:\\2D\\Data\\14-12-12\\d1d2-stark-tg-batch05\\d1d2-stark-tg39-00-00.spe`\n"
       ]
      },
      {
       "output_type": "stream",
       "stream": "stderr",
       "text": [
        "2014-12-12 22:56:52,008 INFO: found shutter at 4499/4975. This corresponds to a shutter duty cycle of 90%. Does that look right?\n"
       ]
      },
      {
       "output_type": "stream",
       "stream": "stderr",
       "text": [
        "INFO:nudie.analysis_bits:found shutter at 4499/4975. This corresponds to a shutter duty cycle of 90%. Does that look right?\n"
       ]
      },
      {
       "output_type": "stream",
       "stream": "stderr",
       "text": [
        "2014-12-12 22:56:52,346 INFO: opening file `P:\\2D\\Data\\14-12-12\\d1d2-stark-tg-batch05\\d1d2-stark-tg40-00-00.spe`\n"
       ]
      },
      {
       "output_type": "stream",
       "stream": "stderr",
       "text": [
        "INFO:nudie.winspec:opening file `P:\\2D\\Data\\14-12-12\\d1d2-stark-tg-batch05\\d1d2-stark-tg40-00-00.spe`\n"
       ]
      },
      {
       "output_type": "stream",
       "stream": "stderr",
       "text": [
        "2014-12-12 22:56:52,493 INFO: found shutter at 4499/4976. This corresponds to a shutter duty cycle of 90%. Does that look right?\n"
       ]
      },
      {
       "output_type": "stream",
       "stream": "stderr",
       "text": [
        "INFO:nudie.analysis_bits:found shutter at 4499/4976. This corresponds to a shutter duty cycle of 90%. Does that look right?\n"
       ]
      },
      {
       "output_type": "stream",
       "stream": "stderr",
       "text": [
        "2014-12-12 22:56:52,831 INFO: opening file `P:\\2D\\Data\\14-12-12\\d1d2-stark-tg-batch05\\d1d2-stark-tg41-00-00.spe`\n"
       ]
      },
      {
       "output_type": "stream",
       "stream": "stderr",
       "text": [
        "INFO:nudie.winspec:opening file `P:\\2D\\Data\\14-12-12\\d1d2-stark-tg-batch05\\d1d2-stark-tg41-00-00.spe`\n"
       ]
      },
      {
       "output_type": "stream",
       "stream": "stderr",
       "text": [
        "2014-12-12 22:56:53,007 INFO: found shutter at 4498/4974. This corresponds to a shutter duty cycle of 90%. Does that look right?\n"
       ]
      },
      {
       "output_type": "stream",
       "stream": "stderr",
       "text": [
        "INFO:nudie.analysis_bits:found shutter at 4498/4974. This corresponds to a shutter duty cycle of 90%. Does that look right?\n"
       ]
      },
      {
       "output_type": "stream",
       "stream": "stderr",
       "text": [
        "2014-12-12 22:56:53,316 INFO: opening file `P:\\2D\\Data\\14-12-12\\d1d2-stark-tg-batch05\\d1d2-stark-tg42-00-00.spe`\n"
       ]
      },
      {
       "output_type": "stream",
       "stream": "stderr",
       "text": [
        "INFO:nudie.winspec:opening file `P:\\2D\\Data\\14-12-12\\d1d2-stark-tg-batch05\\d1d2-stark-tg42-00-00.spe`\n"
       ]
      },
      {
       "output_type": "stream",
       "stream": "stderr",
       "text": [
        "2014-12-12 22:56:53,476 INFO: found shutter at 4499/4976. This corresponds to a shutter duty cycle of 90%. Does that look right?\n"
       ]
      },
      {
       "output_type": "stream",
       "stream": "stderr",
       "text": [
        "INFO:nudie.analysis_bits:found shutter at 4499/4976. This corresponds to a shutter duty cycle of 90%. Does that look right?\n"
       ]
      },
      {
       "output_type": "stream",
       "stream": "stderr",
       "text": [
        "2014-12-12 22:56:53,797 INFO: opening file `P:\\2D\\Data\\14-12-12\\d1d2-stark-tg-batch05\\d1d2-stark-tg43-00-00.spe`\n"
       ]
      },
      {
       "output_type": "stream",
       "stream": "stderr",
       "text": [
        "INFO:nudie.winspec:opening file `P:\\2D\\Data\\14-12-12\\d1d2-stark-tg-batch05\\d1d2-stark-tg43-00-00.spe`\n"
       ]
      },
      {
       "output_type": "stream",
       "stream": "stderr",
       "text": [
        "2014-12-12 22:56:53,960 INFO: found shutter at 4498/4975. This corresponds to a shutter duty cycle of 90%. Does that look right?\n"
       ]
      },
      {
       "output_type": "stream",
       "stream": "stderr",
       "text": [
        "INFO:nudie.analysis_bits:found shutter at 4498/4975. This corresponds to a shutter duty cycle of 90%. Does that look right?\n"
       ]
      },
      {
       "output_type": "stream",
       "stream": "stderr",
       "text": [
        "2014-12-12 22:56:54,314 INFO: opening file `P:\\2D\\Data\\14-12-12\\d1d2-stark-tg-batch05\\d1d2-stark-tg44-00-00.spe`\n"
       ]
      },
      {
       "output_type": "stream",
       "stream": "stderr",
       "text": [
        "INFO:nudie.winspec:opening file `P:\\2D\\Data\\14-12-12\\d1d2-stark-tg-batch05\\d1d2-stark-tg44-00-00.spe`\n"
       ]
      },
      {
       "output_type": "stream",
       "stream": "stderr",
       "text": [
        "2014-12-12 22:56:54,470 INFO: found shutter at 4498/4975. This corresponds to a shutter duty cycle of 90%. Does that look right?\n"
       ]
      },
      {
       "output_type": "stream",
       "stream": "stderr",
       "text": [
        "INFO:nudie.analysis_bits:found shutter at 4498/4975. This corresponds to a shutter duty cycle of 90%. Does that look right?\n"
       ]
      },
      {
       "output_type": "stream",
       "stream": "stderr",
       "text": [
        "2014-12-12 22:56:54,798 INFO: opening file `P:\\2D\\Data\\14-12-12\\d1d2-stark-tg-batch05\\d1d2-stark-tg45-00-00.spe`\n"
       ]
      },
      {
       "output_type": "stream",
       "stream": "stderr",
       "text": [
        "INFO:nudie.winspec:opening file `P:\\2D\\Data\\14-12-12\\d1d2-stark-tg-batch05\\d1d2-stark-tg45-00-00.spe`\n"
       ]
      },
      {
       "output_type": "stream",
       "stream": "stderr",
       "text": [
        "2014-12-12 22:56:54,959 INFO: found shutter at 4499/4975. This corresponds to a shutter duty cycle of 90%. Does that look right?\n"
       ]
      },
      {
       "output_type": "stream",
       "stream": "stderr",
       "text": [
        "INFO:nudie.analysis_bits:found shutter at 4499/4975. This corresponds to a shutter duty cycle of 90%. Does that look right?\n"
       ]
      },
      {
       "output_type": "stream",
       "stream": "stderr",
       "text": [
        "2014-12-12 22:56:55,281 INFO: opening file `P:\\2D\\Data\\14-12-12\\d1d2-stark-tg-batch05\\d1d2-stark-tg46-00-00.spe`\n"
       ]
      },
      {
       "output_type": "stream",
       "stream": "stderr",
       "text": [
        "INFO:nudie.winspec:opening file `P:\\2D\\Data\\14-12-12\\d1d2-stark-tg-batch05\\d1d2-stark-tg46-00-00.spe`\n"
       ]
      },
      {
       "output_type": "stream",
       "stream": "stderr",
       "text": [
        "2014-12-12 22:56:55,449 INFO: found shutter at 4499/4976. This corresponds to a shutter duty cycle of 90%. Does that look right?\n"
       ]
      },
      {
       "output_type": "stream",
       "stream": "stderr",
       "text": [
        "INFO:nudie.analysis_bits:found shutter at 4499/4976. This corresponds to a shutter duty cycle of 90%. Does that look right?\n"
       ]
      },
      {
       "output_type": "stream",
       "stream": "stderr",
       "text": [
        "2014-12-12 22:56:55,783 INFO: opening file `P:\\2D\\Data\\14-12-12\\d1d2-stark-tg-batch05\\d1d2-stark-tg47-00-00.spe`\n"
       ]
      },
      {
       "output_type": "stream",
       "stream": "stderr",
       "text": [
        "INFO:nudie.winspec:opening file `P:\\2D\\Data\\14-12-12\\d1d2-stark-tg-batch05\\d1d2-stark-tg47-00-00.spe`\n"
       ]
      },
      {
       "output_type": "stream",
       "stream": "stderr",
       "text": [
        "2014-12-12 22:56:55,941 INFO: found shutter at 4498/4975. This corresponds to a shutter duty cycle of 90%. Does that look right?\n"
       ]
      },
      {
       "output_type": "stream",
       "stream": "stderr",
       "text": [
        "INFO:nudie.analysis_bits:found shutter at 4498/4975. This corresponds to a shutter duty cycle of 90%. Does that look right?\n"
       ]
      },
      {
       "output_type": "stream",
       "stream": "stderr",
       "text": [
        "2014-12-12 22:56:56,267 INFO: opening file `P:\\2D\\Data\\14-12-12\\d1d2-stark-tg-batch05\\d1d2-stark-tg48-00-00.spe`\n"
       ]
      },
      {
       "output_type": "stream",
       "stream": "stderr",
       "text": [
        "INFO:nudie.winspec:opening file `P:\\2D\\Data\\14-12-12\\d1d2-stark-tg-batch05\\d1d2-stark-tg48-00-00.spe`\n"
       ]
      },
      {
       "output_type": "stream",
       "stream": "stderr",
       "text": [
        "2014-12-12 22:56:56,426 INFO: found shutter at 4499/4976. This corresponds to a shutter duty cycle of 90%. Does that look right?\n"
       ]
      },
      {
       "output_type": "stream",
       "stream": "stderr",
       "text": [
        "INFO:nudie.analysis_bits:found shutter at 4499/4976. This corresponds to a shutter duty cycle of 90%. Does that look right?\n"
       ]
      },
      {
       "output_type": "stream",
       "stream": "stderr",
       "text": [
        "2014-12-12 22:56:56,764 INFO: opening file `P:\\2D\\Data\\14-12-12\\d1d2-stark-tg-batch05\\d1d2-stark-tg49-00-00.spe`\n"
       ]
      },
      {
       "output_type": "stream",
       "stream": "stderr",
       "text": [
        "INFO:nudie.winspec:opening file `P:\\2D\\Data\\14-12-12\\d1d2-stark-tg-batch05\\d1d2-stark-tg49-00-00.spe`\n"
       ]
      },
      {
       "output_type": "stream",
       "stream": "stderr",
       "text": [
        "2014-12-12 22:56:56,909 INFO: found shutter at 4498/4974. This corresponds to a shutter duty cycle of 90%. Does that look right?\n"
       ]
      },
      {
       "output_type": "stream",
       "stream": "stderr",
       "text": [
        "INFO:nudie.analysis_bits:found shutter at 4498/4974. This corresponds to a shutter duty cycle of 90%. Does that look right?\n"
       ]
      },
      {
       "output_type": "stream",
       "stream": "stderr",
       "text": [
        "2014-12-12 22:56:57,248 INFO: opening file `P:\\2D\\Data\\14-12-12\\d1d2-stark-tg-batch05\\d1d2-stark-tg50-00-00.spe`\n"
       ]
      },
      {
       "output_type": "stream",
       "stream": "stderr",
       "text": [
        "INFO:nudie.winspec:opening file `P:\\2D\\Data\\14-12-12\\d1d2-stark-tg-batch05\\d1d2-stark-tg50-00-00.spe`\n"
       ]
      },
      {
       "output_type": "stream",
       "stream": "stderr",
       "text": [
        "2014-12-12 22:56:57,415 INFO: found shutter at 4498/4975. This corresponds to a shutter duty cycle of 90%. Does that look right?\n"
       ]
      },
      {
       "output_type": "stream",
       "stream": "stderr",
       "text": [
        "INFO:nudie.analysis_bits:found shutter at 4498/4975. This corresponds to a shutter duty cycle of 90%. Does that look right?\n"
       ]
      },
      {
       "output_type": "stream",
       "stream": "stdout",
       "text": [
        "done with \"/tg/00\"\n",
        "done with \"/tg/01\""
       ]
      },
      {
       "output_type": "stream",
       "stream": "stdout",
       "text": [
        "\n",
        "done with \"/tg/02\""
       ]
      },
      {
       "output_type": "stream",
       "stream": "stdout",
       "text": [
        "\n",
        "done with \"/tg/03\""
       ]
      },
      {
       "output_type": "stream",
       "stream": "stdout",
       "text": [
        "\n",
        "done with \"/tg/04\""
       ]
      },
      {
       "output_type": "stream",
       "stream": "stdout",
       "text": [
        "\n",
        "done with \"/tg/05\""
       ]
      },
      {
       "output_type": "stream",
       "stream": "stdout",
       "text": [
        "\n",
        "done with \"/tg/06\""
       ]
      },
      {
       "output_type": "stream",
       "stream": "stdout",
       "text": [
        "\n",
        "done with \"/tg/07\""
       ]
      },
      {
       "output_type": "stream",
       "stream": "stdout",
       "text": [
        "\n",
        "done with \"/tg/08\""
       ]
      },
      {
       "output_type": "stream",
       "stream": "stdout",
       "text": [
        "\n",
        "done with \"/tg/09\""
       ]
      },
      {
       "output_type": "stream",
       "stream": "stdout",
       "text": [
        "\n",
        "done with \"/tg/10\""
       ]
      },
      {
       "output_type": "stream",
       "stream": "stdout",
       "text": [
        "\n",
        "done with \"/tg/11\""
       ]
      },
      {
       "output_type": "stream",
       "stream": "stdout",
       "text": [
        "\n",
        "done with \"/tg/12\""
       ]
      },
      {
       "output_type": "stream",
       "stream": "stdout",
       "text": [
        "\n",
        "done with \"/tg/13\""
       ]
      },
      {
       "output_type": "stream",
       "stream": "stdout",
       "text": [
        "\n",
        "done with \"/tg/14\""
       ]
      },
      {
       "output_type": "stream",
       "stream": "stdout",
       "text": [
        "\n",
        "done with \"/tg/15\""
       ]
      },
      {
       "output_type": "stream",
       "stream": "stdout",
       "text": [
        "\n",
        "done with \"/tg/16\""
       ]
      },
      {
       "output_type": "stream",
       "stream": "stdout",
       "text": [
        "\n",
        "done with \"/tg/17\""
       ]
      },
      {
       "output_type": "stream",
       "stream": "stdout",
       "text": [
        "\n",
        "done with \"/tg/18\""
       ]
      },
      {
       "output_type": "stream",
       "stream": "stdout",
       "text": [
        "\n",
        "done with \"/tg/19\""
       ]
      },
      {
       "output_type": "stream",
       "stream": "stdout",
       "text": [
        "\n",
        "done with \"/tg/20\""
       ]
      },
      {
       "output_type": "stream",
       "stream": "stdout",
       "text": [
        "\n",
        "done with \"/tg/21\""
       ]
      },
      {
       "output_type": "stream",
       "stream": "stdout",
       "text": [
        "\n",
        "done with \"/tg/22\""
       ]
      },
      {
       "output_type": "stream",
       "stream": "stdout",
       "text": [
        "\n",
        "done with \"/tg/23\""
       ]
      },
      {
       "output_type": "stream",
       "stream": "stdout",
       "text": [
        "\n",
        "done with \"/tg/24\""
       ]
      },
      {
       "output_type": "stream",
       "stream": "stdout",
       "text": [
        "\n",
        "done with \"/tg/25\""
       ]
      },
      {
       "output_type": "stream",
       "stream": "stdout",
       "text": [
        "\n",
        "done with \"/tg/26\""
       ]
      },
      {
       "output_type": "stream",
       "stream": "stdout",
       "text": [
        "\n",
        "done with \"/tg/27\""
       ]
      },
      {
       "output_type": "stream",
       "stream": "stdout",
       "text": [
        "\n",
        "done with \"/tg/28\""
       ]
      },
      {
       "output_type": "stream",
       "stream": "stdout",
       "text": [
        "\n",
        "done with \"/tg/29\""
       ]
      },
      {
       "output_type": "stream",
       "stream": "stdout",
       "text": [
        "\n",
        "done with \"/tg/30\""
       ]
      },
      {
       "output_type": "stream",
       "stream": "stdout",
       "text": [
        "\n",
        "done with \"/tg/31\""
       ]
      },
      {
       "output_type": "stream",
       "stream": "stdout",
       "text": [
        "\n",
        "done with \"/tg/32\""
       ]
      },
      {
       "output_type": "stream",
       "stream": "stdout",
       "text": [
        "\n",
        "done with \"/tg/33\""
       ]
      },
      {
       "output_type": "stream",
       "stream": "stdout",
       "text": [
        "\n",
        "done with \"/tg/34\""
       ]
      },
      {
       "output_type": "stream",
       "stream": "stdout",
       "text": [
        "\n",
        "done with \"/tg/35\""
       ]
      },
      {
       "output_type": "stream",
       "stream": "stdout",
       "text": [
        "\n",
        "done with \"/tg/36\""
       ]
      },
      {
       "output_type": "stream",
       "stream": "stdout",
       "text": [
        "\n",
        "done with \"/tg/37\""
       ]
      },
      {
       "output_type": "stream",
       "stream": "stdout",
       "text": [
        "\n",
        "done with \"/tg/38\""
       ]
      },
      {
       "output_type": "stream",
       "stream": "stdout",
       "text": [
        "\n",
        "done with \"/tg/39\""
       ]
      },
      {
       "output_type": "stream",
       "stream": "stdout",
       "text": [
        "\n",
        "done with \"/tg/40\""
       ]
      },
      {
       "output_type": "stream",
       "stream": "stdout",
       "text": [
        "\n",
        "done with \"/tg/41\""
       ]
      },
      {
       "output_type": "stream",
       "stream": "stdout",
       "text": [
        "\n",
        "done with \"/tg/42\""
       ]
      },
      {
       "output_type": "stream",
       "stream": "stdout",
       "text": [
        "\n",
        "done with \"/tg/43\""
       ]
      },
      {
       "output_type": "stream",
       "stream": "stdout",
       "text": [
        "\n",
        "done with \"/tg/44\""
       ]
      },
      {
       "output_type": "stream",
       "stream": "stdout",
       "text": [
        "\n",
        "done with \"/tg/45\""
       ]
      },
      {
       "output_type": "stream",
       "stream": "stdout",
       "text": [
        "\n",
        "done with \"/tg/46\""
       ]
      },
      {
       "output_type": "stream",
       "stream": "stdout",
       "text": [
        "\n",
        "done with \"/tg/47\""
       ]
      },
      {
       "output_type": "stream",
       "stream": "stdout",
       "text": [
        "\n",
        "done with \"/tg/48\""
       ]
      },
      {
       "output_type": "stream",
       "stream": "stdout",
       "text": [
        "\n",
        "done with \"/tg/49\""
       ]
      },
      {
       "output_type": "stream",
       "stream": "stdout",
       "text": [
        "\n",
        "done with \"/tg/50\""
       ]
      },
      {
       "output_type": "stream",
       "stream": "stdout",
       "text": [
        "\n"
       ]
      }
     ],
     "prompt_number": 95
    },
    {
     "cell_type": "heading",
     "level": 2,
     "metadata": {},
     "source": [
      "Load stark/nostark data from each T2 in batch"
     ]
    },
    {
     "cell_type": "code",
     "collapsed": false,
     "input": [
      "# open hdf5 file to write to\n",
      "tg_batch = 5\n",
      "file_path = analysis_folder / '{!s}-batch{:02d}.hdf5'.format(tg_name, tg_batch)\n",
      "\n",
      "with h5py.File(str(file_path), 'r') as f:    \n",
      "    wl = f['spectrometer calibration/axis'][:]\n",
      "    t2 = -f['/tg'].attrs['t2_list']\n",
      "    nt2 = f['/tg'].attrs['nt2']\n",
      "    stark = np.zeros((1340, nt2), dtype=float)\n",
      "    nofield = np.zeros((1340, nt2), dtype=float)\n",
      "    field = np.zeros((1340, nt2), dtype=float)\n",
      "    for i in range(nt2):\n",
      "        #print(i, f['/tg/{:02d}/stark'.format(i)])\n",
      "        stark[:, i] = f['/tg/{:02d}/stark'.format(i)][:]\n",
      "        nofield[:, i] = f['/tg/{:02d}/nofield'.format(i)][:]\n",
      "        field[:, i] = f['/tg/{:02d}/field'.format(i)][:]"
     ],
     "language": "python",
     "metadata": {},
     "outputs": [],
     "prompt_number": 96
    },
    {
     "cell_type": "code",
     "collapsed": false,
     "input": [
      "from scipy.io import loadmat\n",
      "phase = loadmat(Path(r'P:\\2D\\Data\\14-12-12\\d1d2-pp-batch00\\ProcessedData\\global_phase-d1d2-2d-batch-00_d1d2-pp-batch-00.mat').open('rb'), squeeze_me=True)['global_phase']\n",
      "#prd = loadmat(Path(r'Z:\\2D\\Data\\14-12-12\\probeLO_delay.mat').open('rb'), squeeze_me=True)['prd1']"
     ],
     "language": "python",
     "metadata": {},
     "outputs": [],
     "prompt_number": 97
    },
    {
     "cell_type": "code",
     "collapsed": false,
     "input": [
      "tg_info['t2'][51]"
     ],
     "language": "python",
     "metadata": {},
     "outputs": [
      {
       "ename": "IndexError",
       "evalue": "index 51 is out of bounds for axis 0 with size 51",
       "output_type": "pyerr",
       "traceback": [
        "\u001b[1;31m---------------------------------------------------------------------------\u001b[0m\n\u001b[1;31mIndexError\u001b[0m                                Traceback (most recent call last)",
        "\u001b[1;32m<ipython-input-98-f37f0fd038a6>\u001b[0m in \u001b[0;36m<module>\u001b[1;34m()\u001b[0m\n\u001b[1;32m----> 1\u001b[1;33m \u001b[0mtg_info\u001b[0m\u001b[1;33m[\u001b[0m\u001b[1;34m't2'\u001b[0m\u001b[1;33m]\u001b[0m\u001b[1;33m[\u001b[0m\u001b[1;36m51\u001b[0m\u001b[1;33m]\u001b[0m\u001b[1;33m\u001b[0m\u001b[0m\n\u001b[0m",
        "\u001b[1;31mIndexError\u001b[0m: index 51 is out of bounds for axis 0 with size 51"
       ]
      }
     ],
     "prompt_number": 98
    },
    {
     "cell_type": "code",
     "collapsed": false,
     "input": [
      "pyplot.plot((1/wl)*1e5, nofield[:, 20])\n",
      "pyplot.grid()\n",
      "pyplot.xlabel('wavenumber 1/cm x 1/100')\n",
      "pyplot.ylabel('AU')\n",
      "pyplot.title('T2 = 3.26 ps')\n",
      "pyplot.xlim(142, 170)\n",
      "#pyplot.savefig('my_tg.png')"
     ],
     "language": "python",
     "metadata": {},
     "outputs": [
      {
       "metadata": {},
       "output_type": "pyout",
       "prompt_number": 99,
       "text": [
        "(142, 170)"
       ]
      }
     ],
     "prompt_number": 99
    },
    {
     "cell_type": "heading",
     "level": 2,
     "metadata": {},
     "source": [
      "Interpolate to linear spacing"
     ]
    },
    {
     "cell_type": "code",
     "collapsed": false,
     "input": [
      "# interpolate to linear spacing\n",
      "time = np.linspace(t2[0], t2[-1], stark.shape[1])\n",
      "interpolator = interp1d(t2, np.real(stark), axis=1, kind='nearest')\n",
      "itp_stark = interpolator(time)\n",
      "\n",
      "# interpolate to linear spacing\n",
      "time = np.linspace(t2[0], t2[-1], nofield.shape[1])\n",
      "interpolator = interp1d(t2, np.real(nofield), axis=1, kind='nearest')\n",
      "itp_nofield = interpolator(time)\n",
      "\n",
      "time = np.linspace(t2[0], t2[-1], field.shape[1])\n",
      "interpolator = interp1d(t2, np.real(field), axis=1, kind='nearest')\n",
      "itp_field= interpolator(time)"
     ],
     "language": "python",
     "metadata": {},
     "outputs": [],
     "prompt_number": 100
    },
    {
     "cell_type": "heading",
     "level": 2,
     "metadata": {},
     "source": [
      "Make Stark TG figure"
     ]
    },
    {
     "cell_type": "code",
     "collapsed": false,
     "input": [
      "#fig, (ax1, ax2) = pyplot.subplots(2, 1, figsize=(12, 10))\n",
      "pyplot.rcParams['font.size'] = 15 \n",
      "#plt.rcParams['font.sans-serif'] = \n",
      "#plt.rcParams['font.variant'] = 'small-caps'\n",
      "pyplot.rcParams['font.weight'] = 'roman'\n",
      "pyplot.rcParams['text.color'] = '#2e2e2e'\n",
      "pyplot.rcParams['lines.linewidth'] = 2\n",
      "pyplot.rcParams['lines.antialiased'] = True\n",
      "pyplot.rcParams['grid.alpha'] = 0.3\n",
      "#pyplot.rcParams['grid.color'] = '#888888'\n",
      "#pyplot.rcParams['grid.linestyle'] = '-'\n",
      "#pyplot.rcParams['grid.linewidth'] = 2.0\n",
      "\n",
      "\n",
      "def make_stark_tg(stark, ax1):\n",
      "    vmin, vmax = np.min(stark), np.max(stark)\n",
      "    #vmin, vmax = -2e-3, 5e-3\n",
      "    cmap=shiftedColorMap(matplotlib.cm.RdBu_r, midpoint=1 - vmax/(vmax + abs(vmin)))\n",
      "    \n",
      "    m = ax1.contourf(np.arange(nt2), wl, stark, 30, origin='upper', aspect='auto', \n",
      "        cmap=cmap, antialiased=True, vmin=vmin, vmax=vmax)\n",
      "\n",
      "    loc = matplotlib.ticker.FixedLocator(-t2[::5])\n",
      "    # tick strings\n",
      "    tick_strings = []\n",
      "    for i in np.arange(0, 50, 5):\n",
      "        thing = t2[i]\n",
      "        thing /= 1000\n",
      "        if thing < 1e3: \n",
      "            unit = 'fs'        \n",
      "        else:\n",
      "            thing /= 1000\n",
      "            unit = 'ps'\n",
      "        tick_strings.append('{:.1f}'.format(thing, unit))\n",
      "\n",
      "    fmt = matplotlib.ticker.FixedFormatter(tick_strings)\n",
      "    ax1.xaxis.set_major_locator(loc)\n",
      "    ax1.xaxis.set_major_formatter(fmt)\n",
      "\n",
      "    #ax1.contour(time, wl, stark, 30, antialiased=True, vmin=vmin, vmax=vmax, cmap=cmap, interpolation='nearest')\n",
      "    #ax1.imshow(X, Y, limage, origin='upper', \n",
      "    #    aspect='auto', cmap=shiftedColorMap(matplotlib.cm.RdBu_r, midpoint=1-np.max(limage)*0.95/(np.ptp(limage))))\n",
      "    #m = ax2.imshow(X, Y, image, origin='upper', \n",
      "    #    aspect='auto',cmap=shiftedColorMap(matplotlib.cm.RdBu_r, midpoint=1-np.max(image)*0.95/(np.ptp(image))))\n",
      "    ax1.set_ylim(640, 695)\n",
      "    #ax2.set_ylim(600, 700)\n",
      "    #ax1.set_xlim(0, 30000)\n",
      "\n",
      "    pyplot.subplots_adjust(right=0.8)\n",
      "    #ax1.set_title(r'Stark TG on $D_1D_2$, $0.8$ MV/cm')\n",
      "    #ax2.set_title(r'Stark TG on $D_1D_2$, hyperbolic spacing')\n",
      "    ax1.set_ylabel('wavelength / nm')\n",
      "    ax1.set_xlabel('$T_2$ delay / ps')\n",
      "    #ax2.set_ylabel('wavelength / nm')\n",
      "    #ax2.set_xlabel('$T_2$ index')\n",
      "    ax1.grid()\n",
      "\n",
      "    ticks = sorted(list(range(650, 690, 10)) + [677.2, 689])\n",
      "    wl_loc = matplotlib.ticker.FixedLocator(ticks)\n",
      "    ax1.yaxis.set_major_locator(wl_loc)\n",
      "    ax1.yaxis.set_major_formatter(matplotlib.ticker.ScalarFormatter())\n",
      "    for pos, text in zip(ax1.get_yticks(), ax1.get_yticklabels()):\n",
      "        if pos == 677.2:\n",
      "            text.set_color('r')\n",
      "        elif pos == 689:\n",
      "            text.set_color('b')    \n",
      "    ax1.set_title('Stark TG')\n",
      "    #pyplot.savefig('d1d2-stark-tg-batch-{:02d}.png'.format(tg_batch), dpi=300)\n",
      "    return m\n",
      "\n",
      "def make_regular_tg(stark, ax1):\n",
      "    #fig, (ax1, ax2) = pyplot.subplots(2, 1, figsize=(12, 10))\n",
      "    vmin, vmax = np.min(nofield), np.max(nofield)\n",
      "    cmap=shiftedColorMap(matplotlib.cm.RdBu_r, midpoint=1 - vmax/(vmax + abs(vmin)))\n",
      "    m = ax1.contourf(np.arange(nt2), wl, nofield, 30, origin='upper', aspect='auto', vmin=vmin, vmax=vmax,\n",
      "        antialiased=True, interpolation='nearest', cmap=cmap)\n",
      "    ax1.contour(np.arange(nt2), wl, nofield, 30, antialiased=True, \n",
      "        interpolation='nearest',vmin=vmin, vmax=vmax, cmap=cmap)\n",
      "    ax1.set_ylim(630, 695)\n",
      "    loc = matplotlib.ticker.FixedLocator(np.arange(0, 50, 5))\n",
      "    # tick strings\n",
      "    tick_strings = []\n",
      "    for i in np.arange(0, 50, 5):\n",
      "        thing = t2[i]\n",
      "        if thing < 1e3: \n",
      "            unit = 'fs'        \n",
      "        else:\n",
      "            thing /= 1000\n",
      "            unit = 'ps'\n",
      "        tick_strings.append('{:.1f}\\n{:s}'.format(thing, unit))\n",
      "    \n",
      "    #fmt = matplotlib.ticker.FixedFormatter(tick_strings)\n",
      "    ax1.xaxis.set_major_locator(loc)\n",
      "    ax1.xaxis.set_major_formatter(matplotlib.ticker.NullFormatter())\n",
      "\n",
      "    \n",
      "    ax1.set_title(r'TG on $D_1D_2$')\n",
      "    #ax2.set_title(r'Stark TG on $D_1D_2$, hyperbolic spacing')\n",
      "    ax1.set_ylabel('wavelength / nm')\n",
      "    #ax1.set_xlabel('$T_2$ time / fs')\n",
      "    #ax2.set_ylabel('wavelength / nm')\n",
      "    #ax2.set_xlabel('$T_2$ index')\n",
      "    ax1.grid(color='white', linewidth=1.2)\n",
      "\n",
      "    ticks = sorted(list([650, 660, 677.2, 689.0]))\n",
      "    wl_loc = matplotlib.ticker.FixedLocator(ticks)\n",
      "    ax1.yaxis.set_major_locator(wl_loc)\n",
      "    ax1.yaxis.set_major_formatter(matplotlib.ticker.ScalarFormatter())\n",
      "    for pos, text in zip(ax1.get_yticks(), ax1.get_yticklabels()):\n",
      "        if pos == 677.2:\n",
      "            text.set_color('r')\n",
      "        elif pos == 689:\n",
      "            text.set_color('b') \n",
      "    return m\n",
      "\n",
      "def fit_kinetics(ax):\n",
      "    blue_idx = np.abs(wl - 689).argmin()\n",
      "    red_idx = np.abs(wl - 677.2).argmin()\n",
      "    print(blue_idx, red_idx)\n",
      "    avg_near_blue = slice(blue_idx-2, blue_idx+2)\n",
      "    avg_near_red = slice(red_idx-2, red_idx+2)\n",
      "    \n",
      "    def heaviside(x):\n",
      "        return 0.5 * (np.sign(x) + 1)\n",
      "\n",
      "    def triple_exp(t, a, r1, b, r2):\n",
      "        return a*(1-np.exp(r1*t))*heaviside(t) + b*(1-np.exp(r2*t))*heaviside(t)\n",
      "\n",
      "    # + b*np.exp(r2*t)\n",
      "    #def jac_exp(t,  a, r1, b, r2, c, r3, d):\n",
      "    #    return np.sum([np.exp(-r1*t), -a*t*np.exp(-r1*t), np.exp(-r2*t), -b*t*np.exp(-r2*t), np.exp(-r3*t), -c*t*np.exp(-r3*t), 1])\n",
      "\n",
      "    from scipy.optimize import check_grad, curve_fit\n",
      "\n",
      "    #stark = np.abs(itp_field-itp_nofield)\n",
      "\n",
      "    popt_blue, pcov, *add =curve_fit(triple_exp, t2, np.real(stark[avg_near_blue, :]).T.mean(axis=-1), [-20, -1/500, 20, -1/10000], full_output=True, maxfev=100000, xtol=1e-12, ftol=1e-12)\n",
      "    popt_red, pcov, *add =curve_fit(triple_exp, t2, np.real(stark[avg_near_red, :]).T.mean(axis=-1), [-4, -1/3000, 4, -1/60000], full_output=True, maxfev=100000, xtol=1e-12, ftol=1e-12)\n",
      "    #fig, (ax1, ax2) = pyplot.subplots(2, 1, figsize=(12, 10))\n",
      "\n",
      "    ax.plot(t2/1000, stark[avg_near_red, :].T.mean(axis=-1), color='r', label='677.2 nm', marker='.')\n",
      "    ax.plot(t2/1000, triple_exp(t2,*popt_red), 'k')\n",
      "    ax.plot(t2/1000, stark[avg_near_blue, :].T.mean(axis=-1), color='b', label='689.0 nm', marker='.')\n",
      "    ax.plot(t2/1000, triple_exp(t2,*popt_blue), 'k')\n",
      "    \n",
      "\n",
      "    #ax.legend()\n",
      "    #ax.grid(color='k', linewidth=3)\n",
      "    \n",
      "    ax.axhline(0, min(t2), max(t2), color='k', linewidth=0.8)\n",
      "    \n",
      "    return popt_blue, popt_red\n",
      "    \n",
      "fig = pyplot.figure(figsize=(12, 9))\n",
      "gs = pyplot.GridSpec(2, 2, height_ratios=[1, 3], width_ratios=[40, 1], wspace=0.05)\n",
      "\n",
      "stark_cf = make_stark_tg(stark, pyplot.subplot(gs[1,0]))\n",
      "tg_cf = make_regular_tg(nofield, pyplot.subplot(gs[0,0]))\n",
      "\n",
      "scb = pyplot.colorbar(stark_cf, cax=pyplot.subplot(gs[1,1]))\n",
      "scb.locator = matplotlib.ticker.FixedLocator(1e-3*np.linspace(-3, 3, 9, endpoint=True))\n",
      "scb.formatter = matplotlib.ticker.ScalarFormatter(useMathText=True)\n",
      "scb.formatter.set_scientific(True)\n",
      "scb.formatter.set_powerlimits((0, 0))\n",
      "scb.update_ticks()\n",
      "\n",
      "tgcb = pyplot.colorbar(tg_cf, cax=pyplot.subplot(gs[0,1]))\n",
      "tgcb.locator = matplotlib.ticker.MaxNLocator(5)\n",
      "tgcb.formatter = matplotlib.ticker.ScalarFormatter(useMathText=True)\n",
      "tgcb.formatter.set_powerlimits((0,0))\n",
      "tgcb.update_ticks()\n",
      "\n",
      "inset_ax = fig.add_axes([0.45, 0.13, 0.3, 0.25])\n",
      "#inset_ax.xaxis.set_major_formatter(matplotlib.ticker.NullFormatter())\n",
      "inset_ax.yaxis.set_major_formatter(matplotlib.ticker.NullFormatter())\n",
      "inset_ax.set_xlim(-1, 30)\n",
      "popt_blue, popt_red = fit_kinetics(inset_ax)\n",
      "print(popt_blue[0], -1/popt_blue[1], popt_blue[2], -1/popt_blue[3])\n",
      "print(popt_red[0], -1/popt_red[1], popt_red[2], -1/popt_red[3])\n",
      "\n",
      "pyplot.savefig('composite_stark_tg.png', dpi=300)"
     ],
     "language": "python",
     "metadata": {},
     "outputs": [
      {
       "output_type": "stream",
       "stream": "stdout",
       "text": [
        "262 385\n",
        "-0.00213474597473 3.22660535316 -27.8398193762 -522345472.526\n",
        "0.00139309792091 305.576113024 -0.00390194009958 36508.9244681\n"
       ]
      }
     ],
     "prompt_number": 101
    },
    {
     "cell_type": "code",
     "collapsed": false,
     "input": [
      "t2"
     ],
     "language": "python",
     "metadata": {},
     "outputs": [
      {
       "metadata": {},
       "output_type": "pyout",
       "prompt_number": 90,
       "text": [
        "array([ -2.00140490e+02,  -1.46443270e+02,  -9.47310600e+01,\n",
        "        -4.43422000e+01,   5.69038000e+00,   5.60283400e+01,\n",
        "         1.06722600e+02,   1.58434800e+02,   2.12132020e+02,\n",
        "         2.68170560e+02,   3.27212040e+02,   3.89612790e+02,\n",
        "         4.56339870e+02,   5.28360290e+02,   6.05775940e+02,\n",
        "         6.90164550e+02,   7.82187870e+02,   8.82609310e+02,\n",
        "         9.92701290e+02,   1.11409265e+03,   1.24719055e+03,\n",
        "         1.39428528e+03,   1.55705664e+03,   1.73652234e+03,\n",
        "         1.93532935e+03,   2.15515723e+03,   2.39900879e+03,\n",
        "         2.66886914e+03,   2.96840283e+03,   3.30061304e+03,\n",
        "         3.66921533e+03,   4.07782300e+03,   4.53178076e+03,\n",
        "         5.03516064e+03,   5.59386621e+03,   6.21461621e+03,\n",
        "         6.90377295e+03,   7.66861475e+03,   8.51820215e+03,\n",
        "         9.46123730e+03,   1.05082568e+04,   1.16710684e+04,\n",
        "         1.29626523e+04,   1.43962920e+04,   1.59890381e+04,\n",
        "         1.77572793e+04,   1.97209688e+04,   2.19014844e+04,\n",
        "         2.43235078e+04,   2.70133574e+04,   3.00000938e+04])"
       ]
      }
     ],
     "prompt_number": 90
    },
    {
     "cell_type": "code",
     "collapsed": false,
     "input": [],
     "language": "python",
     "metadata": {},
     "outputs": []
    },
    {
     "cell_type": "code",
     "collapsed": false,
     "input": [
      "np.sum(popt_blue[0::2])"
     ],
     "language": "python",
     "metadata": {},
     "outputs": [
      {
       "metadata": {},
       "output_type": "pyout",
       "prompt_number": 25,
       "text": [
        "-0.00037670480052705031"
       ]
      }
     ],
     "prompt_number": 25
    },
    {
     "cell_type": "heading",
     "level": 2,
     "metadata": {},
     "source": [
      "Make regular TG figure"
     ]
    },
    {
     "cell_type": "code",
     "collapsed": false,
     "input": [
      "#fig, (ax1, ax2) = pyplot.subplots(2, 1, figsize=(12, 10))\n",
      "vmin, vmax = np.min(nofield), np.max(nofield)\n",
      "cmap=shiftedColorMap(matplotlib.cm.RdBu_r, midpoint=1 - vmax/(vmax + abs(vmin)))\n",
      "fig = pyplot.figure(figsize=(12, 7)) \n",
      "ax1 = fig.gca()\n",
      "m = ax1.contourf(np.arange(nt2), wl, nofield, 30, origin='upper', aspect='auto', vmin=vmin, vmax=vmax,\n",
      "    antialiased=True, interpolation='nearest', cmap=cmap)\n",
      "ax1.contour(np.arange(nt2), wl, nofield, 30, antialiased=True, \n",
      "    interpolation='nearest',vmin=vmin, vmax=vmax, cmap=cmap)\n",
      "#ax1.imshow(X, Y, limage, origin='upper', \n",
      "#    aspect='auto', cmap=shiftedColorMap(matplotlib.cm.RdBu_r, midpoint=1-np.max(limage)*0.95/(np.ptp(limage))))\n",
      "#m = ax2.imshow(X, Y, image, origin='upper', \n",
      "#    aspect='auto',cmap=shiftedColorMap(matplotlib.cm.RdBu_r, midpoint=1-np.max(image)*0.95/(np.ptp(image))))\n",
      "ax1.set_ylim(640, 695)\n",
      "#ax2.set_ylim(600, 700)\n",
      "#ax1.set_xlim(0, 30000)\n",
      "loc = matplotlib.ticker.FixedLocator(np.arange(0, 150, 15))\n",
      "# tick strings\n",
      "tick_strings = []\n",
      "for i in np.arange(0, 150, 15):\n",
      "    thing = t2[i]\n",
      "    if thing < 1e3: \n",
      "        unit = 'fs'        \n",
      "    else:\n",
      "        thing /= 1000\n",
      "        unit = 'ps'\n",
      "    tick_strings.append('{:.1f}\\n{:s}'.format(thing, unit))\n",
      "    \n",
      "fmt = matplotlib.ticker.FixedFormatter(tick_strings)\n",
      "ax1.xaxis.set_major_locator(loc)\n",
      "ax1.xaxis.set_major_formatter(fmt)\n",
      "\n",
      "cbar_ax = fig.add_axes([0.85, 0.15, 0.05, 0.7])\n",
      "fig.colorbar(m, cax=cbar_ax)\n",
      "\n",
      "pyplot.subplots_adjust(right=0.8)\n",
      "ax1.set_title(r'TG on $D_1D_2$')\n",
      "#ax2.set_title(r'Stark TG on $D_1D_2$, hyperbolic spacing')\n",
      "ax1.set_ylabel('wavelength / nm')\n",
      "ax1.set_xlabel('$T_2$ time / fs')\n",
      "#ax2.set_ylabel('wavelength / nm')\n",
      "#ax2.set_xlabel('$T_2$ index')\n",
      "ax1.grid(color='white', linewidth=1.2)\n",
      "\n",
      "ticks = sorted(list(range(650, 690, 10)) + [677.2, 689.0])\n",
      "wl_loc = matplotlib.ticker.FixedLocator(ticks)\n",
      "ax1.yaxis.set_major_locator(wl_loc)\n",
      "ax1.yaxis.set_major_formatter(matplotlib.ticker.ScalarFormatter())\n",
      "for pos, text in zip(ax1.get_yticks(), ax1.get_yticklabels()):\n",
      "    if pos == 677.2:\n",
      "        text.set_color('r')\n",
      "    elif pos == 689:\n",
      "        text.set_color('b')    \n",
      "pyplot.savefig('d1d2-nofield-tg-batch-{:02d}.png'.format(tg_batch), dpi=150)"
     ],
     "language": "python",
     "metadata": {},
     "outputs": [],
     "prompt_number": 301
    },
    {
     "cell_type": "code",
     "collapsed": false,
     "input": [
      "#fig, (ax1, ax2) = pyplot.subplots(2, 1, figsize=(12, 10))\n",
      "vmin, vmax = np.min(itp_nofield), np.max(itp_nofield)\n",
      "cmap=shiftedColorMap(matplotlib.cm.RdBu_r, midpoint=1 - vmax/(vmax + abs(vmin)))\n",
      "fig = pyplot.figure(figsize=(12, 7)) \n",
      "ax1 = fig.gca()\n",
      "m = ax1.contourf(np.arange(nt2), wl, itp_nofield, 40, origin='upper', aspect='auto', vmin=vmin, vmax=vmax,\n",
      "    antialiased=True, interpolation='nearest', cmap=cmap)\n",
      "ax1.contour(np.arange(nt2), wl,  itp_nofield, 40, antialiased=True, \n",
      "    interpolation='nearest',vmin=vmin, vmax=vmax, cmap=cmap)\n",
      "#ax1.imshow(X, Y, limage, origin='upper', \n",
      "#    aspect='auto', cmap=shiftedColorMap(matplotlib.cm.RdBu_r, midpoint=1-np.max(limage)*0.95/(np.ptp(limage))))\n",
      "#m = ax2.imshow(X, Y, image, origin='upper', \n",
      "#    aspect='auto',cmap=shiftedColorMap(matplotlib.cm.RdBu_r, midpoint=1-np.max(image)*0.95/(np.ptp(image))))\n",
      "ax1.set_ylim(640, 695)\n",
      "#ax2.set_ylim(600, 700)\n",
      "#ax1.set_xlim(0, 30000)\n",
      "\n",
      "cbar_ax = fig.add_axes([0.85, 0.15, 0.05, 0.7])\n",
      "fig.colorbar(m, cax=cbar_ax)\n",
      "pyplot.subplots_adjust(right=0.8)\n",
      "ax1.set_title(r'Absolute value TG on $D_1D_2$')\n",
      "#ax2.set_title(r'Stark TG on $D_1D_2$, hyperbolic spacing')\n",
      "ax1.set_ylabel('wavelength / nm')\n",
      "ax1.set_xlabel('$T_2$ time / fs')\n",
      "#ax2.set_ylabel('wavelength / nm')\n",
      "#ax2.set_xlabel('$T_2$ index')\n",
      "ax1.grid(color='white', linewidth=1.2)\n",
      "\n",
      "ticks = sorted(list(range(640, 700, 10)) + [645, 677.2, 688.0])\n",
      "wl_loc = matplotlib.ticker.FixedLocator(ticks)\n",
      "ax1.yaxis.set_major_locator(wl_loc)\n",
      "ax1.yaxis.set_major_formatter(matplotlib.ticker.ScalarFormatter())\n",
      "for pos, text in zip(ax1.get_yticks(), ax1.get_yticklabels()):\n",
      "    if pos == 677.2:\n",
      "        text.set_color('r')\n",
      "    elif pos == 688:\n",
      "        text.set_color('b')    \n",
      "pyplot.savefig('d1d2-nofield-tg-batch-{:02d}.png'.format(tg_batch), dpi=150)"
     ],
     "language": "python",
     "metadata": {},
     "outputs": [],
     "prompt_number": 299
    },
    {
     "cell_type": "heading",
     "level": 2,
     "metadata": {},
     "source": [
      "Kinetics analysis"
     ]
    },
    {
     "cell_type": "code",
     "collapsed": false,
     "input": [
      "blue_idx = np.abs(wl - 689).argmin()\n",
      "red_idx = np.abs(wl - 677.2).argmin()\n",
      "print(blue_idx, red_idx)\n",
      "avg_near_blue = slice(blue_idx-2, blue_idx+2)\n",
      "avg_near_red = slice(red_idx-2, red_idx+2)"
     ],
     "language": "python",
     "metadata": {},
     "outputs": [
      {
       "output_type": "stream",
       "stream": "stdout",
       "text": [
        "261 384\n"
       ]
      }
     ],
     "prompt_number": 257
    },
    {
     "cell_type": "code",
     "collapsed": false,
     "input": [
      "import sympy as sp\n",
      "a, r1, b, r2, c, r3, d, t = sp.symbols('a,r1,b,r2,c,r3,d, t', real=True)\n",
      "fn = sp.Matrix([a*sp.exp(-r1*t) + b*sp.exp(-r2*t) + c*sp.exp(-r3*t) + d])\n",
      "fn.jacobian([a, r1, b, r2, c, r3, d])"
     ],
     "language": "python",
     "metadata": {},
     "outputs": [
      {
       "metadata": {},
       "output_type": "pyout",
       "prompt_number": 49,
       "text": [
        "Matrix([[exp(-r1*t), -a*t*exp(-r1*t), exp(-r2*t), -b*t*exp(-r2*t), exp(-r3*t), -c*t*exp(-r3*t), 1]])"
       ]
      }
     ],
     "prompt_number": 49
    },
    {
     "cell_type": "code",
     "collapsed": false,
     "input": [
      "def heaviside(x):\n",
      "    return 0.5 * (np.sign(x) + 1)\n",
      "\n",
      "def triple_exp(t, a, r1, b, r2):\n",
      "    return a*(1-np.exp(r1*t))*heaviside(t) + b*(1-np.exp(r2*t))*heaviside(t)\n",
      "\n",
      "# + b*np.exp(r2*t)\n",
      "#def jac_exp(t,  a, r1, b, r2, c, r3, d):\n",
      "#    return np.sum([np.exp(-r1*t), -a*t*np.exp(-r1*t), np.exp(-r2*t), -b*t*np.exp(-r2*t), np.exp(-r3*t), -c*t*np.exp(-r3*t), 1])\n",
      "\n",
      "from scipy.optimize import check_grad, curve_fit\n",
      "\n",
      "#stark = np.abs(itp_field-itp_nofield)\n",
      "\n",
      "popt_blue, pcov, *add =curve_fit(triple_exp, t2, np.real(stark[avg_near_blue, :]).T.mean(axis=-1), [-20, -1/500, 20, -1/10000], full_output=True, maxfev=100000, xtol=1e-12, ftol=1e-12)\n",
      "popt_red, pcov, *add =curve_fit(triple_exp, t2, np.real(stark[avg_near_red, :]).T.mean(axis=-1), [-4, -1/3000, 4, -1/10000], full_output=True, maxfev=100000, xtol=1e-12, ftol=1e-12)\n",
      "\n",
      "#check_grad(triple_exp, jac_exp, )\n",
      "add[1]"
     ],
     "language": "python",
     "metadata": {},
     "outputs": [
      {
       "metadata": {},
       "output_type": "pyout",
       "prompt_number": 335,
       "text": [
        "'Both actual and predicted relative reductions in the sum of squares\\n  are at most 0.000000'"
       ]
      }
     ],
     "prompt_number": 335
    },
    {
     "cell_type": "code",
     "collapsed": false,
     "input": [
      "print(popt_blue[0], -1/popt_blue[1], popt_blue[2], -1/popt_blue[3])\n",
      "print(popt_red[0], -1/popt_red[1], popt_red[2], -1/popt_red[3])"
     ],
     "language": "python",
     "metadata": {},
     "outputs": [
      {
       "output_type": "stream",
       "stream": "stdout",
       "text": [
        "-0.00322307443244 247.233696982 0.0017027187903 2505.05390788\n",
        "0.00183413659255 1696.35331512 -0.00268620300566 21284.4864992\n"
       ]
      }
     ],
     "prompt_number": 338
    },
    {
     "cell_type": "code",
     "collapsed": false,
     "input": [
      "#fig, (ax1, ax2) = pyplot.subplots(2, 1, figsize=(12, 10))\n",
      "pyplot.rcParams['font.size'] = 16 \n",
      "#plt.rcParams['font.sans-serif'] = \n",
      "#plt.rcParams['font.variant'] = 'small-caps'\n",
      "pyplot.rcParams['font.weight'] = 'roman'\n",
      "pyplot.rcParams['text.color'] = '#2e2e2e'\n",
      "pyplot.rcParams['lines.linewidth'] = 2\n",
      "pyplot.rcParams['lines.antialiased'] = True\n",
      "pyplot.rcParams['figure.figsize'] = (16, 8)\n",
      "pyplot.rcParams['figure.facecolor'] = '#ffffff'\n",
      "\n",
      "#saved_slices = {tg_info['batch_name']: (-t2, image[(250, 380), :])}\n",
      "\n",
      "pyplot.figure(figsize=(12, 8))\n",
      "pyplot.plot(t2, stark[avg_near_red, :].T.mean(axis=-1), color='r', label='677.2 nm', marker='.')\n",
      "pyplot.plot(t2, triple_exp(t2,*popt_red), 'k')\n",
      "#pyplot.plot(t2, triple_exp(t2, -4, -1/3000, 4, -1/10000, 0), 'r')\n",
      "#pyplot.plot(t2, triple_exp(t2, -3, -1/3000, 0, -1/10000, 2.8), 'c')\n",
      "pyplot.plot(t2, stark[avg_near_blue, :].T.mean(axis=-1), color='b', label='689.0 nm', marker='.')\n",
      "#pyplot.plot(t2, triple_exp(t2, 4.5, -1/1000, -4.5, -1/10000, -2), 'r')\n",
      "pyplot.plot(t2, triple_exp(t2,*popt_blue), 'k')\n",
      "\n",
      "ax = pyplot.gca()\n",
      "fmt = matplotlib.ticker.ScalarFormatter(useMathText=True)\n",
      "fmt.set_powerlimits((0,0))\n",
      "fmt.set_scientific(True)\n",
      "ax.yaxis.set_major_formatter(fmt)\n",
      "#pyplot.plot(t2, triple_exp(t2, 4.5, -1/3000, 0, -1/30000, -5), 'c')\n",
      "pyplot.xlabel('$T_2$ time / fs')\n",
      "pyplot.ylabel('Amplitude / AU')\n",
      "pyplot.xlim(-100, 30000)\n",
      "#pyplot.semilogy()\n",
      "#pyplot.ylim(-10, 10)\n",
      "#pyplot.plot(-t2, saved_slices['d1d2-tg-batch01'][1].T, color='r')\n",
      "pyplot.legend()\n",
      "pyplot.grid()\n",
      "pyplot.savefig('d1d2-kinetics-trace-batch{:02d}.png'.format(tg_batch), dpi=150)"
     ],
     "language": "python",
     "metadata": {},
     "outputs": [],
     "prompt_number": 339
    },
    {
     "cell_type": "code",
     "collapsed": false,
     "input": [
      "fig, (ax1, ax2) = pyplot.subplots(2, 1, figsize=(6, 8))\n",
      "ax1.imshow(limage, extent=[time[0], time[-1], wl[-1], wl[0]], origin='upper', \n",
      "    aspect='auto', cmap=shiftedColorMap(matplotlib.cm.RdBu_r, midpoint=1-np.max(limage)*0.85/(np.ptp(limage))))\n",
      "m = ax2.imshow(image, extent=[0, 149, wl[-1], wl[0]], origin='upper', \n",
      "    aspect='auto', cmap=shiftedColorMap(matplotlib.cm.RdBu_r, midpoint=1-np.max(limage)*0.85/(np.ptp(limage))))\n",
      "#ax1.set_ylim(600, 700)\n",
      "ax1.set_xlim(-200, 5000)\n",
      "#ax2.set_ylim(600, 700)\n",
      "#ax2.set_xlim(0, 5000)\n",
      "cbar_ax = fig.add_axes([0.85, 0.15, 0.05, 0.7])\n",
      "fig.subplots_adjust(hspace=0.3, right=0.8)\n",
      "fig.colorbar(m, cax=cbar_ax)\n",
      "ax1.set_title(r'Stark TG on $D_1D_2$, linearly interpolated')\n",
      "ax2.set_title(r'Stark TG on $D_1D_2$, hyperbolic spacing')\n",
      "ax1.set_ylabel('wavelength / nm')\n",
      "ax1.set_xlabel('$T_2$ time / fs')\n",
      "ax2.set_ylabel('wavelength / nm')\n",
      "ax2.set_xlabel('$T_2$ index')\n",
      "pyplot.savefig('d1d2-stark-tg-batch-{:02d}-zoom.png'.format(tg_batch), dpi=150)"
     ],
     "language": "python",
     "metadata": {},
     "outputs": [
      {
       "ename": "NameError",
       "evalue": "name 'limage' is not defined",
       "output_type": "pyerr",
       "traceback": [
        "\u001b[1;31m---------------------------------------------------------------------------\u001b[0m\n\u001b[1;31mNameError\u001b[0m                                 Traceback (most recent call last)",
        "\u001b[1;32m<ipython-input-151-e98f2133c10c>\u001b[0m in \u001b[0;36m<module>\u001b[1;34m()\u001b[0m\n\u001b[0;32m      1\u001b[0m \u001b[0mfig\u001b[0m\u001b[1;33m,\u001b[0m \u001b[1;33m(\u001b[0m\u001b[0max1\u001b[0m\u001b[1;33m,\u001b[0m \u001b[0max2\u001b[0m\u001b[1;33m)\u001b[0m \u001b[1;33m=\u001b[0m \u001b[0mpyplot\u001b[0m\u001b[1;33m.\u001b[0m\u001b[0msubplots\u001b[0m\u001b[1;33m(\u001b[0m\u001b[1;36m2\u001b[0m\u001b[1;33m,\u001b[0m \u001b[1;36m1\u001b[0m\u001b[1;33m,\u001b[0m \u001b[0mfigsize\u001b[0m\u001b[1;33m=\u001b[0m\u001b[1;33m(\u001b[0m\u001b[1;36m6\u001b[0m\u001b[1;33m,\u001b[0m \u001b[1;36m8\u001b[0m\u001b[1;33m)\u001b[0m\u001b[1;33m)\u001b[0m\u001b[1;33m\u001b[0m\u001b[0m\n\u001b[1;32m----> 2\u001b[1;33m ax1.imshow(limage, extent=[time[0], time[-1], wl[-1], wl[0]], origin='upper', \n\u001b[0m\u001b[0;32m      3\u001b[0m     aspect='auto', cmap=shiftedColorMap(matplotlib.cm.RdBu_r, midpoint=1-np.max(limage)*0.85/(np.ptp(limage))))\n\u001b[0;32m      4\u001b[0m m = ax2.imshow(image, extent=[0, 149, wl[-1], wl[0]], origin='upper', \n\u001b[0;32m      5\u001b[0m     aspect='auto', cmap=shiftedColorMap(matplotlib.cm.RdBu_r, midpoint=1-np.max(limage)*0.85/(np.ptp(limage))))\n",
        "\u001b[1;31mNameError\u001b[0m: name 'limage' is not defined"
       ]
      }
     ],
     "prompt_number": 151
    },
    {
     "cell_type": "heading",
     "level": 2,
     "metadata": {},
     "source": [
      "Quick charge calculation"
     ]
    },
    {
     "cell_type": "code",
     "collapsed": false,
     "input": [
      "import pint\n",
      "q = pint.UnitRegistry()\n",
      "q.define('Debye =  1/299792458 * 1e-21 * C * m = D')\n",
      "energy = ((14500-14400)*q.wavenumber*q.h*q.speed_of_light).to('eV')\n",
      "debye = 1/q.speed_of_light.to('m/s').magnitude * 1e-21*q.C * q.m\n",
      "(energy/(4*0.8*q.MV/q.cm)).to('Debye')"
     ],
     "language": "python",
     "metadata": {},
     "outputs": [
      {
       "html": [
        "1.861004481471231 Debye"
       ],
       "latex": [
        "$1.861004481471231 Debye$"
       ],
       "metadata": {},
       "output_type": "pyout",
       "prompt_number": 168,
       "text": [
        "<Quantity(1.861004481471231, 'Debye')>"
       ]
      }
     ],
     "prompt_number": 168
    },
    {
     "cell_type": "code",
     "collapsed": false,
     "input": [
      "(1/(680*q.nm)).to('1/cm')"
     ],
     "language": "python",
     "metadata": {},
     "outputs": [
      {
       "html": [
        "14705.882352941173 1/centimeter"
       ],
       "latex": [
        "$14705.882352941173 \\frac{1}{centimeter}$"
       ],
       "metadata": {},
       "output_type": "pyout",
       "prompt_number": 177,
       "text": [
        "<Quantity(14705.882352941173, '1 / centimeter')>"
       ]
      }
     ],
     "prompt_number": 177
    },
    {
     "cell_type": "code",
     "collapsed": false,
     "input": [],
     "language": "python",
     "metadata": {},
     "outputs": []
    }
   ],
   "metadata": {}
  }
 ]
}