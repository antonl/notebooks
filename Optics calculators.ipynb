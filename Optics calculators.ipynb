{
 "metadata": {
  "name": "Optics calculators"
 },
 "nbformat": 3,
 "nbformat_minor": 0,
 "worksheets": [
  {
   "cells": [
    {
     "cell_type": "code",
     "collapsed": false,
     "input": [
      "import quantities as q\n",
      "from __future__ import division"
     ],
     "language": "python",
     "metadata": {},
     "outputs": [],
     "prompt_number": 1
    },
    {
     "cell_type": "markdown",
     "metadata": {},
     "source": [
      "## Gaussian beams\n",
      "\n",
      "$$\\begin{equation}\n",
      "\\nabla^2 \\mathbf{E} - \\frac{1}{c^2} \\frac{\\partial^2\\mathbf{E}}{\\partial t^2}\n",
      "\\end{equation}$$\n",
      "\n",
      "This is the wave equation that comes from E&M. The equation is separable if we assume a monochromatic beam, and has the solution $\\mathbf{E}(\\mathbf{x}) = \\mathbf{E_0} \\exp\\{i\\ \\mathbf{k\\cdot x}\\}$.\n",
      "\n",
      "$\\mathbf{E_0}$ is the electric field vector which may be complex. If it is real, the field is _linearly polarized_ along $\\mathbf{E_0}$. Otherwise, it isn't. The complex notation is only for convenience. Real physical quantities give real values, so the instantaneous _E_-field strength is given by\n",
      "$E^2 = \\left[\\Re\\{E_x e^{i\\omega t}\\}\\right]^2 + \\left[\\Re\\{E_y e^{i\\omega t + \\phi}\\}\\right]^2$"
     ]
    },
    {
     "cell_type": "markdown",
     "metadata": {},
     "source": [
      "## Collimating a beam\n",
      "\n",
      "A Gaussian beam $N$ wavelengths across stays collimated for $N$ beam diameters."
     ]
    },
    {
     "cell_type": "code",
     "collapsed": false,
     "input": [
      "beam_w = 2.5 * q.mm\n",
      "wavelen = 800 * q.nm\n",
      "\n",
      "N = beam_w/wavelen\n",
      "print 'Beam will stay collimated for', (N*beam_w).rescale('m')"
     ],
     "language": "python",
     "metadata": {},
     "outputs": [
      {
       "output_type": "stream",
       "stream": "stdout",
       "text": [
        "Beam will stay collimated for 7.8125 m\n"
       ]
      }
     ],
     "prompt_number": 45
    },
    {
     "cell_type": "markdown",
     "metadata": {},
     "source": [
      "## Calculating a simple telescope \n",
      "\n",
      "A _diopter_ is a unit of optical power defined as $1/f$ where $f$ is the focal length in meters. \n",
      "\n",
      "Gullstrand's equation can be used to calculate the effective focal length of either two thin lenses or one thick lens, measured from the second principal plane. This formula is \n",
      "\n",
      "$$\\begin{eqnarray} \n",
      "f &=& \\frac{f_1 f_2}{f_1 + f_2 - D/n_2} \\\\\n",
      "P &=& P_1 + P_2 - P_1 P_2 \\frac{D}{n_2} \n",
      "\\end{eqnarray}$$\n",
      "\n",
      "with $d$ the separation between lenses, $n_2$ being the medium refractive index, and ($f_n$, $P_n$) the focal length and optical power\n",
      "\n"
     ]
    },
    {
     "cell_type": "code",
     "collapsed": false,
     "input": [
      "f_1 = 75 * q.mm\n",
      "f_2 = 100 * q.mm\n",
      "D = 176 * q.mm\n",
      "\n",
      "res = f_1 * f_2 / (f_1 + f_2 - D)\n",
      "print \"Effective focal length\", res.rescale('cm')"
     ],
     "language": "python",
     "metadata": {},
     "outputs": [
      {
       "output_type": "stream",
       "stream": "stdout",
       "text": [
        "Effective focal length -750.0 cm\n"
       ]
      }
     ],
     "prompt_number": 77
    },
    {
     "cell_type": "code",
     "collapsed": false,
     "input": [
      "print 1/f_1.rescale('m')"
     ],
     "language": "python",
     "metadata": {},
     "outputs": [
      {
       "output_type": "stream",
       "stream": "stdout",
       "text": [
        "13.3333333333 1/m\n"
       ]
      }
     ],
     "prompt_number": 63
    },
    {
     "cell_type": "markdown",
     "metadata": {},
     "source": [
      "## RC constant"
     ]
    },
    {
     "cell_type": "code",
     "collapsed": false,
     "input": [
      "q.nf = q.UnitQuantity('nanofarad', q.farad/1e9, 'nF')\n",
      "r = 1*q.ohm\n",
      "c = 100 * q.nf"
     ],
     "language": "python",
     "metadata": {},
     "outputs": [],
     "prompt_number": 6
    },
    {
     "cell_type": "code",
     "collapsed": false,
     "input": [
      "print (1/(r*c)).rescale(q.MHz)"
     ],
     "language": "python",
     "metadata": {},
     "outputs": [
      {
       "output_type": "stream",
       "stream": "stdout",
       "text": [
        "10.0 MHz\n"
       ]
      }
     ],
     "prompt_number": 13
    },
    {
     "cell_type": "code",
     "collapsed": false,
     "input": [],
     "language": "python",
     "metadata": {},
     "outputs": []
    }
   ],
   "metadata": {}
  }
 ]
}