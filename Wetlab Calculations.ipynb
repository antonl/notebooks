{
 "metadata": {
  "name": "",
  "signature": "sha256:2580ccc5d40cb852b67aede1b3ae572826945c92ca990ce47895928ccbd20061"
 },
 "nbformat": 3,
 "nbformat_minor": 0,
 "worksheets": [
  {
   "cells": [
    {
     "cell_type": "code",
     "collapsed": false,
     "input": [
      "%pylab inline\n",
      "import pint\n",
      "q = pint.UnitRegistry()\n",
      "q.define('Molar = 1 mol / liter = M')"
     ],
     "language": "python",
     "metadata": {},
     "outputs": [
      {
       "output_type": "stream",
       "stream": "stdout",
       "text": [
        "Populating the interactive namespace from numpy and matplotlib\n"
       ]
      }
     ],
     "prompt_number": 6
    },
    {
     "cell_type": "heading",
     "level": 1,
     "metadata": {},
     "source": [
      "Mixing stuff"
     ]
    },
    {
     "cell_type": "markdown",
     "metadata": {},
     "source": [
      "Determine errors in mixing two buffers of different concentrations to get an intermediate concentration."
     ]
    },
    {
     "cell_type": "code",
     "collapsed": false,
     "input": [
      "m1 = (6.0*q.g)# MgSO4 salt\n",
      "\u03c11 = 120.37*q.g/q.mol\n",
      "V1 = 500*q.mL\n",
      "C1 = m1/\u03c11/V1\n",
      "print(C1.to('Molar'))"
     ],
     "language": "python",
     "metadata": {},
     "outputs": [
      {
       "output_type": "stream",
       "stream": "stdout",
       "text": [
        "0.09969261443881365 Molar\n"
       ]
      }
     ],
     "prompt_number": 17
    },
    {
     "cell_type": "code",
     "collapsed": false,
     "input": [
      "C1 = 10*q.mM\n",
      "C2 = 75*q.mM\n",
      "Cfinal = 23*q.mM \n",
      "Vfinal = 30*q.mL\n",
      "\n",
      "V1 = (Cfinal - C2)/(C1 - C2) * Vfinal\n",
      "print(\"V1: {:f}, V2: {:f}\".format(V1, Vfinal - V1))"
     ],
     "language": "python",
     "metadata": {},
     "outputs": [
      {
       "output_type": "stream",
       "stream": "stdout",
       "text": [
        "V1: 24.000000 milliliter, V2: 6.000000 milliliter\n"
       ]
      }
     ],
     "prompt_number": 12
    },
    {
     "cell_type": "code",
     "collapsed": false,
     "input": [],
     "language": "python",
     "metadata": {},
     "outputs": []
    }
   ],
   "metadata": {}
  }
 ]
}