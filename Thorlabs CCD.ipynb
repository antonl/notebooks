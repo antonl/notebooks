{
 "metadata": {
  "name": "",
  "signature": "sha256:cdc902e64c48410a19632d32a9aee9f711493682e899e39f2be4d99bdde9b9c0"
 },
 "nbformat": 3,
 "nbformat_minor": 0,
 "worksheets": []
}