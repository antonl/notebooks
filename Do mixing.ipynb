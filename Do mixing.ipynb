{
 "metadata": {
  "name": ""
 },
 "nbformat": 3,
 "nbformat_minor": 0,
 "worksheets": [
  {
   "cells": [
    {
     "cell_type": "code",
     "collapsed": false,
     "input": [
      "%pylab inline"
     ],
     "language": "python",
     "metadata": {},
     "outputs": [
      {
       "output_type": "stream",
       "stream": "stdout",
       "text": [
        "Populating the interactive namespace from numpy and matplotlib\n"
       ]
      }
     ],
     "prompt_number": 1
    },
    {
     "cell_type": "markdown",
     "metadata": {},
     "source": [
      "Predict the glassing of a given thing."
     ]
    },
    {
     "cell_type": "code",
     "collapsed": false,
     "input": [
      "v = 2\n",
      "vn = 1.75\n",
      "for p in linspace(10, 66, 10)/100:\n",
      "  print \"{:.2f}: {:.3f}, {:.3f}\".format(p, v*p, v*p/vn)"
     ],
     "language": "python",
     "metadata": {},
     "outputs": [
      {
       "output_type": "stream",
       "stream": "stdout",
       "text": [
        "0.10: 0.200, 0.114\n",
        "0.16: 0.324, 0.185\n",
        "0.22: 0.449, 0.257\n",
        "0.29: 0.573, 0.328\n",
        "0.35: 0.698, 0.399\n",
        "0.41: 0.822, 0.470\n",
        "0.47: 0.947, 0.541\n",
        "0.54: 1.071, 0.612\n",
        "0.60: 1.196, 0.683\n",
        "0.66: 1.320, 0.754\n"
       ]
      }
     ],
     "prompt_number": 7
    },
    {
     "cell_type": "code",
     "collapsed": false,
     "input": [],
     "language": "python",
     "metadata": {},
     "outputs": []
    }
   ],
   "metadata": {}
  }
 ]
}