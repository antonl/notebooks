{
 "metadata": {
  "name": "",
  "signature": "sha256:325cc985a8bacfe469cd1d862e5691f228fe01e46a47be74d18092e1f560963c"
 },
 "nbformat": 3,
 "nbformat_minor": 0,
 "worksheets": [
  {
   "cells": [
    {
     "cell_type": "code",
     "collapsed": false,
     "input": [
      "import functools\n",
      "import itertools\n",
      "import collections\n",
      "from functools import partial\n",
      "%pylab inline\n",
      "from matplotlib import rcParams\n",
      "import random\n",
      "import math"
     ],
     "language": "python",
     "metadata": {},
     "outputs": [
      {
       "output_type": "stream",
       "stream": "stdout",
       "text": [
        "Populating the interactive namespace from numpy and matplotlib\n"
       ]
      }
     ],
     "prompt_number": 1
    },
    {
     "cell_type": "code",
     "collapsed": false,
     "input": [
      "rcParams['axes.axisbelow'] = True\n",
      "rcParams['axes.xmargin'] = 0.05\n",
      "rcParams['axes.ymargin'] = 0.05\n",
      "rcParams['figure.dpi'] = 600\n",
      "rcParams['figure.figsize'] = (16, 8)\n",
      "rcParams['figure.facecolor'] = '#ffffff'\n",
      "\n",
      "rcParams['axes.facecolor'] = '#eeeeee'\n",
      "\n",
      "rcParams['font.size'] = 16 \n",
      "rcParams['font.weight'] = 'roman'\n",
      "rcParams['text.color'] = '#2e2e2e'\n",
      "rcParams['grid.alpha'] = 1.\n",
      "rcParams['grid.color'] = '#f5f5f5'\n",
      "rcParams['grid.linestyle'] = '-'\n",
      "rcParams['grid.linewidth'] = 2.0\n",
      "rcParams['lines.linewidth'] = 2\n",
      "rcParams['lines.antialiased'] = True\n",
      "\n",
      "rcParams['xtick.major.pad'] = 10\n",
      "rcParams['xtick.minor.pad'] = 10\n",
      "rcParams['ytick.major.pad'] = 10\n",
      "rcParams['ytick.minor.pad'] = 10"
     ],
     "language": "python",
     "metadata": {},
     "outputs": [],
     "prompt_number": 2
    },
    {
     "cell_type": "heading",
     "level": 2,
     "metadata": {},
     "source": [
      "Rolling Dice"
     ]
    },
    {
     "cell_type": "code",
     "collapsed": false,
     "input": [],
     "language": "python",
     "metadata": {},
     "outputs": [],
     "prompt_number": 2
    },
    {
     "cell_type": "code",
     "collapsed": false,
     "input": [
      "def two_rolls(i, target=4, n_trials=1000):\n",
      "    import itertools\n",
      "    import functools\n",
      "    import random\n",
      "    dieroll = functools.partial(random.choice, range(1,7))\n",
      "    times = itertools.count()\n",
      "    for i in range(0, n_trials + 1):\n",
      "        a,b = dieroll(), dieroll()\n",
      "        if (a == target) or (b == target):\n",
      "            next(times)\n",
      "        elif (a + b) == target:\n",
      "            next(times)\n",
      "    return (next(times) - 1)/n_trials\n",
      "\n",
      "def caller(callable, n, *args, **kwargs):\n",
      "    for i in range(n+1):\n",
      "        yield callable(*args, **kwargs)"
     ],
     "language": "python",
     "metadata": {},
     "outputs": [],
     "prompt_number": 3
    },
    {
     "cell_type": "code",
     "collapsed": false,
     "input": [
      "from IPython.parallel import Client\n",
      "cl = Client(profile='revelation', sshserver='aloukian@revelation.physics.lsa.umich.edu')\n",
      "bview = cl.load_balanced_view()"
     ],
     "language": "python",
     "metadata": {},
     "outputs": [],
     "prompt_number": 8
    },
    {
     "cell_type": "code",
     "collapsed": false,
     "input": [
      "hist([x for x in bview.imap(two_rolls, range(5000), target=4, n_trials=5000, ordered=False)], 30)\n",
      "grid()"
     ],
     "language": "python",
     "metadata": {},
     "outputs": [
      {
       "metadata": {},
       "output_type": "display_data",
       "png": "[encoded data removed]",
       "text": [
        "<matplotlib.figure.Figure at 0x104af2fd0>"
       ]
      }
     ],
     "prompt_number": 9
    },
    {
     "cell_type": "code",
     "collapsed": false,
     "input": [
      "cl.outstanding"
     ],
     "language": "python",
     "metadata": {},
     "outputs": [
      {
       "metadata": {},
       "output_type": "pyout",
       "prompt_number": 6,
       "text": [
        "set()"
       ]
      }
     ],
     "prompt_number": 6
    },
    {
     "cell_type": "code",
     "collapsed": false,
     "input": [
      "cl.close()"
     ],
     "language": "python",
     "metadata": {},
     "outputs": [],
     "prompt_number": 7
    },
    {
     "cell_type": "code",
     "collapsed": false,
     "input": [],
     "language": "python",
     "metadata": {},
     "outputs": []
    }
   ],
   "metadata": {}
  }
 ]
}